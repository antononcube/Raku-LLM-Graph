{
 "cells": [
  {
   "cell_type": "markdown",
   "id": "740ad330",
   "metadata": {},
   "source": [
    "# Best poet \n",
    "\n",
    "<p style=\"font-size: 20px; font-weight: bold; font-style: italic;\">...via LLM-graph</p>\n",
    "\n",
    "Anton Antonov   \n",
    "August 2025"
   ]
  },
  {
   "cell_type": "markdown",
   "id": "a47714a4",
   "metadata": {},
   "source": [
    "---\n",
    "\n",
    "## Introduction"
   ]
  },
  {
   "cell_type": "markdown",
   "id": "e9dda886",
   "metadata": {},
   "source": [
    "This notebook illustrates how to specify a Large Language Model (LLM) graph using different LLM personas representing four poets and a poem judge.\n",
    "The Raku package [\"LLM::Graph\"](https://raku.land/zef:antononcube/LLM::Graph) is used, [AAp1].\n",
    "\n",
    "(The poet-judge examples are inspired from the Wolfram Language function page of [`LLMGraph`](https://reference.wolfram.com/language/ref/LLMGraph.html), [WRIf1].)"
   ]
  },
  {
   "cell_type": "markdown",
   "id": "0395dbf0",
   "metadata": {},
   "source": [
    "----\n",
    "\n",
    "## Setup"
   ]
  },
  {
   "cell_type": "code",
   "execution_count": 1,
   "id": "56d9e62c",
   "metadata": {},
   "outputs": [],
   "source": [
    "use LLM::Functions;\n",
    "use LLM::Graph;"
   ]
  },
  {
   "cell_type": "code",
   "execution_count": 2,
   "id": "431899d7",
   "metadata": {},
   "outputs": [],
   "source": [
    "sink my $conf5 = llm-configuration('ChatGPT', model => 'gpt-5');\n",
    "sink my $conf5-mini = llm-configuration('ChatGPT', model => 'gpt-5-mini');\n",
    "sink my $conf5-nano = llm-configuration('ChatGPT', model => 'gpt-5-nano');\n",
    "sink my $conf41 = llm-configuration('ChatGPT', model => 'gpt-4.1', temperature => 0.55, max-tokens => 8192);\n",
    "sink my $conf41-mini = llm-configuration('ChatGPT', model => 'gpt-4.1-mini', temperature => 0.55, max-tokens => 8192);\n",
    "sink my $conf-gemini-pro = llm-configuration('Gemini', model => 'gemini-2.5-pro', temperature => 0.55, max-tokens => 8192);\n",
    "sink my $conf-gemini-flash = llm-configuration('Gemini', model => 'gemini-2.5-flash', temperature => 0.55, max-tokens => 8192);"
   ]
  },
  {
   "cell_type": "markdown",
   "id": "2fa3e887",
   "metadata": {},
   "source": [
    "-----\n",
    "\n",
    "## LLM graph"
   ]
  },
  {
   "cell_type": "markdown",
   "id": "187551b0",
   "metadata": {},
   "source": [
    "Nodes spec:"
   ]
  },
  {
   "cell_type": "code",
   "execution_count": 3,
   "id": "ef2e18e0",
   "metadata": {},
   "outputs": [],
   "source": [
    "sink my %rules =\n",
    "    poet1 => \"Write a short poem about summer.\",\n",
    "    poet2 => \"Write a haiku about winter.\",\n",
    "    poet3 => sub ($topic, $style) {\"Write a poem about $topic in the style $style.\"},\n",
    "    judge => sub ($poet1, $poet2, $poet3) {\n",
    "        [\"Choose the best composition of your among these:\\n\\n\",\n",
    "        \"1) Poem1: $poet1\",\n",
    "        \"2) Poem2: $poet2\",\n",
    "        \"3) Poem3: $poet3\", \n",
    "        \"and copy it:\"].join(\"\\n\\n\") }\n",
    ";"
   ]
  },
  {
   "cell_type": "markdown",
   "id": "d3312f43",
   "metadata": {},
   "source": [
    "More complicated spec:"
   ]
  },
  {
   "cell_type": "code",
   "execution_count": 4,
   "id": "1cadefeb",
   "metadata": {},
   "outputs": [],
   "source": [
    "sink my %rules =\n",
    "        poet1 => \"Write a short poem about summer.\",\n",
    "        poet2 => \"Write a haiku about winter.\",\n",
    "        poet3 => sub ($topic, $style) {\n",
    "            \"Write a poem about $topic in the $style style.\"\n",
    "        },\n",
    "        poet4 => {\n",
    "                eval-function => {llm-synthesize('You are a famous Russian poet. Write a short poem about playing bears.')},\n",
    "                test-function => -> $with-russian { $with-russian ~~ Bool:D && $with-russian || $with-russian.Str.lc ∈ <true yes> }\n",
    "        },\n",
    "        judge => sub ($poet1, $poet2, $poet3, $poet4) {\n",
    "            [\n",
    "                \"Choose the composition you think is best among these:\\n\\n\",\n",
    "                \"1) Poem1: $poet1\",\n",
    "                \"2) Poem2: $poet2\",\n",
    "                \"3) Poem3: {$poet4.defined && $poet4 ?? $poet4 !! $poet3}\",\n",
    "                \"and copy it:\"\n",
    "            ].join(\"\\n\\n\")\n",
    "        };"
   ]
  },
  {
   "cell_type": "markdown",
   "id": "54359a5d",
   "metadata": {},
   "source": [
    "Make the graph:"
   ]
  },
  {
   "cell_type": "code",
   "execution_count": 5,
   "id": "db1138af",
   "metadata": {},
   "outputs": [
    {
     "data": {
      "text/plain": [
       "LLM::Graph(size => 5, nodes => judge, poet1, poet2, poet3, poet4)"
      ]
     },
     "execution_count": 5,
     "metadata": {},
     "output_type": "execute_result"
    }
   ],
   "source": [
    "my $gBestPoem = LLM::Graph.new(%rules, llm-evaluator => $conf41-mini):async"
   ]
  },
  {
   "cell_type": "markdown",
   "id": "376d47fd",
   "metadata": {},
   "source": [
    "----\n",
    "\n",
    "## Full computation"
   ]
  },
  {
   "cell_type": "code",
   "execution_count": 6,
   "id": "4fccfb99",
   "metadata": {},
   "outputs": [
    {
     "data": {
      "text/plain": [
       "LLM::Graph(size => 5, nodes => judge, poet1, poet2, poet3, poet4)"
      ]
     },
     "execution_count": 6,
     "metadata": {},
     "output_type": "execute_result"
    }
   ],
   "source": [
    "$gBestPoem.eval(topic => 'Hockey', style => 'limerick', with-russian => 'yes')"
   ]
  },
  {
   "cell_type": "code",
   "execution_count": 7,
   "id": "4acbe731",
   "metadata": {},
   "outputs": [
    {
     "data": {
      "text/html": [
       "<?xml version=\"1.0\" encoding=\"UTF-8\" standalone=\"no\"?>\n",
       "<!DOCTYPE svg PUBLIC \"-//W3C//DTD SVG 1.1//EN\"\n",
       " \"http://www.w3.org/Graphics/SVG/1.1/DTD/svg11.dtd\">\n",
       "<!-- Generated by graphviz version 12.2.1 (20241206.2353)\n",
       " -->\n",
       "<!-- Pages: 1 -->\n",
       "<svg width=\"648pt\" height=\"196pt\"\n",
       " viewBox=\"0.00 0.00 648.00 195.94\" xmlns=\"http://www.w3.org/2000/svg\" xmlns:xlink=\"http://www.w3.org/1999/xlink\">\n",
       "<g id=\"graph0\" class=\"graph\" transform=\"scale(1.21856 1.21856) rotate(0) translate(4 156.8)\">\n",
       "<polygon fill=\"none\" stroke=\"none\" points=\"-4,4 -4,-156.8 527.78,-156.8 527.78,4 -4,4\"/>\n",
       "<g id=\"clust1\" class=\"cluster\">\n",
       "<title>poet3_Cluster</title>\n",
       "<polygon fill=\"none\" stroke=\"Grey\" stroke-dasharray=\"5,2\" points=\"319.99,-65.6 319.99,-103.2 421.99,-103.2 421.99,-65.6 319.99,-65.6\"/>\n",
       "</g>\n",
       "<g id=\"clust2\" class=\"cluster\">\n",
       "<title>judge_Cluster</title>\n",
       "<polygon fill=\"none\" stroke=\"Grey\" stroke-dasharray=\"5,2\" points=\"157.99,-8 157.99,-45.6 259.99,-45.6 259.99,-8 157.99,-8\"/>\n",
       "</g>\n",
       "<!-- $_ -->\n",
       "<g id=\"node1\" class=\"node\">\n",
       "<title>$_</title>\n",
       "<polygon fill=\"SteelBlue\" stroke=\"Black\" points=\"199.78,-152.8 128.53,-152.8 110.2,-131.2 181.45,-131.2 199.78,-152.8\"/>\n",
       "<text text-anchor=\"middle\" x=\"154.99\" y=\"-137.72\" font-family=\"Times,serif\" font-size=\"12.00\" fill=\"White\">$_</text>\n",
       "</g>\n",
       "<!-- poet1 -->\n",
       "<g id=\"node3\" class=\"node\">\n",
       "<title>poet1</title>\n",
       "<polygon fill=\"SteelBlue\" stroke=\"Black\" points=\"50.25,-73.63 53.06,-73.69 55.85,-73.78 58.6,-73.89 61.3,-74.04 63.93,-74.22 66.49,-74.42 68.97,-74.65 71.35,-74.91 73.64,-75.19 75.81,-75.5 77.87,-75.83 79.81,-76.18 81.61,-76.56 83.28,-76.96 84.81,-77.38 86.2,-77.82 87.44,-78.28 88.53,-78.76 89.47,-79.24 90.26,-79.75 90.9,-80.27 91.39,-80.79 91.73,-81.33 91.93,-81.88 91.98,-82.43 91.89,-82.99 91.67,-83.55 91.32,-84.12 90.84,-84.68 90.24,-85.25 89.52,-85.81 88.69,-86.37 87.76,-86.92 86.74,-87.47 85.62,-88.01 84.42,-88.53 83.14,-89.05 81.78,-89.56 80.36,-90.04 78.88,-90.52 77.34,-90.98 75.76,-91.42 74.13,-91.84 72.46,-92.24 70.75,-92.62 69.02,-92.97 67.26,-93.3 65.47,-93.61 63.67,-93.89 61.84,-94.15 60.01,-94.38 58.16,-94.58 56.3,-94.76 54.44,-94.91 52.57,-95.02 50.69,-95.11 48.81,-95.17 46.93,-95.2 45.05,-95.2 43.17,-95.17 41.29,-95.11 39.41,-95.02 37.54,-94.91 35.68,-94.76 33.82,-94.58 31.97,-94.38 30.13,-94.15 28.31,-93.89 26.51,-93.61 24.72,-93.3 22.96,-92.97 21.23,-92.62 19.52,-92.24 17.85,-91.84 16.22,-91.42 14.64,-90.98 13.1,-90.52 11.62,-90.04 10.2,-89.56 8.84,-89.05 7.56,-88.53 6.36,-88.01 5.24,-87.47 4.21,-86.92 3.29,-86.37 2.46,-85.81 1.74,-85.25 1.14,-84.68 0.66,-84.12 0.31,-83.55 0.09,-82.99 0,-82.43 0.05,-81.88 0.25,-81.33 0.59,-80.79 1.08,-80.27 1.72,-79.75 2.51,-79.24 3.45,-78.76 4.54,-78.28 5.78,-77.82 7.17,-77.38 8.7,-76.96 10.37,-76.56 12.17,-76.18 14.11,-75.83 16.16,-75.5 18.34,-75.19 20.62,-74.91 23.01,-74.65 25.49,-74.42 28.05,-74.22 30.68,-74.04 33.38,-73.89 36.13,-73.78 38.92,-73.69 41.73,-73.63 44.57,-73.6 47.41,-73.6 50.25,-73.63\"/>\n",
       "<text text-anchor=\"middle\" x=\"45.99\" y=\"-80.12\" font-family=\"Times,serif\" font-size=\"12.00\" fill=\"White\">poet1</text>\n",
       "</g>\n",
       "<!-- $_&#45;&gt;poet1 -->\n",
       "<g id=\"edge7\" class=\"edge\">\n",
       "<title>$_&#45;&gt;poet1</title>\n",
       "<path fill=\"none\" stroke=\"SteelBlue\" stroke-width=\"0.8\" d=\"M135,-130.8C117.68,-121.97 92.46,-109.1 73.28,-99.32\"/>\n",
       "<polygon fill=\"SteelBlue\" stroke=\"SteelBlue\" stroke-width=\"0.8\" points=\"74.92,-96.23 64.42,-94.8 71.74,-102.46 74.92,-96.23\"/>\n",
       "</g>\n",
       "<!-- poet2 -->\n",
       "<g id=\"node4\" class=\"node\">\n",
       "<title>poet2</title>\n",
       "<polygon fill=\"SteelBlue\" stroke=\"Black\" points=\"160.25,-73.63 163.06,-73.69 165.85,-73.78 168.6,-73.89 171.3,-74.04 173.93,-74.22 176.49,-74.42 178.97,-74.65 181.35,-74.91 183.64,-75.19 185.81,-75.5 187.87,-75.83 189.81,-76.18 191.61,-76.56 193.28,-76.96 194.81,-77.38 196.2,-77.82 197.44,-78.28 198.53,-78.76 199.47,-79.24 200.26,-79.75 200.9,-80.27 201.39,-80.79 201.73,-81.33 201.93,-81.88 201.98,-82.43 201.89,-82.99 201.67,-83.55 201.32,-84.12 200.84,-84.68 200.24,-85.25 199.52,-85.81 198.69,-86.37 197.76,-86.92 196.74,-87.47 195.62,-88.01 194.42,-88.53 193.14,-89.05 191.78,-89.56 190.36,-90.04 188.88,-90.52 187.34,-90.98 185.76,-91.42 184.13,-91.84 182.46,-92.24 180.75,-92.62 179.02,-92.97 177.26,-93.3 175.47,-93.61 173.67,-93.89 171.84,-94.15 170.01,-94.38 168.16,-94.58 166.3,-94.76 164.44,-94.91 162.57,-95.02 160.69,-95.11 158.81,-95.17 156.93,-95.2 155.05,-95.2 153.17,-95.17 151.29,-95.11 149.41,-95.02 147.54,-94.91 145.68,-94.76 143.82,-94.58 141.97,-94.38 140.13,-94.15 138.31,-93.89 136.51,-93.61 134.72,-93.3 132.96,-92.97 131.23,-92.62 129.52,-92.24 127.85,-91.84 126.22,-91.42 124.64,-90.98 123.1,-90.52 121.62,-90.04 120.2,-89.56 118.84,-89.05 117.56,-88.53 116.36,-88.01 115.24,-87.47 114.21,-86.92 113.29,-86.37 112.46,-85.81 111.74,-85.25 111.14,-84.68 110.66,-84.12 110.31,-83.55 110.09,-82.99 110,-82.43 110.05,-81.88 110.25,-81.33 110.59,-80.79 111.08,-80.27 111.72,-79.75 112.51,-79.24 113.45,-78.76 114.54,-78.28 115.78,-77.82 117.17,-77.38 118.7,-76.96 120.37,-76.56 122.17,-76.18 124.11,-75.83 126.16,-75.5 128.34,-75.19 130.62,-74.91 133.01,-74.65 135.49,-74.42 138.05,-74.22 140.68,-74.04 143.38,-73.89 146.13,-73.78 148.92,-73.69 151.73,-73.63 154.57,-73.6 157.41,-73.6 160.25,-73.63\"/>\n",
       "<text text-anchor=\"middle\" x=\"155.99\" y=\"-80.12\" font-family=\"Times,serif\" font-size=\"12.00\" fill=\"White\">poet2</text>\n",
       "</g>\n",
       "<!-- $_&#45;&gt;poet2 -->\n",
       "<g id=\"edge9\" class=\"edge\">\n",
       "<title>$_&#45;&gt;poet2</title>\n",
       "<path fill=\"none\" stroke=\"SteelBlue\" stroke-width=\"0.8\" d=\"M155.17,-130.8C155.29,-124.06 155.46,-114.98 155.61,-106.7\"/>\n",
       "<polygon fill=\"SteelBlue\" stroke=\"SteelBlue\" stroke-width=\"0.8\" points=\"159.1,-106.81 155.79,-96.74 152.11,-106.68 159.1,-106.81\"/>\n",
       "</g>\n",
       "<!-- poet4 -->\n",
       "<g id=\"node6\" class=\"node\">\n",
       "<title>poet4</title>\n",
       "<polygon fill=\"SteelBlue\" stroke=\"Black\" points=\"306.19,-95.2 219.79,-95.2 219.79,-73.6 306.19,-73.6 306.19,-95.2\"/>\n",
       "<text text-anchor=\"middle\" x=\"262.99\" y=\"-80.12\" font-family=\"Times,serif\" font-size=\"12.00\" fill=\"White\">poet4</text>\n",
       "</g>\n",
       "<!-- $_&#45;&gt;poet4 -->\n",
       "<g id=\"edge8\" class=\"edge\">\n",
       "<title>$_&#45;&gt;poet4</title>\n",
       "<path fill=\"none\" stroke=\"SteelBlue\" stroke-width=\"0.8\" d=\"M174.8,-130.8C191.24,-122.34 214.87,-110.17 233.53,-100.57\"/>\n",
       "<polygon fill=\"SteelBlue\" stroke=\"SteelBlue\" stroke-width=\"0.8\" points=\"234.94,-103.78 242.23,-96.09 231.74,-97.55 234.94,-103.78\"/>\n",
       "</g>\n",
       "<!-- judge -->\n",
       "<g id=\"node2\" class=\"node\">\n",
       "<title>judge</title>\n",
       "<ellipse fill=\"SteelBlue\" stroke=\"Black\" cx=\"208.99\" cy=\"-26.8\" rx=\"43.2\" ry=\"10.8\"/>\n",
       "<text text-anchor=\"middle\" x=\"208.99\" y=\"-22.52\" font-family=\"Times,serif\" font-size=\"12.00\" fill=\"White\">judge</text>\n",
       "</g>\n",
       "<!-- poet1&#45;&gt;judge -->\n",
       "<g id=\"edge2\" class=\"edge\">\n",
       "<title>poet1&#45;&gt;judge</title>\n",
       "<path fill=\"none\" stroke=\"SteelBlue\" stroke-width=\"0.8\" d=\"M71.82,-74.59C99.52,-65.14 143.66,-50.08 174.36,-39.61\"/>\n",
       "<polygon fill=\"SteelBlue\" stroke=\"SteelBlue\" stroke-width=\"0.8\" points=\"175.13,-43.05 183.47,-36.51 172.87,-36.42 175.13,-43.05\"/>\n",
       "</g>\n",
       "<!-- poet2&#45;&gt;judge -->\n",
       "<g id=\"edge10\" class=\"edge\">\n",
       "<title>poet2&#45;&gt;judge</title>\n",
       "<path fill=\"none\" stroke=\"SteelBlue\" stroke-width=\"0.8\" d=\"M165.46,-73.46C172.85,-65.71 183.3,-54.75 192.1,-45.51\"/>\n",
       "<polygon fill=\"SteelBlue\" stroke=\"SteelBlue\" stroke-width=\"0.8\" points=\"194.39,-48.18 198.76,-38.53 189.33,-43.35 194.39,-48.18\"/>\n",
       "</g>\n",
       "<!-- poet3 -->\n",
       "<g id=\"node5\" class=\"node\">\n",
       "<title>poet3</title>\n",
       "<ellipse fill=\"SteelBlue\" stroke=\"Black\" cx=\"370.99\" cy=\"-84.4\" rx=\"43.2\" ry=\"10.8\"/>\n",
       "<text text-anchor=\"middle\" x=\"370.99\" y=\"-80.12\" font-family=\"Times,serif\" font-size=\"12.00\" fill=\"White\">poet3</text>\n",
       "</g>\n",
       "<!-- poet3&#45;&gt;judge -->\n",
       "<g id=\"edge1\" class=\"edge\">\n",
       "<title>poet3&#45;&gt;judge</title>\n",
       "<path fill=\"none\" stroke=\"SteelBlue\" stroke-width=\"0.8\" d=\"M346.74,-75.08C319.34,-65.67 274.53,-50.29 243.5,-39.64\"/>\n",
       "<polygon fill=\"SteelBlue\" stroke=\"SteelBlue\" stroke-width=\"0.8\" points=\"244.88,-36.42 234.29,-36.48 242.61,-43.04 244.88,-36.42\"/>\n",
       "</g>\n",
       "<!-- poet4&#45;&gt;judge -->\n",
       "<g id=\"edge3\" class=\"edge\">\n",
       "<title>poet4&#45;&gt;judge</title>\n",
       "<path fill=\"none\" stroke=\"SteelBlue\" stroke-width=\"0.8\" d=\"M253.09,-73.2C245.53,-65.43 234.95,-54.53 226.04,-45.36\"/>\n",
       "<polygon fill=\"SteelBlue\" stroke=\"SteelBlue\" stroke-width=\"0.8\" points=\"228.79,-43.16 219.31,-38.43 223.77,-48.04 228.79,-43.16\"/>\n",
       "</g>\n",
       "<!-- style -->\n",
       "<g id=\"node7\" class=\"node\">\n",
       "<title>style</title>\n",
       "<polygon fill=\"SteelBlue\" stroke=\"Black\" points=\"415.78,-152.8 344.53,-152.8 326.2,-131.2 397.45,-131.2 415.78,-152.8\"/>\n",
       "<text text-anchor=\"middle\" x=\"370.99\" y=\"-137.72\" font-family=\"Times,serif\" font-size=\"12.00\" fill=\"White\">style</text>\n",
       "</g>\n",
       "<!-- style&#45;&gt;poet3 -->\n",
       "<g id=\"edge5\" class=\"edge\">\n",
       "<title>style&#45;&gt;poet3</title>\n",
       "<path fill=\"none\" stroke=\"SteelBlue\" stroke-width=\"0.8\" d=\"M370.99,-130.8C370.99,-124.06 370.99,-114.98 370.99,-106.7\"/>\n",
       "<polygon fill=\"SteelBlue\" stroke=\"SteelBlue\" stroke-width=\"0.8\" points=\"374.49,-106.74 370.99,-96.74 367.49,-106.74 374.49,-106.74\"/>\n",
       "</g>\n",
       "<!-- topic -->\n",
       "<g id=\"node8\" class=\"node\">\n",
       "<title>topic</title>\n",
       "<polygon fill=\"SteelBlue\" stroke=\"Black\" points=\"523.78,-152.8 452.53,-152.8 434.2,-131.2 505.45,-131.2 523.78,-152.8\"/>\n",
       "<text text-anchor=\"middle\" x=\"478.99\" y=\"-137.72\" font-family=\"Times,serif\" font-size=\"12.00\" fill=\"White\">topic</text>\n",
       "</g>\n",
       "<!-- topic&#45;&gt;poet3 -->\n",
       "<g id=\"edge4\" class=\"edge\">\n",
       "<title>topic&#45;&gt;poet3</title>\n",
       "<path fill=\"none\" stroke=\"SteelBlue\" stroke-width=\"0.8\" d=\"M459.18,-130.8C442.22,-122.07 417.63,-109.41 398.72,-99.67\"/>\n",
       "<polygon fill=\"SteelBlue\" stroke=\"SteelBlue\" stroke-width=\"0.8\" points=\"400.45,-96.63 389.96,-95.16 397.25,-102.85 400.45,-96.63\"/>\n",
       "</g>\n",
       "<!-- with&#45;russian -->\n",
       "<g id=\"node9\" class=\"node\">\n",
       "<title>with&#45;russian</title>\n",
       "<polygon fill=\"SteelBlue\" stroke=\"Black\" points=\"307.78,-152.8 236.53,-152.8 218.2,-131.2 289.45,-131.2 307.78,-152.8\"/>\n",
       "<text text-anchor=\"middle\" x=\"262.99\" y=\"-137.72\" font-family=\"Times,serif\" font-size=\"12.00\" fill=\"White\">with&#45;russian</text>\n",
       "</g>\n",
       "<!-- with&#45;russian&#45;&gt;poet4 -->\n",
       "<g id=\"edge6\" class=\"edge\">\n",
       "<title>with&#45;russian&#45;&gt;poet4</title>\n",
       "<path fill=\"none\" stroke=\"SteelBlue\" stroke-width=\"0.8\" stroke-dasharray=\"5,2\" d=\"M262.99,-130.8C262.99,-124.06 262.99,-114.98 262.99,-106.7\"/>\n",
       "<polygon fill=\"SteelBlue\" stroke=\"SteelBlue\" stroke-width=\"0.8\" points=\"266.49,-106.74 262.99,-96.74 259.49,-106.74 266.49,-106.74\"/>\n",
       "</g>\n",
       "</g>\n",
       "</svg>\n"
      ]
     },
     "execution_count": 7,
     "metadata": {},
     "output_type": "execute_result"
    }
   ],
   "source": [
    "#% html\n",
    "$gBestPoem.dot(engine => 'dot', :9graph-size, node-width => 1.2, theme => 'default'):svg"
   ]
  },
  {
   "cell_type": "code",
   "execution_count": 8,
   "id": "0be29789",
   "metadata": {},
   "outputs": [
    {
     "name": "stdout",
     "output_type": "stream",
     "text": [
      "input => [poet4 poet1 poet3 poet2]\n",
      "wrapper => Routine::WrapHandle.new\n",
      "spec-type => (Routine)\n",
      "eval-function => sub { }\n",
      "test-function-input => []\n",
      "result => I think Poem3 is the best among these. Here it is:\n",
      "\n",
      "В тени весёлых берёз и сосен,  \n",
      "Где шёпот мечты и живой лес зовёт,  \n",
      "Играть с медвежатами — счастье и весна,  \n",
      "В их тёплых лапах — мир детства живёт.\n",
      "\n",
      "Медведи, как стражи лесных тропинок,  \n",
      "С нами шутят, танцуют в кругу,  \n",
      "И в этой сказке — смех и искры,  \n",
      "Где каждый миг — как новый друг.\n"
     ]
    }
   ],
   "source": [
    ".say for |$gBestPoem.nodes<judge>"
   ]
  },
  {
   "cell_type": "code",
   "execution_count": 9,
   "id": "7fe8f68a",
   "metadata": {},
   "outputs": [
    {
     "data": {
      "text/html": [
       "<table border=\"1\"><tr><th>poet1</th><td align=left>Golden rays and skies so blue,  \n",
       "Whispers of the warm wind through,  \n",
       "Laughter dances, oceans gleam,  \n",
       "Summer sings a sunlit dream.</td></tr><tr><th>poet4</th><td align=left>В тени весёлых берёз и сосен,  \n",
       "Где шёпот мечты и живой лес зовёт,  \n",
       "Играть с медвежатами — счастье и весна,  \n",
       "В их тёплых лапах — мир детства живёт.\n",
       "\n",
       "Медведи, как стражи лесных тропинок,  \n",
       "С нами шутят, танцуют в кругу,  \n",
       "И в этой сказке — смех и искры,  \n",
       "Где каждый миг — как новый друг.</td></tr><tr><th>judge</th><td align=left>I think Poem3 is the best among these. Here it is:\n",
       "\n",
       "В тени весёлых берёз и сосен,  \n",
       "Где шёпот мечты и живой лес зовёт,  \n",
       "Играть с медвежатами — счастье и весна,  \n",
       "В их тёплых лапах — мир детства живёт.\n",
       "\n",
       "Медведи, как стражи лесных тропинок,  \n",
       "С нами шутят, танцуют в кругу,  \n",
       "И в этой сказке — смех и искры,  \n",
       "Где каждый миг — как новый друг.</td></tr><tr><th>poet2</th><td align=left>Silent snow descends,  \n",
       "Blanketing the earth in white,  \n",
       "Whispers cold and calm.</td></tr><tr><th>poet3</th><td align=left>There once was a puck on the ice,  \n",
       "That players would chase in a trice.  \n",
       "With sticks held up high,  \n",
       "They’d skate swiftly by,  \n",
       "Scoring goals that were always quite nice!</td></tr></table>"
      ]
     },
     "execution_count": 9,
     "metadata": {},
     "output_type": "execute_result"
    }
   ],
   "source": [
    "#% html\n",
    "$gBestPoem.nodes.nodemap(*<result>).nodemap({ $_ ~~ Promise:D ?? $_.result !! $_ })\n",
    "==> to-html(align => 'left')"
   ]
  },
  {
   "cell_type": "markdown",
   "id": "3903b333",
   "metadata": {},
   "source": [
    "-----\n",
    "\n",
    "## References"
   ]
  },
  {
   "cell_type": "markdown",
   "id": "cacec1cf",
   "metadata": {},
   "source": [
    "[AAp1] Anton Antonov, \n",
    "[LLM::Graph, Raku package](https://github.com/antononcube/Raku-LLM-Graph),\n",
    "(2025),\n",
    "[GitHub/antononcube](https://github.com/antononcube).\n",
    "\n",
    "[WRIf1] Wolfram Research (2025), \n",
    "[LLMGraph](https://reference.wolfram.com/language/ref/LLMGraph.html), \n",
    "[Wolfram Language function](https://reference.wolfram.com/language)."
   ]
  }
 ],
 "metadata": {
  "kernelspec": {
   "display_name": "RakuChatbook",
   "language": "raku",
   "name": "raku"
  },
  "language_info": {
   "file_extension": ".raku",
   "mimetype": "text/x-raku",
   "name": "raku",
   "version": "6.d"
  }
 },
 "nbformat": 4,
 "nbformat_minor": 5
}
