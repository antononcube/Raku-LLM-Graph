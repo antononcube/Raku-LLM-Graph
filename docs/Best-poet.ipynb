{
 "cells": [
  {
   "cell_type": "markdown",
   "id": "740ad330",
   "metadata": {},
   "source": [
    "# Best poet example\n",
    "\n",
    "Anton Antonov   \n",
    "August 2025"
   ]
  },
  {
   "cell_type": "markdown",
   "id": "a47714a4",
   "metadata": {},
   "source": [
    "---\n",
    "\n",
    "## Introduction"
   ]
  },
  {
   "cell_type": "markdown",
   "id": "e9dda886",
   "metadata": {},
   "source": [
    "This notebook illustrates how to specify a Large Language Model (LLM) graph using different LLM personas representing four poets and a poem judge.\n",
    "The Raku package [\"LLM::Graph\"](https://raku.land/zef:antononcube/LLM::Graph) is used, [AAp1].\n",
    "\n",
    "(The poet-judge examples are inspired from the Wolfram Language function page of [`LLMGraph`](https://reference.wolfram.com/language/ref/LLMGraph.html), [WRIf1].)"
   ]
  },
  {
   "cell_type": "markdown",
   "id": "0395dbf0",
   "metadata": {},
   "source": [
    "----\n",
    "\n",
    "## Setup"
   ]
  },
  {
   "cell_type": "code",
   "execution_count": 1,
   "id": "56d9e62c",
   "metadata": {},
   "outputs": [],
   "source": [
    "use LLM::Graph;\n",
    "use Graph;\n",
    "use LLM::Functions;"
   ]
  },
  {
   "cell_type": "code",
   "execution_count": 2,
   "id": "1f62729d",
   "metadata": {},
   "outputs": [
    {
     "data": {
      "text/plain": [
       "neato"
      ]
     },
     "execution_count": 2,
     "metadata": {},
     "output_type": "execute_result"
    }
   ],
   "source": [
    "my $engine = 'neato';"
   ]
  },
  {
   "cell_type": "markdown",
   "id": "2fa3e887",
   "metadata": {},
   "source": [
    "-----\n",
    "\n",
    "## LLM graph"
   ]
  },
  {
   "cell_type": "markdown",
   "id": "187551b0",
   "metadata": {},
   "source": [
    "Nodes spec:"
   ]
  },
  {
   "cell_type": "code",
   "execution_count": 3,
   "id": "ef2e18e0",
   "metadata": {},
   "outputs": [],
   "source": [
    "sink my %rules =\n",
    "    poet1 => \"Write a short poem about summer.\",\n",
    "    poet2 => \"Write a haiku about winter.\",\n",
    "    poet3 => sub ($topic, $style) {\"Write a poem about $topic in the style $style.\"},\n",
    "    judge => sub ($poet1, $poet2, $poet3) {\n",
    "        [\"Choose the best composition of your among these:\\n\\n\",\n",
    "        \"1) Poem1: $poet1\",\n",
    "        \"2) Poem2: $poet2\",\n",
    "        \"3) Poem3: $poet3\", \n",
    "        \"and copy it:\"].join(\"\\n\\n\") }\n",
    ";"
   ]
  },
  {
   "cell_type": "markdown",
   "id": "d3312f43",
   "metadata": {},
   "source": [
    "More complicated spec:"
   ]
  },
  {
   "cell_type": "code",
   "execution_count": 4,
   "id": "1cadefeb",
   "metadata": {},
   "outputs": [],
   "source": [
    "sink my %rules =\n",
    "        poet1 => \"Write a short poem about summer.\",\n",
    "        poet2 => \"Write a haiku about winter.\",\n",
    "        poet3 => sub ($topic, $style) {\n",
    "            \"Write a poem about $topic in the $style style.\"\n",
    "        },\n",
    "        poet4 => {\n",
    "                eval-function => {llm-synthesize('You are a famous Russian poet. Write a short poem about playing bears.')},\n",
    "                test-function => -> $with-russian { $with-russian ~~ Bool:D && $with-russian || $with-russian.Str.lc ∈ <true yes> }\n",
    "        },\n",
    "        judge => sub ($poet1, $poet2, $poet3, $poet4) {\n",
    "            [\n",
    "                \"Choose the composition you think is best among these:\\n\\n\",\n",
    "                \"1) Poem1: $poet1\",\n",
    "                \"2) Poem2: $poet2\",\n",
    "                \"3) Poem3: {$poet4.defined && $poet4 ?? $poet4 !! $poet3}\",\n",
    "                \"and copy it:\"\n",
    "            ].join(\"\\n\\n\")\n",
    "        };"
   ]
  },
  {
   "cell_type": "markdown",
   "id": "54359a5d",
   "metadata": {},
   "source": [
    "Make the graph:"
   ]
  },
  {
   "cell_type": "code",
   "execution_count": 5,
   "id": "db1138af",
   "metadata": {},
   "outputs": [
    {
     "data": {
      "text/plain": [
       "LLM::Graph(size => 5, nodes => judge, poet1, poet2, poet3, poet4)"
      ]
     },
     "execution_count": 5,
     "metadata": {},
     "output_type": "execute_result"
    }
   ],
   "source": [
    "my $gBestPoem = LLM::Graph.new(%rules)"
   ]
  },
  {
   "cell_type": "markdown",
   "id": "376d47fd",
   "metadata": {},
   "source": [
    "----\n",
    "\n",
    "## Full computation"
   ]
  },
  {
   "cell_type": "code",
   "execution_count": 6,
   "id": "4fccfb99",
   "metadata": {},
   "outputs": [
    {
     "data": {
      "text/plain": [
       "LLM::Graph(size => 5, nodes => judge, poet1, poet2, poet3, poet4)"
      ]
     },
     "execution_count": 6,
     "metadata": {},
     "output_type": "execute_result"
    }
   ],
   "source": [
    "$gBestPoem.eval(topic => 'Hockey', style => 'limerick', with-russian => 'yes')"
   ]
  },
  {
   "cell_type": "code",
   "execution_count": 7,
   "id": "4acbe731",
   "metadata": {},
   "outputs": [
    {
     "data": {
      "text/html": [
       "<?xml version=\"1.0\" encoding=\"UTF-8\" standalone=\"no\"?>\n",
       "<!DOCTYPE svg PUBLIC \"-//W3C//DTD SVG 1.1//EN\"\n",
       " \"http://www.w3.org/Graphics/SVG/1.1/DTD/svg11.dtd\">\n",
       "<!-- Generated by graphviz version 12.2.1 (20241206.2353)\n",
       " -->\n",
       "<!-- Pages: 1 -->\n",
       "<svg width=\"648pt\" height=\"179pt\"\n",
       " viewBox=\"0.00 0.00 648.00 178.55\" xmlns=\"http://www.w3.org/2000/svg\" xmlns:xlink=\"http://www.w3.org/1999/xlink\">\n",
       "<g id=\"graph0\" class=\"graph\" transform=\"scale(1.1104 1.1104) rotate(0) translate(4 156.8)\">\n",
       "<polygon fill=\"none\" stroke=\"none\" points=\"-4,4 -4,-156.8 579.58,-156.8 579.58,4 -4,4\"/>\n",
       "<g id=\"clust1\" class=\"cluster\">\n",
       "<title>judge_Cluster</title>\n",
       "<polygon fill=\"none\" stroke=\"Grey\" stroke-dasharray=\"5,2\" points=\"263.79,-8 263.79,-45.6 365.79,-45.6 365.79,-8 263.79,-8\"/>\n",
       "</g>\n",
       "<g id=\"clust2\" class=\"cluster\">\n",
       "<title>poet3_Cluster</title>\n",
       "<polygon fill=\"none\" stroke=\"Grey\" stroke-dasharray=\"5,2\" points=\"425.79,-65.6 425.79,-103.2 527.79,-103.2 527.79,-65.6 425.79,-65.6\"/>\n",
       "</g>\n",
       "<!-- $_ -->\n",
       "<g id=\"node1\" class=\"node\">\n",
       "<title>$_</title>\n",
       "<polygon fill=\"SteelBlue\" stroke=\"Black\" points=\"89.58,-152.8 18.33,-152.8 0,-131.2 71.25,-131.2 89.58,-152.8\"/>\n",
       "<text text-anchor=\"middle\" x=\"44.79\" y=\"-137.72\" font-family=\"Times,serif\" font-size=\"12.00\" fill=\"White\">$_</text>\n",
       "</g>\n",
       "<!-- poet4 -->\n",
       "<g id=\"node6\" class=\"node\">\n",
       "<title>poet4</title>\n",
       "<polygon fill=\"SteelBlue\" stroke=\"Black\" points=\"195.99,-95.2 109.59,-95.2 109.59,-73.6 195.99,-73.6 195.99,-95.2\"/>\n",
       "<text text-anchor=\"middle\" x=\"152.79\" y=\"-80.12\" font-family=\"Times,serif\" font-size=\"12.00\" fill=\"White\">poet4</text>\n",
       "</g>\n",
       "<!-- $_&#45;&gt;poet4 -->\n",
       "<g id=\"edge7\" class=\"edge\">\n",
       "<title>$_&#45;&gt;poet4</title>\n",
       "<path fill=\"none\" stroke=\"SteelBlue\" stroke-width=\"2\" d=\"M64.6,-130.8C80.58,-122.57 103.36,-110.85 121.76,-101.37\"/>\n",
       "<polygon fill=\"SteelBlue\" stroke=\"SteelBlue\" stroke-width=\"2\" points=\"123.12,-104.61 130.41,-96.92 119.92,-98.38 123.12,-104.61\"/>\n",
       "</g>\n",
       "<!-- judge -->\n",
       "<g id=\"node2\" class=\"node\">\n",
       "<title>judge</title>\n",
       "<ellipse fill=\"SteelBlue\" stroke=\"Black\" cx=\"314.79\" cy=\"-26.8\" rx=\"43.2\" ry=\"10.8\"/>\n",
       "<text text-anchor=\"middle\" x=\"314.79\" y=\"-22.52\" font-family=\"Times,serif\" font-size=\"12.00\" fill=\"White\">judge</text>\n",
       "</g>\n",
       "<!-- poet1 -->\n",
       "<g id=\"node3\" class=\"node\">\n",
       "<title>poet1</title>\n",
       "<polygon fill=\"SteelBlue\" stroke=\"Black\" points=\"264.04,-73.63 266.86,-73.69 269.65,-73.78 272.4,-73.89 275.09,-74.04 277.73,-74.22 280.29,-74.42 282.77,-74.65 285.15,-74.91 287.44,-75.19 289.61,-75.5 291.67,-75.83 293.61,-76.18 295.41,-76.56 297.08,-76.96 298.61,-77.38 300,-77.82 301.24,-78.28 302.33,-78.76 303.27,-79.24 304.06,-79.75 304.7,-80.27 305.19,-80.79 305.53,-81.33 305.72,-81.88 305.78,-82.43 305.69,-82.99 305.47,-83.55 305.11,-84.12 304.63,-84.68 304.03,-85.25 303.32,-85.81 302.49,-86.37 301.56,-86.92 300.54,-87.47 299.42,-88.01 298.22,-88.53 296.93,-89.05 295.58,-89.56 294.16,-90.04 292.68,-90.52 291.14,-90.98 289.56,-91.42 287.93,-91.84 286.26,-92.24 284.55,-92.62 282.82,-92.97 281.05,-93.3 279.27,-93.61 277.46,-93.89 275.64,-94.15 273.81,-94.38 271.96,-94.58 270.1,-94.76 268.24,-94.91 266.36,-95.02 264.49,-95.11 262.61,-95.17 260.73,-95.2 258.85,-95.2 256.97,-95.17 255.09,-95.11 253.21,-95.02 251.34,-94.91 249.47,-94.76 247.62,-94.58 245.77,-94.38 243.93,-94.15 242.11,-93.89 240.31,-93.61 238.52,-93.3 236.76,-92.97 235.02,-92.62 233.32,-92.24 231.65,-91.84 230.02,-91.42 228.43,-90.98 226.9,-90.52 225.42,-90.04 224,-89.56 222.64,-89.05 221.36,-88.53 220.16,-88.01 219.04,-87.47 218.01,-86.92 217.08,-86.37 216.26,-85.81 215.54,-85.25 214.94,-84.68 214.46,-84.12 214.11,-83.55 213.89,-82.99 213.8,-82.43 213.85,-81.88 214.05,-81.33 214.39,-80.79 214.88,-80.27 215.52,-79.75 216.31,-79.24 217.25,-78.76 218.34,-78.28 219.58,-77.82 220.96,-77.38 222.49,-76.96 224.16,-76.56 225.97,-76.18 227.9,-75.83 229.96,-75.5 232.14,-75.19 234.42,-74.91 236.81,-74.65 239.29,-74.42 241.85,-74.22 244.48,-74.04 247.18,-73.89 249.93,-73.78 252.71,-73.69 255.53,-73.63 258.37,-73.6 261.21,-73.6 264.04,-73.63\"/>\n",
       "<text text-anchor=\"middle\" x=\"259.79\" y=\"-80.12\" font-family=\"Times,serif\" font-size=\"12.00\" fill=\"White\">poet1</text>\n",
       "</g>\n",
       "<!-- poet1&#45;&gt;judge -->\n",
       "<g id=\"edge3\" class=\"edge\">\n",
       "<title>poet1&#45;&gt;judge</title>\n",
       "<path fill=\"none\" stroke=\"SteelBlue\" stroke-width=\"2\" d=\"M269.62,-73.46C276.97,-66.03 287.25,-55.64 296.14,-46.65\"/>\n",
       "<polygon fill=\"SteelBlue\" stroke=\"SteelBlue\" stroke-width=\"2\" points=\"298.37,-49.38 302.91,-39.81 293.39,-44.45 298.37,-49.38\"/>\n",
       "</g>\n",
       "<!-- poet2 -->\n",
       "<g id=\"node4\" class=\"node\">\n",
       "<title>poet2</title>\n",
       "<polygon fill=\"SteelBlue\" stroke=\"Black\" points=\"374.04,-73.63 376.86,-73.69 379.65,-73.78 382.4,-73.89 385.09,-74.04 387.73,-74.22 390.29,-74.42 392.77,-74.65 395.15,-74.91 397.44,-75.19 399.61,-75.5 401.67,-75.83 403.61,-76.18 405.41,-76.56 407.08,-76.96 408.61,-77.38 410,-77.82 411.24,-78.28 412.33,-78.76 413.27,-79.24 414.06,-79.75 414.7,-80.27 415.19,-80.79 415.53,-81.33 415.72,-81.88 415.78,-82.43 415.69,-82.99 415.47,-83.55 415.11,-84.12 414.63,-84.68 414.03,-85.25 413.32,-85.81 412.49,-86.37 411.56,-86.92 410.54,-87.47 409.42,-88.01 408.22,-88.53 406.93,-89.05 405.58,-89.56 404.16,-90.04 402.68,-90.52 401.14,-90.98 399.56,-91.42 397.93,-91.84 396.26,-92.24 394.55,-92.62 392.82,-92.97 391.05,-93.3 389.27,-93.61 387.46,-93.89 385.64,-94.15 383.81,-94.38 381.96,-94.58 380.1,-94.76 378.24,-94.91 376.36,-95.02 374.49,-95.11 372.61,-95.17 370.73,-95.2 368.85,-95.2 366.97,-95.17 365.09,-95.11 363.21,-95.02 361.34,-94.91 359.47,-94.76 357.62,-94.58 355.77,-94.38 353.93,-94.15 352.11,-93.89 350.31,-93.61 348.52,-93.3 346.76,-92.97 345.02,-92.62 343.32,-92.24 341.65,-91.84 340.02,-91.42 338.43,-90.98 336.9,-90.52 335.42,-90.04 334,-89.56 332.64,-89.05 331.36,-88.53 330.16,-88.01 329.04,-87.47 328.01,-86.92 327.08,-86.37 326.26,-85.81 325.54,-85.25 324.94,-84.68 324.46,-84.12 324.11,-83.55 323.89,-82.99 323.8,-82.43 323.85,-81.88 324.05,-81.33 324.39,-80.79 324.88,-80.27 325.52,-79.75 326.31,-79.24 327.25,-78.76 328.34,-78.28 329.58,-77.82 330.96,-77.38 332.49,-76.96 334.16,-76.56 335.97,-76.18 337.9,-75.83 339.96,-75.5 342.14,-75.19 344.42,-74.91 346.81,-74.65 349.29,-74.42 351.85,-74.22 354.48,-74.04 357.18,-73.89 359.93,-73.78 362.71,-73.69 365.53,-73.63 368.37,-73.6 371.21,-73.6 374.04,-73.63\"/>\n",
       "<text text-anchor=\"middle\" x=\"369.79\" y=\"-80.12\" font-family=\"Times,serif\" font-size=\"12.00\" fill=\"White\">poet2</text>\n",
       "</g>\n",
       "<!-- poet2&#45;&gt;judge -->\n",
       "<g id=\"edge4\" class=\"edge\">\n",
       "<title>poet2&#45;&gt;judge</title>\n",
       "<path fill=\"none\" stroke=\"SteelBlue\" stroke-width=\"2\" d=\"M359.95,-73.46C352.6,-66.03 342.33,-55.64 333.44,-46.65\"/>\n",
       "<polygon fill=\"SteelBlue\" stroke=\"SteelBlue\" stroke-width=\"2\" points=\"336.19,-44.45 326.66,-39.81 331.21,-49.38 336.19,-44.45\"/>\n",
       "</g>\n",
       "<!-- poet3 -->\n",
       "<g id=\"node5\" class=\"node\">\n",
       "<title>poet3</title>\n",
       "<ellipse fill=\"SteelBlue\" stroke=\"Black\" cx=\"476.79\" cy=\"-84.4\" rx=\"43.2\" ry=\"10.8\"/>\n",
       "<text text-anchor=\"middle\" x=\"476.79\" y=\"-80.12\" font-family=\"Times,serif\" font-size=\"12.00\" fill=\"White\">poet3</text>\n",
       "</g>\n",
       "<!-- poet3&#45;&gt;judge -->\n",
       "<g id=\"edge2\" class=\"edge\">\n",
       "<title>poet3&#45;&gt;judge</title>\n",
       "<path fill=\"none\" stroke=\"SteelBlue\" stroke-width=\"2\" d=\"M452.53,-75.08C425.62,-65.84 381.89,-50.83 350.93,-40.21\"/>\n",
       "<polygon fill=\"SteelBlue\" stroke=\"SteelBlue\" stroke-width=\"2\" points=\"352.4,-37.01 341.8,-37.07 350.13,-43.63 352.4,-37.01\"/>\n",
       "</g>\n",
       "<!-- poet4&#45;&gt;judge -->\n",
       "<g id=\"edge8\" class=\"edge\">\n",
       "<title>poet4&#45;&gt;judge</title>\n",
       "<path fill=\"none\" stroke=\"SteelBlue\" stroke-width=\"2\" d=\"M182.5,-73.2C209.55,-63.92 249.57,-50.18 278.51,-40.25\"/>\n",
       "<polygon fill=\"SteelBlue\" stroke=\"SteelBlue\" stroke-width=\"2\" points=\"279.36,-43.66 287.68,-37.1 277.09,-37.04 279.36,-43.66\"/>\n",
       "</g>\n",
       "<!-- style -->\n",
       "<g id=\"node7\" class=\"node\">\n",
       "<title>style</title>\n",
       "<polygon fill=\"SteelBlue\" stroke=\"Black\" points=\"467.58,-152.8 396.33,-152.8 378,-131.2 449.25,-131.2 467.58,-152.8\"/>\n",
       "<text text-anchor=\"middle\" x=\"422.79\" y=\"-137.72\" font-family=\"Times,serif\" font-size=\"12.00\" fill=\"White\">style</text>\n",
       "</g>\n",
       "<!-- style&#45;&gt;poet3 -->\n",
       "<g id=\"edge5\" class=\"edge\">\n",
       "<title>style&#45;&gt;poet3</title>\n",
       "<path fill=\"none\" stroke=\"SteelBlue\" stroke-width=\"2\" d=\"M432.69,-130.8C439.86,-123.42 449.76,-113.23 458.36,-104.37\"/>\n",
       "<polygon fill=\"SteelBlue\" stroke=\"SteelBlue\" stroke-width=\"2\" points=\"460.74,-106.94 465.2,-97.33 455.72,-102.07 460.74,-106.94\"/>\n",
       "</g>\n",
       "<!-- topic -->\n",
       "<g id=\"node8\" class=\"node\">\n",
       "<title>topic</title>\n",
       "<polygon fill=\"SteelBlue\" stroke=\"Black\" points=\"575.58,-152.8 504.33,-152.8 486,-131.2 557.25,-131.2 575.58,-152.8\"/>\n",
       "<text text-anchor=\"middle\" x=\"530.79\" y=\"-137.72\" font-family=\"Times,serif\" font-size=\"12.00\" fill=\"White\">topic</text>\n",
       "</g>\n",
       "<!-- topic&#45;&gt;poet3 -->\n",
       "<g id=\"edge1\" class=\"edge\">\n",
       "<title>topic&#45;&gt;poet3</title>\n",
       "<path fill=\"none\" stroke=\"SteelBlue\" stroke-width=\"2\" d=\"M520.88,-130.8C513.72,-123.42 503.82,-113.23 495.21,-104.37\"/>\n",
       "<polygon fill=\"SteelBlue\" stroke=\"SteelBlue\" stroke-width=\"2\" points=\"497.85,-102.07 488.38,-97.33 492.83,-106.94 497.85,-102.07\"/>\n",
       "</g>\n",
       "<!-- with&#45;russian -->\n",
       "<g id=\"node9\" class=\"node\">\n",
       "<title>with&#45;russian</title>\n",
       "<polygon fill=\"SteelBlue\" stroke=\"Black\" points=\"197.58,-152.8 126.33,-152.8 108,-131.2 179.25,-131.2 197.58,-152.8\"/>\n",
       "<text text-anchor=\"middle\" x=\"152.79\" y=\"-137.72\" font-family=\"Times,serif\" font-size=\"12.00\" fill=\"White\">with&#45;russian</text>\n",
       "</g>\n",
       "<!-- with&#45;russian&#45;&gt;poet4 -->\n",
       "<g id=\"edge6\" class=\"edge\">\n",
       "<title>with&#45;russian&#45;&gt;poet4</title>\n",
       "<path fill=\"none\" stroke=\"SteelBlue\" stroke-width=\"2\" stroke-dasharray=\"5,2\" d=\"M152.79,-130.8C152.79,-124.53 152.79,-116.23 152.79,-108.45\"/>\n",
       "<polygon fill=\"SteelBlue\" stroke=\"SteelBlue\" stroke-width=\"2\" points=\"156.29,-108.56 152.79,-98.56 149.29,-108.56 156.29,-108.56\"/>\n",
       "</g>\n",
       "</g>\n",
       "</svg>\n"
      ]
     },
     "execution_count": 7,
     "metadata": {},
     "output_type": "execute_result"
    }
   ],
   "source": [
    "#% html\n",
    "$gBestPoem.dot(engine => 'dot', :9graph-size, node-width => 1.2, node-fill=>'steelblue'):svg"
   ]
  },
  {
   "cell_type": "code",
   "execution_count": 9,
   "id": "0be29789",
   "metadata": {},
   "outputs": [
    {
     "name": "stdout",
     "output_type": "stream",
     "text": [
      "input => [poet3 poet1 poet2 poet4]\n",
      "test-function-input => []\n",
      "result => I think Poem 1 is the best among these for its vivid imagery and joyful tone. Here it is:\n",
      "\n",
      "Golden rays and skies of blue,  \n",
      "Whispers warm in morning dew.  \n",
      "Laughter dances on the breeze,  \n",
      "Summer sings through swaying trees.  \n",
      "\n",
      "Fields of green and oceans wide,  \n",
      "Endless days where dreams can glide.  \n",
      "Hearts alight with sun’s bright gleam,  \n",
      "Summer lives within a dream.\n",
      "wrapper => Routine::WrapHandle.new\n",
      "eval-function => sub { }\n",
      "spec-type => (Routine)\n"
     ]
    }
   ],
   "source": [
    ".say for |$gBestPoem.nodes<judge>"
   ]
  },
  {
   "cell_type": "code",
   "execution_count": 10,
   "id": "7fe8f68a",
   "metadata": {},
   "outputs": [
    {
     "data": {
      "text/html": [
       "<table border=\"1\"><tr><th>poet4</th><td align=left>В лесу тенистом, где шёпчет трава,  \n",
       "Медведи играют — весна пришла.  \n",
       "В лапах мох мягкий, в глазах светлый свет,  \n",
       "Играют беззаботно — им радостен свет.\n",
       "\n",
       "Они качаются на ветках, как дети,  \n",
       "Гудят, словно песни, в тиши и в рассвете.  \n",
       "Мир их прост и добр, словно сказка в ночи —  \n",
       "Медвежьи забавы звучат в тишине ключи.</td></tr><tr><th>judge</th><td align=left>I think Poem 1 is the best among these for its vivid imagery and joyful tone. Here it is:\n",
       "\n",
       "Golden rays and skies of blue,  \n",
       "Whispers warm in morning dew.  \n",
       "Laughter dances on the breeze,  \n",
       "Summer sings through swaying trees.  \n",
       "\n",
       "Fields of green and oceans wide,  \n",
       "Endless days where dreams can glide.  \n",
       "Hearts alight with sun’s bright gleam,  \n",
       "Summer lives within a dream.</td></tr><tr><th>poet3</th><td align=left>There once was a player named Jack,  \n",
       "Who loved to play hockey on the track.  \n",
       "He’d skate with great speed,  \n",
       "And shoot to succeed,  \n",
       "Scoring goals that would never look back!</td></tr><tr><th>poet1</th><td align=left>Golden rays and skies of blue,  \n",
       "Whispers warm in morning dew.  \n",
       "Laughter dances on the breeze,  \n",
       "Summer sings through swaying trees.  \n",
       "\n",
       "Fields of green and oceans wide,  \n",
       "Endless days where dreams can glide.  \n",
       "Hearts alight with sun’s bright gleam,  \n",
       "Summer lives within a dream.</td></tr><tr><th>poet2</th><td align=left>Silent snowflakes fall,  \n",
       "Blanketing the earth in white,  \n",
       "Winter’s quiet breath.</td></tr></table>"
      ]
     },
     "execution_count": 10,
     "metadata": {},
     "output_type": "execute_result"
    }
   ],
   "source": [
    "#% html\n",
    "$gBestPoem.nodes.nodemap(*<result>)\n",
    "==> to-html(align => 'left')"
   ]
  },
  {
   "cell_type": "markdown",
   "id": "3903b333",
   "metadata": {},
   "source": [
    "-----\n",
    "\n",
    "## References"
   ]
  },
  {
   "cell_type": "markdown",
   "id": "cacec1cf",
   "metadata": {},
   "source": [
    "[AAp1] Anton Antonov, \n",
    "[LLM::Graph, Raku package](https://github.com/antononcube/Raku-LLM-Graph),\n",
    "(2025),\n",
    "[GitHub/antononcube](https://github.com/antononcube).\n",
    "\n",
    "[WRIf1] Wolfram Research (2025), \n",
    "[LLMGraph](https://reference.wolfram.com/language/ref/LLMGraph.html), \n",
    "[Wolfram Language function](https://reference.wolfram.com/language)."
   ]
  }
 ],
 "metadata": {
  "kernelspec": {
   "display_name": "RakuChatbook",
   "language": "raku",
   "name": "raku"
  },
  "language_info": {
   "file_extension": ".raku",
   "mimetype": "text/x-raku",
   "name": "raku",
   "version": "6.d"
  }
 },
 "nbformat": 4,
 "nbformat_minor": 5
}
