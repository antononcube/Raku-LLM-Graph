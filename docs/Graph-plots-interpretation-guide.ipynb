{
 "cells": [
  {
   "cell_type": "markdown",
   "id": "f6bb7b95",
   "metadata": {},
   "source": [
    "# LLM Graph interpretation guide\n",
    "\n",
    "Anton Antonov   \n",
    "August 2025"
   ]
  },
  {
   "cell_type": "markdown",
   "id": "cc32a4c4",
   "metadata": {},
   "source": [
    "----\n",
    "\n",
    "## Introduction"
   ]
  },
  {
   "cell_type": "markdown",
   "id": "d31864d7",
   "metadata": {},
   "source": [
    "This notebook provides visual dictionaries for the interpretation of graph-plots of LLM-graphs, [AAp1, AAp2]."
   ]
  },
  {
   "cell_type": "markdown",
   "id": "c7a24375",
   "metadata": {},
   "source": [
    "---\n",
    "\n",
    "## Setup"
   ]
  },
  {
   "cell_type": "code",
   "execution_count": 51,
   "id": "f1cb34d0",
   "metadata": {},
   "outputs": [],
   "source": [
    "use LLM::Graph;"
   ]
  },
  {
   "cell_type": "markdown",
   "id": "10372ef3",
   "metadata": {},
   "source": [
    "----\n",
    "\n",
    "## LLM graph"
   ]
  },
  {
   "cell_type": "markdown",
   "id": "1a477515",
   "metadata": {},
   "source": [
    "Node specs:"
   ]
  },
  {
   "cell_type": "code",
   "execution_count": 52,
   "id": "bd4df475",
   "metadata": {},
   "outputs": [],
   "source": [
    "sink my %rules =\n",
    "        poet1 => \"Write a short poem about summer.\",\n",
    "        poet2 => \"Write a haiku about winter.\",\n",
    "        poet3 => sub ($topic, $style) {\n",
    "            \"Write a poem about $topic in the $style style.\"\n",
    "        },\n",
    "        poet4 => {\n",
    "                llm-function => {llm-synthesize('You are a famous Russian poet. Write a short poem about playing bears.')},\n",
    "                test-function => -> $with-russian { $with-russian ~~ Bool:D && $with-russian || $with-russian.Str.lc ∈ <true yes> }\n",
    "        },\n",
    "        judge => sub ($poet1, $poet2, $poet3, $poet4) {\n",
    "            [\n",
    "                \"Choose the composition you think is best among these:\\n\\n\",\n",
    "                \"1) Poem1: $poet1\",\n",
    "                \"2) Poem2: $poet2\",\n",
    "                \"3) Poem3: {$poet4.defined && $poet4 ?? $poet4 !! $poet3}\",\n",
    "                \"and copy it:\"\n",
    "            ].join(\"\\n\\n\")\n",
    "        },\n",
    "        report => {\n",
    "            eval-function => sub ($poet1, $poet2, $poet3, $poet4, $judge) {\n",
    "                [\n",
    "                    '# Best poem',\n",
    "                    'Three poems were submitted. Here are the statistics:',\n",
    "                    to-html( [$poet1, $poet2, $poet4.defined && $poet4 ?? $poet4 !! $poet3].map({ text-stats($_) })».Hash.Array ),\n",
    "                    '## Judgement',\n",
    "                    $judge\n",
    "                ].join(\"\\n\\n\")\n",
    "            }\n",
    "        }\n",
    "    ;"
   ]
  },
  {
   "cell_type": "markdown",
   "id": "e23168d3",
   "metadata": {},
   "source": [
    "Make the graph:"
   ]
  },
  {
   "cell_type": "code",
   "execution_count": 53,
   "id": "54f453b4",
   "metadata": {},
   "outputs": [
    {
     "data": {
      "text/plain": [
       "LLM::Graph(size => 6, nodes => judge, poet1, poet2, poet3, poet4, report)"
      ]
     },
     "execution_count": 53,
     "metadata": {},
     "output_type": "execute_result"
    }
   ],
   "source": [
    "my $gBestPoem = LLM::Graph.new(%rules)"
   ]
  },
  {
   "cell_type": "markdown",
   "id": "26739943",
   "metadata": {},
   "source": [
    "Not to make the execution quicker, we assign the poems (instead of LLM generating them):"
   ]
  },
  {
   "cell_type": "code",
   "execution_count": 54,
   "id": "39334dc5",
   "metadata": {},
   "outputs": [],
   "source": [
    "# Poet 1\n",
    "my $poet1 = q:to/END/;\n",
    "Golden rays through skies so blue,\n",
    "Whispers warm in morning dew.\n",
    "Laughter dances on the breeze,\n",
    "Summer sings through rustling trees.\n",
    "\n",
    "Fields of green and oceans wide,\n",
    "Endless days where dreams abide.\n",
    "Sunset paints the world anew,\n",
    "Summer’s heart in every hue.\n",
    "END\n",
    "\n",
    "# Poet 2\n",
    "my $poet2 = q:to/END/;\n",
    "Silent snowflakes fall,\n",
    "Blanketing the earth in white,\n",
    "Winter’s breath is still.\n",
    "END\n",
    "\n",
    "# Poet 3\n",
    "my $poet3 = q:to/END/;\n",
    "There once was a game on the ice,  \n",
    "Where players would skate fast and slice,  \n",
    "With sticks in their hands,  \n",
    "They’d score on the stands,  \n",
    "Making hockey fans cheer twice as nice!\n",
    "END\n",
    "\n",
    "# Poet 4\n",
    "sink my $poet4 = q:to/END/;\n",
    "В лесу играют медведи —  \n",
    "Смех разносится в тиши,  \n",
    "Тяжело шагают твердо,  \n",
    "Но в душе — мальчишки.\n",
    "\n",
    "Плюшевые лапы сильны,  \n",
    "Игривы глаза блестят,  \n",
    "В мире грёз, как в сказке дивной,  \n",
    "Детство сердце охраняет.\n",
    "END\n",
    "\n",
    "sink my $judge = q:to/END/;\n",
    "The 3rd one.\n",
    "END"
   ]
  },
  {
   "cell_type": "markdown",
   "id": "d79752cc",
   "metadata": {},
   "source": [
    "----\n",
    "\n",
    "## Graph evaluation"
   ]
  },
  {
   "cell_type": "code",
   "execution_count": 55,
   "id": "6f38ba2e",
   "metadata": {},
   "outputs": [
    {
     "data": {
      "text/plain": [
       "LLM::Graph(size => 6, nodes => judge, poet1, poet2, poet3, poet4, report)"
      ]
     },
     "execution_count": 55,
     "metadata": {},
     "output_type": "execute_result"
    }
   ],
   "source": [
    "$gBestPoem.eval(topic => 'Hockey', style => 'limerick', with-russian => 'yes', :$poet1, :$poet2, :$poet3, :$poet4)\n",
    "#$gBestPoem.eval(topic => 'Hockey', style => 'limerick', with-russian => 'yes')"
   ]
  },
  {
   "cell_type": "markdown",
   "id": "7391c72e",
   "metadata": {},
   "source": [
    "Here is the final result (of the node \"report\"):"
   ]
  },
  {
   "cell_type": "code",
   "execution_count": 56,
   "id": "cedab6ce",
   "metadata": {},
   "outputs": [
    {
     "data": {
      "text/markdown": [
       "# Best poem\n",
       "\n",
       "Three poems were submitted. Here are the statistics:\n",
       "\n",
       "<table border=\"1\"><thead><tr><th>lines</th><th>chars</th><th>words</th></tr></thead><tbody><tr><td>9</td><td>259</td><td>42</td></tr><tr><td>3</td><td>81</td><td>12</td></tr><tr><td>9</td><td>209</td><td>33</td></tr></tbody></table>\n",
       "\n",
       "## Judgement\n",
       "\n",
       "I think Poem1 is the best among these. Here it is:\n",
       "\n",
       "Golden rays through skies so blue,  \n",
       "Whispers warm in morning dew.  \n",
       "Laughter dances on the breeze,  \n",
       "Summer sings through rustling trees.\n",
       "\n",
       "Fields of green and oceans wide,  \n",
       "Endless days where dreams abide.  \n",
       "Sunset paints the world anew,  \n",
       "Summer’s heart in every hue."
      ]
     },
     "execution_count": 56,
     "metadata": {},
     "output_type": "execute_result"
    }
   ],
   "source": [
    "#% markdown\n",
    "$gBestPoem.rules<report><result>"
   ]
  },
  {
   "cell_type": "markdown",
   "id": "534be49b",
   "metadata": {},
   "source": [
    "-----\n",
    "\n",
    "## Default style"
   ]
  },
  {
   "cell_type": "markdown",
   "id": "35d607a5",
   "metadata": {},
   "source": [
    "Here is the Graphviz DOT visualization of the LLM graph:"
   ]
  },
  {
   "cell_type": "code",
   "execution_count": 66,
   "id": "46cbe904",
   "metadata": {},
   "outputs": [
    {
     "data": {
      "text/html": [
       "<?xml version=\"1.0\" encoding=\"UTF-8\" standalone=\"no\"?>\n",
       "<!DOCTYPE svg PUBLIC \"-//W3C//DTD SVG 1.1//EN\"\n",
       " \"http://www.w3.org/Graphics/SVG/1.1/DTD/svg11.dtd\">\n",
       "<!-- Generated by graphviz version 12.2.1 (20241206.2353)\n",
       " -->\n",
       "<!-- Pages: 1 -->\n",
       "<svg width=\"648pt\" height=\"312pt\"\n",
       " viewBox=\"0.00 0.00 648.00 312.44\" xmlns=\"http://www.w3.org/2000/svg\" xmlns:xlink=\"http://www.w3.org/1999/xlink\">\n",
       "<g id=\"graph0\" class=\"graph\" transform=\"scale(1.54368 1.54368) rotate(0) translate(4 198.4)\">\n",
       "<polygon fill=\"none\" stroke=\"none\" points=\"-4,4 -4,-198.4 415.78,-198.4 415.78,4 -4,4\"/>\n",
       "<g id=\"clust1\" class=\"cluster\">\n",
       "<title>poet3_Cluster</title>\n",
       "<polygon fill=\"none\" stroke=\"grey\" stroke-dasharray=\"5,2\" points=\"211.99,-107.2 211.99,-144.8 313.99,-144.8 313.99,-107.2 211.99,-107.2\"/>\n",
       "</g>\n",
       "<g id=\"clust2\" class=\"cluster\">\n",
       "<title>judge_Cluster</title>\n",
       "<polygon fill=\"none\" stroke=\"grey\" stroke-dasharray=\"5,2\" points=\"156.99,-49.6 156.99,-87.2 258.99,-87.2 258.99,-49.6 156.99,-49.6\"/>\n",
       "</g>\n",
       "<!-- judge -->\n",
       "<g id=\"node1\" class=\"node\">\n",
       "<title>judge</title>\n",
       "<ellipse fill=\"SteelBlue\" stroke=\"grey\" cx=\"207.99\" cy=\"-68.4\" rx=\"43.2\" ry=\"10.8\"/>\n",
       "<text text-anchor=\"middle\" x=\"207.99\" y=\"-64.12\" font-family=\"Times,serif\" font-size=\"12.00\" fill=\"White\">judge</text>\n",
       "</g>\n",
       "<!-- report -->\n",
       "<g id=\"node6\" class=\"node\">\n",
       "<title>report</title>\n",
       "<polygon fill=\"SteelBlue\" stroke=\"grey\" points=\"251.19,-21.6 164.79,-21.6 164.79,0 251.19,0 251.19,-21.6\"/>\n",
       "<text text-anchor=\"middle\" x=\"207.99\" y=\"-6.52\" font-family=\"Times,serif\" font-size=\"12.00\" fill=\"White\">report</text>\n",
       "</g>\n",
       "<!-- judge&#45;&gt;report -->\n",
       "<g id=\"edge6\" class=\"edge\">\n",
       "<title>judge&#45;&gt;report</title>\n",
       "<path fill=\"none\" stroke=\"SteelBlue\" stroke-width=\"0.8\" d=\"M207.99,-57.2C207.99,-50.46 207.99,-41.38 207.99,-33.1\"/>\n",
       "<polygon fill=\"SteelBlue\" stroke=\"SteelBlue\" stroke-width=\"0.8\" points=\"211.49,-33.14 207.99,-23.14 204.49,-33.14 211.49,-33.14\"/>\n",
       "</g>\n",
       "<!-- poet1 -->\n",
       "<g id=\"node2\" class=\"node\">\n",
       "<title>poet1</title>\n",
       "<polygon fill=\"SteelBlue\" stroke=\"grey\" points=\"50.25,-115.23 53.06,-115.29 55.85,-115.38 58.6,-115.49 61.3,-115.64 63.93,-115.82 66.49,-116.02 68.97,-116.25 71.35,-116.51 73.64,-116.79 75.81,-117.1 77.87,-117.43 79.81,-117.78 81.61,-118.16 83.28,-118.56 84.81,-118.98 86.2,-119.42 87.44,-119.88 88.53,-120.36 89.47,-120.84 90.26,-121.35 90.9,-121.87 91.39,-122.39 91.73,-122.93 91.93,-123.48 91.98,-124.03 91.89,-124.59 91.67,-125.15 91.32,-125.72 90.84,-126.28 90.24,-126.85 89.52,-127.41 88.69,-127.97 87.76,-128.52 86.74,-129.07 85.62,-129.61 84.42,-130.13 83.14,-130.65 81.78,-131.16 80.36,-131.64 78.88,-132.12 77.34,-132.58 75.76,-133.02 74.13,-133.44 72.46,-133.84 70.75,-134.22 69.02,-134.57 67.26,-134.9 65.47,-135.21 63.67,-135.49 61.84,-135.75 60.01,-135.98 58.16,-136.18 56.3,-136.36 54.44,-136.51 52.57,-136.62 50.69,-136.71 48.81,-136.77 46.93,-136.8 45.05,-136.8 43.17,-136.77 41.29,-136.71 39.41,-136.62 37.54,-136.51 35.68,-136.36 33.82,-136.18 31.97,-135.98 30.13,-135.75 28.31,-135.49 26.51,-135.21 24.72,-134.9 22.96,-134.57 21.23,-134.22 19.52,-133.84 17.85,-133.44 16.22,-133.02 14.64,-132.58 13.1,-132.12 11.62,-131.64 10.2,-131.16 8.84,-130.65 7.56,-130.13 6.36,-129.61 5.24,-129.07 4.21,-128.52 3.29,-127.97 2.46,-127.41 1.74,-126.85 1.14,-126.28 0.66,-125.72 0.31,-125.15 0.09,-124.59 0,-124.03 0.05,-123.48 0.25,-122.93 0.59,-122.39 1.08,-121.87 1.72,-121.35 2.51,-120.84 3.45,-120.36 4.54,-119.88 5.78,-119.42 7.17,-118.98 8.7,-118.56 10.37,-118.16 12.17,-117.78 14.11,-117.43 16.16,-117.1 18.34,-116.79 20.62,-116.51 23.01,-116.25 25.49,-116.02 28.05,-115.82 30.68,-115.64 33.38,-115.49 36.13,-115.38 38.92,-115.29 41.73,-115.23 44.57,-115.2 47.41,-115.2 50.25,-115.23\"/>\n",
       "<text text-anchor=\"middle\" x=\"45.99\" y=\"-121.72\" font-family=\"Times,serif\" font-size=\"12.00\" fill=\"White\">poet1</text>\n",
       "</g>\n",
       "<!-- poet1&#45;&gt;judge -->\n",
       "<g id=\"edge9\" class=\"edge\">\n",
       "<title>poet1&#45;&gt;judge</title>\n",
       "<path fill=\"none\" stroke=\"SteelBlue\" stroke-width=\"0.8\" d=\"M71.66,-116.19C99.07,-106.78 142.68,-91.81 173.18,-81.35\"/>\n",
       "<polygon fill=\"SteelBlue\" stroke=\"SteelBlue\" stroke-width=\"0.8\" points=\"174.3,-84.66 182.62,-78.11 172.02,-78.04 174.3,-84.66\"/>\n",
       "</g>\n",
       "<!-- poet1&#45;&gt;report -->\n",
       "<g id=\"edge10\" class=\"edge\">\n",
       "<title>poet1&#45;&gt;report</title>\n",
       "<path fill=\"none\" stroke=\"SteelBlue\" stroke-width=\"0.8\" d=\"M57.55,-115.19C75.36,-100.27 110.81,-71.32 142.99,-49.6 154.54,-41.8 167.76,-33.94 179.24,-27.42\"/>\n",
       "<polygon fill=\"SteelBlue\" stroke=\"SteelBlue\" stroke-width=\"0.8\" points=\"180.73,-30.59 187.75,-22.66 177.31,-24.48 180.73,-30.59\"/>\n",
       "</g>\n",
       "<!-- poet2 -->\n",
       "<g id=\"node3\" class=\"node\">\n",
       "<title>poet2</title>\n",
       "<polygon fill=\"SteelBlue\" stroke=\"grey\" points=\"160.25,-115.23 163.06,-115.29 165.85,-115.38 168.6,-115.49 171.3,-115.64 173.93,-115.82 176.49,-116.02 178.97,-116.25 181.35,-116.51 183.64,-116.79 185.81,-117.1 187.87,-117.43 189.81,-117.78 191.61,-118.16 193.28,-118.56 194.81,-118.98 196.2,-119.42 197.44,-119.88 198.53,-120.36 199.47,-120.84 200.26,-121.35 200.9,-121.87 201.39,-122.39 201.73,-122.93 201.93,-123.48 201.98,-124.03 201.89,-124.59 201.67,-125.15 201.32,-125.72 200.84,-126.28 200.24,-126.85 199.52,-127.41 198.69,-127.97 197.76,-128.52 196.74,-129.07 195.62,-129.61 194.42,-130.13 193.14,-130.65 191.78,-131.16 190.36,-131.64 188.88,-132.12 187.34,-132.58 185.76,-133.02 184.13,-133.44 182.46,-133.84 180.75,-134.22 179.02,-134.57 177.26,-134.9 175.47,-135.21 173.67,-135.49 171.84,-135.75 170.01,-135.98 168.16,-136.18 166.3,-136.36 164.44,-136.51 162.57,-136.62 160.69,-136.71 158.81,-136.77 156.93,-136.8 155.05,-136.8 153.17,-136.77 151.29,-136.71 149.41,-136.62 147.54,-136.51 145.68,-136.36 143.82,-136.18 141.97,-135.98 140.13,-135.75 138.31,-135.49 136.51,-135.21 134.72,-134.9 132.96,-134.57 131.23,-134.22 129.52,-133.84 127.85,-133.44 126.22,-133.02 124.64,-132.58 123.1,-132.12 121.62,-131.64 120.2,-131.16 118.84,-130.65 117.56,-130.13 116.36,-129.61 115.24,-129.07 114.21,-128.52 113.29,-127.97 112.46,-127.41 111.74,-126.85 111.14,-126.28 110.66,-125.72 110.31,-125.15 110.09,-124.59 110,-124.03 110.05,-123.48 110.25,-122.93 110.59,-122.39 111.08,-121.87 111.72,-121.35 112.51,-120.84 113.45,-120.36 114.54,-119.88 115.78,-119.42 117.17,-118.98 118.7,-118.56 120.37,-118.16 122.17,-117.78 124.11,-117.43 126.16,-117.1 128.34,-116.79 130.62,-116.51 133.01,-116.25 135.49,-116.02 138.05,-115.82 140.68,-115.64 143.38,-115.49 146.13,-115.38 148.92,-115.29 151.73,-115.23 154.57,-115.2 157.41,-115.2 160.25,-115.23\"/>\n",
       "<text text-anchor=\"middle\" x=\"155.99\" y=\"-121.72\" font-family=\"Times,serif\" font-size=\"12.00\" fill=\"White\">poet2</text>\n",
       "</g>\n",
       "<!-- poet2&#45;&gt;judge -->\n",
       "<g id=\"edge2\" class=\"edge\">\n",
       "<title>poet2&#45;&gt;judge</title>\n",
       "<path fill=\"none\" stroke=\"SteelBlue\" stroke-width=\"0.8\" d=\"M165.29,-115.06C172.46,-107.39 182.57,-96.58 191.16,-87.4\"/>\n",
       "<polygon fill=\"SteelBlue\" stroke=\"SteelBlue\" stroke-width=\"0.8\" points=\"193.67,-89.83 197.95,-80.14 188.56,-85.05 193.67,-89.83\"/>\n",
       "</g>\n",
       "<!-- poet2&#45;&gt;report -->\n",
       "<g id=\"edge3\" class=\"edge\">\n",
       "<title>poet2&#45;&gt;report</title>\n",
       "<path fill=\"none\" stroke=\"SteelBlue\" stroke-width=\"0.8\" d=\"M152.52,-114.78C148.02,-99.59 141.95,-70.58 152.99,-49.6 157.69,-40.66 165.57,-33.43 173.92,-27.77\"/>\n",
       "<polygon fill=\"SteelBlue\" stroke=\"SteelBlue\" stroke-width=\"0.8\" points=\"175.61,-30.84 182.36,-22.68 171.99,-24.85 175.61,-30.84\"/>\n",
       "</g>\n",
       "<!-- poet3 -->\n",
       "<g id=\"node4\" class=\"node\">\n",
       "<title>poet3</title>\n",
       "<ellipse fill=\"SteelBlue\" stroke=\"grey\" cx=\"262.99\" cy=\"-126\" rx=\"43.2\" ry=\"10.8\"/>\n",
       "<text text-anchor=\"middle\" x=\"262.99\" y=\"-121.72\" font-family=\"Times,serif\" font-size=\"12.00\" fill=\"White\">poet3</text>\n",
       "</g>\n",
       "<!-- poet3&#45;&gt;judge -->\n",
       "<g id=\"edge7\" class=\"edge\">\n",
       "<title>poet3&#45;&gt;judge</title>\n",
       "<path fill=\"none\" stroke=\"SteelBlue\" stroke-width=\"0.8\" d=\"M253.16,-115.06C245.49,-107.31 234.65,-96.35 225.51,-87.11\"/>\n",
       "<polygon fill=\"SteelBlue\" stroke=\"SteelBlue\" stroke-width=\"0.8\" points=\"228.11,-84.76 218.59,-80.11 223.13,-89.69 228.11,-84.76\"/>\n",
       "</g>\n",
       "<!-- poet3&#45;&gt;report -->\n",
       "<g id=\"edge8\" class=\"edge\">\n",
       "<title>poet3&#45;&gt;report</title>\n",
       "<path fill=\"none\" stroke=\"SteelBlue\" stroke-width=\"0.8\" d=\"M265.83,-114.78C269.45,-99.58 274.02,-70.57 262.99,-49.6 258.29,-40.66 250.41,-33.43 242.06,-27.77\"/>\n",
       "<polygon fill=\"SteelBlue\" stroke=\"SteelBlue\" stroke-width=\"0.8\" points=\"243.99,-24.85 233.62,-22.68 240.37,-30.84 243.99,-24.85\"/>\n",
       "</g>\n",
       "<!-- poet4 -->\n",
       "<g id=\"node5\" class=\"node\">\n",
       "<title>poet4</title>\n",
       "<ellipse fill=\"SteelBlue\" stroke=\"grey\" cx=\"366.99\" cy=\"-126\" rx=\"43.2\" ry=\"10.8\"/>\n",
       "<text text-anchor=\"middle\" x=\"366.99\" y=\"-121.72\" font-family=\"Times,serif\" font-size=\"12.00\" fill=\"White\">poet4</text>\n",
       "</g>\n",
       "<!-- poet4&#45;&gt;judge -->\n",
       "<g id=\"edge5\" class=\"edge\">\n",
       "<title>poet4&#45;&gt;judge</title>\n",
       "<path fill=\"none\" stroke=\"SteelBlue\" stroke-width=\"0.8\" d=\"M344.09,-116.59C335.87,-113.59 326.52,-110.22 317.99,-107.2 292.91,-98.34 264.51,-88.58 242.85,-81.21\"/>\n",
       "<polygon fill=\"SteelBlue\" stroke=\"SteelBlue\" stroke-width=\"0.8\" points=\"244.24,-77.98 233.64,-78.08 241.99,-84.61 244.24,-77.98\"/>\n",
       "</g>\n",
       "<!-- poet4&#45;&gt;report -->\n",
       "<g id=\"edge4\" class=\"edge\">\n",
       "<title>poet4&#45;&gt;report</title>\n",
       "<path fill=\"none\" stroke=\"SteelBlue\" stroke-width=\"0.8\" d=\"M357.17,-115.13C341.68,-99.89 310.2,-70.22 279.99,-49.6 267.57,-41.12 253.02,-33.16 240.26,-26.74\"/>\n",
       "<polygon fill=\"SteelBlue\" stroke=\"SteelBlue\" stroke-width=\"0.8\" points=\"242.09,-23.74 231.58,-22.48 239.01,-30.03 242.09,-23.74\"/>\n",
       "</g>\n",
       "<!-- with&#45;russian -->\n",
       "<g id=\"node7\" class=\"node\">\n",
       "<title>with&#45;russian</title>\n",
       "<polygon fill=\"SteelBlue\" stroke=\"grey\" points=\"411.78,-194.4 340.53,-194.4 322.2,-172.8 393.45,-172.8 411.78,-194.4\"/>\n",
       "<text text-anchor=\"middle\" x=\"366.99\" y=\"-179.32\" font-family=\"Times,serif\" font-size=\"12.00\" fill=\"White\">with&#45;russian</text>\n",
       "</g>\n",
       "<!-- with&#45;russian&#45;&gt;poet4 -->\n",
       "<g id=\"edge1\" class=\"edge\">\n",
       "<title>with&#45;russian&#45;&gt;poet4</title>\n",
       "<path fill=\"none\" stroke=\"SteelBlue\" stroke-width=\"0.8\" stroke-dasharray=\"5,2\" d=\"M366.99,-172.4C366.99,-165.66 366.99,-156.58 366.99,-148.3\"/>\n",
       "<polygon fill=\"SteelBlue\" stroke=\"SteelBlue\" stroke-width=\"0.8\" points=\"370.49,-148.34 366.99,-138.34 363.49,-148.34 370.49,-148.34\"/>\n",
       "</g>\n",
       "</g>\n",
       "</svg>\n"
      ]
     },
     "execution_count": 66,
     "metadata": {},
     "output_type": "execute_result"
    }
   ],
   "source": [
    "#% html\n",
    "$gBestPoem.dot(engine => 'dot', :9graph-size, node-width => 1.2, node-color => 'grey', edge-width => 0.8):svg"
   ]
  },
  {
   "cell_type": "markdown",
   "id": "c2b8a63c",
   "metadata": {},
   "source": [
    "Here are the note spec-types:"
   ]
  },
  {
   "cell_type": "code",
   "execution_count": 23,
   "id": "c3a60210",
   "metadata": {},
   "outputs": [
    {
     "data": {
      "text/plain": [
       "{judge => (Routine), poet1 => (Str), poet2 => (Str), poet3 => (Routine), poet4 => (Function)}"
      ]
     },
     "execution_count": 23,
     "metadata": {},
     "output_type": "execute_result"
    }
   ],
   "source": [
    "$gBestPoem.rules.nodemap(*<spec-type>)"
   ]
  },
  {
   "cell_type": "markdown",
   "id": "d0cf283e",
   "metadata": {},
   "source": [
    "Here is a dictionary of the shapes and the corresponding node spec-types:"
   ]
  },
  {
   "cell_type": "markdown",
   "id": "af863b59",
   "metadata": {},
   "source": [
    "| Graph node / edge                    | DOT shape / form                                               | SVG preview                                                                                                                                                                                                                                                                                                                                                                                                                         |\n",
    "| ------------------------------------ | --------------------------------------------------------------- | ----------------------------------------------------------------------------------------------------------------------------------------------------------------------------------------------------------------------------------------------------------------------------------------------------------------------------------------------------------------------------------------------------------------------------------- |\n",
    "| Plain text                           | `shape=egg`                                                     | <svg width=\"120\" height=\"60\" viewBox=\"0 0 120 60\" xmlns=\"http://www.w3.org/2000/svg\" role=\"img\" aria-label=\"egg\"><path d=\"M60 6 C78 6 98 22 98 38 C98 50 80 56 60 56 C40 56 22 50 22 38 C22 22 42 6 60 6 Z\" fill=\"SteelBlue\" stroke=\"Grey\" stroke-width=\"2\"/></svg>                                                                                                                                                                    |\n",
    "| LLM function (functor)                        | `shape=ellipse`                                                 | <svg width=\"120\" height=\"60\" viewBox=\"0 0 120 60\" xmlns=\"http://www.w3.org/2000/svg\" role=\"img\" aria-label=\"ellipse\"><ellipse cx=\"60\" cy=\"30\" rx=\"45\" ry=\"22\" fill=\"SteelBlue\" stroke=\"Grey\" stroke-width=\"2\"/></svg>                                                                                                                                                                                                                  |\n",
    "| Evaluation function, wrapped<br>LLM-submit   | `shape=ellipse` + cluster with `style=dashed` | <svg width=\"120\" height=\"60\" viewBox=\"0 0 120 60\" xmlns=\"http://www.w3.org/2000/svg\" role=\"img\" aria-label=\"ellipse inside dashed rectangle\"><rect x=\"6\" y=\"6\" width=\"108\" height=\"48\" fill=\"none\" stroke=\"Grey\" stroke-width=\"2\" stroke-dasharray=\"6 4\"/><ellipse cx=\"60\" cy=\"30\" rx=\"40\" ry=\"18\" fill=\"SteelBlue\" stroke=\"Grey\" stroke-width=\"2\"/></svg>                                                                            |\n",
    "| Evaluation function<br>no LLM-submit         | `shape=box`                                                     | <svg width=\"120\" height=\"60\" viewBox=\"0 0 120 60\" xmlns=\"http://www.w3.org/2000/svg\" role=\"img\" aria-label=\"box\"><rect x=\"18\" y=\"12\" width=\"84\" height=\"36\" fill=\"SteelBlue\" stroke=\"Grey\" stroke-width=\"2\"/></svg>                                                                                                                                                                                                                    |\n",
    "| Input argument                       | `shape=parallelogram`                                           | <svg width=\"120\" height=\"60\" viewBox=\"0 0 120 60\" xmlns=\"http://www.w3.org/2000/svg\" role=\"img\" aria-label=\"parallelogram\"><polygon points=\"28,12 108,12 92,48 12,48\" fill=\"SteelBlue\" stroke=\"Grey\" stroke-width=\"2\"/></svg>                                                                                                                                                                                                          |\n",
    "| Dependency between nodes  | edge with default (solid) style                    | <svg width=\"160\" height=\"40\" viewBox=\"0 0 160 40\" xmlns=\"http://www.w3.org/2000/svg\" role=\"img\" aria-label=\"solid arrow\"><defs><marker id=\"arrowSolid\" markerWidth=\"10\" markerHeight=\"7\" refX=\"10\" refY=\"3.5\" orient=\"auto\"><polygon points=\"0 0, 10 3.5, 0 7\" fill=\"SteelBlue\"/></marker></defs><line x1=\"10\" y1=\"20\" x2=\"150\" y2=\"20\" stroke=\"SteelBlue\" stroke-width=\"2\" marker-end=\"url(#arrowSolid)\"/></svg>                           |\n",
    "| Conditional dependency between nodes | edge with `style=dashed`                                        | <svg width=\"160\" height=\"40\" viewBox=\"0 0 160 40\" xmlns=\"http://www.w3.org/2000/svg\" role=\"img\" aria-label=\"dashed arrow\"><defs><marker id=\"arrowDashed\" markerWidth=\"10\" markerHeight=\"7\" refX=\"10\" refY=\"3.5\" orient=\"auto\"><polygon points=\"0 0, 10 3.5, 0 7\" fill=\"SteelBlue\"/></marker></defs><line x1=\"10\" y1=\"20\" x2=\"150\" y2=\"20\" stroke=\"SteelBlue\" stroke-width=\"2\" stroke-dasharray=\"6 4\" marker-end=\"url(#arrowDashed)\"/></svg> |\n"
   ]
  },
  {
   "cell_type": "markdown",
   "id": "6ecb8293",
   "metadata": {},
   "source": [
    "-----\n",
    "\n",
    "## Specified shapes"
   ]
  },
  {
   "cell_type": "markdown",
   "id": "f1ae6c08",
   "metadata": {},
   "source": [
    "Here different node shapes specified:"
   ]
  },
  {
   "cell_type": "code",
   "execution_count": 64,
   "id": "224a022a",
   "metadata": {},
   "outputs": [
    {
     "data": {
      "text/html": [
       "<?xml version=\"1.0\" encoding=\"UTF-8\" standalone=\"no\"?>\n",
       "<!DOCTYPE svg PUBLIC \"-//W3C//DTD SVG 1.1//EN\"\n",
       " \"http://www.w3.org/Graphics/SVG/1.1/DTD/svg11.dtd\">\n",
       "<!-- Generated by graphviz version 12.2.1 (20241206.2353)\n",
       " -->\n",
       "<!-- Pages: 1 -->\n",
       "<svg width=\"648pt\" height=\"340pt\"\n",
       " viewBox=\"0.00 0.00 648.00 340.21\" xmlns=\"http://www.w3.org/2000/svg\" xmlns:xlink=\"http://www.w3.org/1999/xlink\">\n",
       "<g id=\"graph0\" class=\"graph\" transform=\"scale(1.55774 1.55774) rotate(0) translate(4 214.4)\">\n",
       "<polygon fill=\"none\" stroke=\"none\" points=\"-4,4 -4,-214.4 411.99,-214.4 411.99,4 -4,4\"/>\n",
       "<!-- judge -->\n",
       "<g id=\"node1\" class=\"node\">\n",
       "<title>judge</title>\n",
       "<polygon fill=\"SteelBlue\" stroke=\"Grey\" points=\"240.4,-67.93 240.4,-76.87 215.09,-83.2 179.31,-83.2 154,-76.87 154,-67.93 179.31,-61.6 215.09,-61.6 240.4,-67.93\"/>\n",
       "<polygon fill=\"none\" stroke=\"Grey\" points=\"244.4,-64.8 244.4,-80 215.59,-87.2 178.81,-87.2 150,-80 150,-64.8 178.81,-57.6 215.59,-57.6 244.4,-64.8\"/>\n",
       "<text text-anchor=\"middle\" x=\"197.2\" y=\"-68.12\" font-family=\"Times,serif\" font-size=\"12.00\" fill=\"White\">judge</text>\n",
       "</g>\n",
       "<!-- report -->\n",
       "<g id=\"node6\" class=\"node\">\n",
       "<title>report</title>\n",
       "<polygon fill=\"SteelBlue\" stroke=\"Grey\" points=\"240.4,-21.6 154,-21.6 154,0 240.4,0 240.4,-21.6\"/>\n",
       "<text text-anchor=\"middle\" x=\"197.2\" y=\"-6.52\" font-family=\"Times,serif\" font-size=\"12.00\" fill=\"White\">report</text>\n",
       "</g>\n",
       "<!-- judge&#45;&gt;report -->\n",
       "<g id=\"edge6\" class=\"edge\">\n",
       "<title>judge&#45;&gt;report</title>\n",
       "<path fill=\"none\" stroke=\"DimGrey\" stroke-width=\"0.8\" d=\"M197.2,-57.28C197.2,-50.05 197.2,-41.11 197.2,-33.07\"/>\n",
       "<polygon fill=\"DimGrey\" stroke=\"DimGrey\" stroke-width=\"0.8\" points=\"200.7,-33.12 197.2,-23.12 193.7,-33.12 200.7,-33.12\"/>\n",
       "</g>\n",
       "<!-- poet1 -->\n",
       "<g id=\"node2\" class=\"node\">\n",
       "<title>poet1</title>\n",
       "<polygon fill=\"SteelBlue\" stroke=\"Grey\" points=\"82.8,-148.8 0,-148.8 0,-127.2 86.4,-127.2 86.4,-145.2 82.8,-148.8\"/>\n",
       "<polyline fill=\"none\" stroke=\"Grey\" points=\"82.8,-148.8 82.8,-145.2\"/>\n",
       "<polyline fill=\"none\" stroke=\"Grey\" points=\"86.4,-145.2 82.8,-145.2\"/>\n",
       "<text text-anchor=\"middle\" x=\"43.2\" y=\"-133.72\" font-family=\"Times,serif\" font-size=\"12.00\" fill=\"White\">poet1</text>\n",
       "</g>\n",
       "<!-- poet1&#45;&gt;judge -->\n",
       "<g id=\"edge9\" class=\"edge\">\n",
       "<title>poet1&#45;&gt;judge</title>\n",
       "<path fill=\"none\" stroke=\"DimGrey\" stroke-width=\"0.8\" d=\"M67.94,-126.78C92.48,-116.65 130.41,-100.98 158.85,-89.24\"/>\n",
       "<polygon fill=\"DimGrey\" stroke=\"DimGrey\" stroke-width=\"0.8\" points=\"159.83,-92.62 167.74,-85.57 157.16,-86.15 159.83,-92.62\"/>\n",
       "</g>\n",
       "<!-- poet1&#45;&gt;report -->\n",
       "<g id=\"edge10\" class=\"edge\">\n",
       "<title>poet1&#45;&gt;report</title>\n",
       "<path fill=\"none\" stroke=\"DimGrey\" stroke-width=\"0.8\" d=\"M53.81,-126.81C70.15,-111.28 102.69,-81.04 132.2,-57.6 145.08,-47.37 160.05,-36.74 172.38,-28.3\"/>\n",
       "<polygon fill=\"DimGrey\" stroke=\"DimGrey\" stroke-width=\"0.8\" points=\"174.29,-31.24 180.6,-22.73 170.36,-25.44 174.29,-31.24\"/>\n",
       "</g>\n",
       "<!-- poet2 -->\n",
       "<g id=\"node3\" class=\"node\">\n",
       "<title>poet2</title>\n",
       "<polygon fill=\"SteelBlue\" stroke=\"Grey\" points=\"186.8,-148.8 104,-148.8 104,-127.2 190.4,-127.2 190.4,-145.2 186.8,-148.8\"/>\n",
       "<polyline fill=\"none\" stroke=\"Grey\" points=\"186.8,-148.8 186.8,-145.2\"/>\n",
       "<polyline fill=\"none\" stroke=\"Grey\" points=\"190.4,-145.2 186.8,-145.2\"/>\n",
       "<text text-anchor=\"middle\" x=\"147.2\" y=\"-133.72\" font-family=\"Times,serif\" font-size=\"12.00\" fill=\"White\">poet2</text>\n",
       "</g>\n",
       "<!-- poet2&#45;&gt;judge -->\n",
       "<g id=\"edge2\" class=\"edge\">\n",
       "<title>poet2&#45;&gt;judge</title>\n",
       "<path fill=\"none\" stroke=\"DimGrey\" stroke-width=\"0.8\" d=\"M155.23,-126.78C161.72,-118.53 171.1,-106.59 179.35,-96.11\"/>\n",
       "<polygon fill=\"DimGrey\" stroke=\"DimGrey\" stroke-width=\"0.8\" points=\"182.03,-98.36 185.46,-88.34 176.52,-94.04 182.03,-98.36\"/>\n",
       "</g>\n",
       "<!-- poet2&#45;&gt;report -->\n",
       "<g id=\"edge3\" class=\"edge\">\n",
       "<title>poet2&#45;&gt;report</title>\n",
       "<path fill=\"none\" stroke=\"DimGrey\" stroke-width=\"0.8\" d=\"M143.37,-126.89C138.09,-111.21 130.36,-80.46 141.2,-57.6 146.94,-45.49 157.63,-35.51 168.14,-28\"/>\n",
       "<polygon fill=\"DimGrey\" stroke=\"DimGrey\" stroke-width=\"0.8\" points=\"169.76,-31.12 176.19,-22.7 165.92,-25.27 169.76,-31.12\"/>\n",
       "</g>\n",
       "<!-- poet3 -->\n",
       "<g id=\"node4\" class=\"node\">\n",
       "<title>poet3</title>\n",
       "<polygon fill=\"SteelBlue\" stroke=\"Grey\" points=\"298.4,-133.53 298.4,-142.47 273.09,-148.8 237.31,-148.8 212,-142.47 212,-133.53 237.31,-127.2 273.09,-127.2 298.4,-133.53\"/>\n",
       "<polygon fill=\"none\" stroke=\"Grey\" points=\"302.4,-130.4 302.4,-145.6 273.59,-152.8 236.81,-152.8 208,-145.6 208,-130.4 236.81,-123.2 273.59,-123.2 302.4,-130.4\"/>\n",
       "<text text-anchor=\"middle\" x=\"255.2\" y=\"-133.72\" font-family=\"Times,serif\" font-size=\"12.00\" fill=\"White\">poet3</text>\n",
       "</g>\n",
       "<!-- poet3&#45;&gt;judge -->\n",
       "<g id=\"edge7\" class=\"edge\">\n",
       "<title>poet3&#45;&gt;judge</title>\n",
       "<path fill=\"none\" stroke=\"DimGrey\" stroke-width=\"0.8\" d=\"M242.33,-122.89C235.04,-114.9 225.77,-104.73 217.53,-95.69\"/>\n",
       "<polygon fill=\"DimGrey\" stroke=\"DimGrey\" stroke-width=\"0.8\" points=\"220.18,-93.4 210.85,-88.37 215,-98.12 220.18,-93.4\"/>\n",
       "</g>\n",
       "<!-- poet3&#45;&gt;report -->\n",
       "<g id=\"edge8\" class=\"edge\">\n",
       "<title>poet3&#45;&gt;report</title>\n",
       "<path fill=\"none\" stroke=\"DimGrey\" stroke-width=\"0.8\" d=\"M258.21,-122.97C261.04,-106.43 263.45,-78.53 253.2,-57.6 247.31,-45.56 236.59,-35.6 226.1,-28.07\"/>\n",
       "<polygon fill=\"DimGrey\" stroke=\"DimGrey\" stroke-width=\"0.8\" points=\"228.35,-25.36 218.08,-22.77 224.49,-31.2 228.35,-25.36\"/>\n",
       "</g>\n",
       "<!-- poet4 -->\n",
       "<g id=\"node5\" class=\"node\">\n",
       "<title>poet4</title>\n",
       "<polygon fill=\"SteelBlue\" stroke=\"Grey\" points=\"406.4,-133.53 406.4,-142.47 381.09,-148.8 345.31,-148.8 320,-142.47 320,-133.53 345.31,-127.2 381.09,-127.2 406.4,-133.53\"/>\n",
       "<text text-anchor=\"middle\" x=\"363.2\" y=\"-133.72\" font-family=\"Times,serif\" font-size=\"12.00\" fill=\"White\">poet4</text>\n",
       "</g>\n",
       "<!-- poet4&#45;&gt;judge -->\n",
       "<g id=\"edge5\" class=\"edge\">\n",
       "<title>poet4&#45;&gt;judge</title>\n",
       "<path fill=\"none\" stroke=\"DimGrey\" stroke-width=\"0.8\" d=\"M340.12,-128.16C313.55,-117.98 269.43,-101.07 237.23,-88.74\"/>\n",
       "<polygon fill=\"DimGrey\" stroke=\"DimGrey\" stroke-width=\"0.8\" points=\"238.53,-85.49 227.94,-85.18 236.02,-92.02 238.53,-85.49\"/>\n",
       "</g>\n",
       "<!-- poet4&#45;&gt;report -->\n",
       "<g id=\"edge4\" class=\"edge\">\n",
       "<title>poet4&#45;&gt;report</title>\n",
       "<path fill=\"none\" stroke=\"DimGrey\" stroke-width=\"0.8\" d=\"M352.62,-126.89C335.96,-111.2 302.33,-80.44 271.2,-57.6 256.35,-46.71 238.87,-35.8 224.63,-27.37\"/>\n",
       "<polygon fill=\"DimGrey\" stroke=\"DimGrey\" stroke-width=\"0.8\" points=\"226.8,-24.59 216.4,-22.57 223.27,-30.63 226.8,-24.59\"/>\n",
       "</g>\n",
       "<!-- with&#45;russian -->\n",
       "<g id=\"node7\" class=\"node\">\n",
       "<title>with&#45;russian</title>\n",
       "<polygon fill=\"SteelBlue\" stroke=\"Grey\" points=\"407.99,-210.4 336.74,-210.4 318.41,-188.8 389.66,-188.8 407.99,-210.4\"/>\n",
       "<text text-anchor=\"middle\" x=\"363.2\" y=\"-195.32\" font-family=\"Times,serif\" font-size=\"12.00\" fill=\"White\">with&#45;russian</text>\n",
       "</g>\n",
       "<!-- with&#45;russian&#45;&gt;poet4 -->\n",
       "<g id=\"edge1\" class=\"edge\">\n",
       "<title>with&#45;russian&#45;&gt;poet4</title>\n",
       "<path fill=\"none\" stroke=\"DimGrey\" stroke-width=\"0.8\" stroke-dasharray=\"5,2\" d=\"M363.2,-188.49C363.2,-180.74 363.2,-169.77 363.2,-160.12\"/>\n",
       "<polygon fill=\"DimGrey\" stroke=\"DimGrey\" stroke-width=\"0.8\" points=\"366.7,-160.17 363.2,-150.17 359.7,-160.17 366.7,-160.17\"/>\n",
       "</g>\n",
       "</g>\n",
       "</svg>\n"
      ]
     },
     "execution_count": 64,
     "metadata": {},
     "output_type": "execute_result"
    }
   ],
   "source": [
    "#% html\n",
    "$gBestPoem.dot(\n",
    "    engine => 'dot', :9graph-size, node-width => 1.2, node-color => 'Grey', \n",
    "    edge-color => 'DimGrey', edge-width => 0.8,\n",
    "    node-shapes => {\n",
    "        Str => 'note', \n",
    "        Routine => 'doubleoctagon', \n",
    "        :!RoutineWrapper, \n",
    "        'LLM::Function' => 'octagon' \n",
    "    }\n",
    "):svg"
   ]
  },
  {
   "cell_type": "markdown",
   "id": "79a6c3a1",
   "metadata": {},
   "source": [
    "Here is the corresponding dictionary:"
   ]
  },
  {
   "cell_type": "markdown",
   "id": "555b5391",
   "metadata": {},
   "source": [
    "| Graph node / edge                    | DOT form / style                       | SVG preview                                                                                                                                                                                                                                                                                                                                                                                                                        |\n",
    "| ------------------------------------ | -------------------------------------- | ---------------------------------------------------------------------------------------------------------------------------------------------------------------------------------------------------------------------------------------------------------------------------------------------------------------------------------------------------------------------------------------------------------------------------------- |\n",
    "| Plain text                           | `shape=note`                           | <svg width=\"140\" height=\"70\" viewBox=\"0 0 140 70\" xmlns=\"http://www.w3.org/2000/svg\" aria-label=\"note\"><path d=\"M20,10 h80 l20,20 v30 h-100 z\" fill=\"#4682B4\" stroke=\"#808080\" stroke-width=\"2\"/><line x1=\"100\" y1=\"10\" x2=\"120\" y2=\"30\" stroke=\"#808080\" stroke-width=\"2\"/></svg>                                                                                                                                                 |\n",
    "| LLM function                         | `shape=octagon`                        | <svg width=\"140\" height=\"70\" viewBox=\"0 0 140 70\" xmlns=\"http://www.w3.org/2000/svg\" aria-label=\"octagon\"><polygon points=\"40,10 100,10 120,25 120,45 100,60 40,60 20,45 20,25\" fill=\"#4682B4\" stroke=\"#808080\" stroke-width=\"2\"/></svg>                                                                                                                                                                                           |\n",
    "| Evaluation function, wrapped<br>LLM-submit  | `shape=doubleoctagon`                  | <svg width=\"140\" height=\"70\" viewBox=\"0 0 140 70\" xmlns=\"http://www.w3.org/2000/svg\" aria-label=\"doubleoctagon\"><polygon points=\"28,12 112,12 128,26 128,44 112,58 28,58 12,44 12,26\" fill=\"none\" stroke=\"#808080\" stroke-width=\"2\"/><polygon points=\"36,18 104,18 116,27 116,43 104,52 36,52 24,43 24,27\" fill=\"SteelBlue\" stroke=\"#808080\" stroke-width=\"2\"/></svg>                                                                |\n",
    "| Evaluation function<br>no LLM-submit | `shape=box`                            | <svg width=\"140\" height=\"70\" viewBox=\"0 0 140 70\" xmlns=\"http://www.w3.org/2000/svg\" aria-label=\"box\"><rect x=\"28\" y=\"17\" width=\"84\" height=\"36\" fill=\"#4682B4\" stroke=\"#808080\" stroke-width=\"2\"/></svg>                                                                                                                                                                                                                          |\n",
    "| Input argument                       | `shape=parallelogram`                  | <svg width=\"140\" height=\"70\" viewBox=\"0 0 140 70\" xmlns=\"http://www.w3.org/2000/svg\" aria-label=\"parallelogram\"><polygon points=\"32,17 120,17 104,53 16,53\" fill=\"#4682B4\" stroke=\"#808080\" stroke-width=\"2\"/></svg>                                                                                                                                                                                                               |\n",
    "| Dependency between evaluation nodes  | edge with default (solid) style.       | <svg width=\"180\" height=\"50\" viewBox=\"0 0 180 50\" xmlns=\"http://www.w3.org/2000/svg\" aria-label=\"solid arrow\"><defs><marker id=\"arrowSolidGray\" markerWidth=\"12\" markerHeight=\"8\" refX=\"10\" refY=\"4\" orient=\"auto\"><polygon points=\"0 0, 10 4, 0 8\" fill=\"#808080\"/></marker></defs><line x1=\"10\" y1=\"25\" x2=\"170\" y2=\"25\" stroke=\"#808080\" stroke-width=\"2.5\" marker-end=\"url(#arrowSolidGray)\"/></svg>                           |\n",
    "| Conditional dependency between nodes | edge with `style=dashed`               | <svg width=\"180\" height=\"50\" viewBox=\"0 0 180 50\" xmlns=\"http://www.w3.org/2000/svg\" aria-label=\"dashed arrow\"><defs><marker id=\"arrowDashedGray\" markerWidth=\"12\" markerHeight=\"8\" refX=\"10\" refY=\"4\" orient=\"auto\"><polygon points=\"0 0, 10 4, 0 8\" fill=\"#808080\"/></marker></defs><line x1=\"10\" y1=\"25\" x2=\"170\" y2=\"25\" stroke=\"#808080\" stroke-width=\"2.5\" stroke-dasharray=\"6 4\" marker-end=\"url(#arrowDashedGray)\"/></svg> |\n"
   ]
  },
  {
   "cell_type": "markdown",
   "id": "2b2c5fe2",
   "metadata": {},
   "source": [
    "---\n",
    "\n",
    "## References"
   ]
  },
  {
   "cell_type": "markdown",
   "id": "e83991bf",
   "metadata": {},
   "source": [
    "[AAp1] Anton Antonov, \n",
    "[LLM::Graph, Raku package](https://github.com/antononcube/Raku-LLM-Graph),\n",
    "(2025),\n",
    "[GitHub/antononcube](https://github.com/antononcube).\n",
    "\n",
    "[AAp2] Anton Antonov, \n",
    "[Graph, Raku package](https://github.com/antononcube/Raku-Graph),\n",
    "(2024-2025),\n",
    "[GitHub/antononcube](https://github.com/antononcube)."
   ]
  }
 ],
 "metadata": {
  "kernelspec": {
   "display_name": "RakuChatbook",
   "language": "raku",
   "name": "raku"
  },
  "language_info": {
   "file_extension": ".raku",
   "mimetype": "text/x-raku",
   "name": "raku",
   "version": "6.d"
  }
 },
 "nbformat": 4,
 "nbformat_minor": 5
}
