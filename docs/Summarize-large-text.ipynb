{
 "cells": [
  {
   "cell_type": "markdown",
   "id": "2ee4231a",
   "metadata": {},
   "source": [
    "# Summarize large text\n",
    "\n",
    "Anton Antonov   \n",
    "August 2025"
   ]
  },
  {
   "cell_type": "markdown",
   "id": "0b2920a3",
   "metadata": {},
   "source": [
    "----\n",
    "\n",
    "## Setup"
   ]
  },
  {
   "cell_type": "code",
   "execution_count": 1,
   "id": "3b633650",
   "metadata": {},
   "outputs": [],
   "source": [
    "use LLM::Graph;\n",
    "use Graph;\n",
    "use Data::Importers;"
   ]
  },
  {
   "cell_type": "code",
   "execution_count": 2,
   "id": "3e896bcf",
   "metadata": {},
   "outputs": [
    {
     "data": {
      "text/plain": [
       "neato"
      ]
     },
     "execution_count": 2,
     "metadata": {},
     "output_type": "execute_result"
    }
   ],
   "source": [
    "my $engine = 'neato';"
   ]
  },
  {
   "cell_type": "markdown",
   "id": "6a262388",
   "metadata": {},
   "source": [
    "----\n",
    "\n",
    "## LLM graph"
   ]
  },
  {
   "cell_type": "code",
   "execution_count": 3,
   "id": "a85f40d6",
   "metadata": {},
   "outputs": [
    {
     "data": {
      "text/plain": [
       "{IngestText => {eval-function => sub { }}, MindMap => sub { }, Report => {eval-function => sub { }}, Summary => sub { }, ThinkingHats => sub { }, TopicsTable => sub { }, TypeOfInput => sub { }}"
      ]
     },
     "execution_count": 3,
     "metadata": {},
     "output_type": "execute_result"
    }
   ],
   "source": [
    "my %rules =\n",
    "TypeOfInput => sub ($_) {\"Determine the input type of\\n\\n$_.\\n\\nThe result should be one of: 'Text', 'URL', 'FilePath', or 'Other'.\"  ~ llm-prompt('NothingElse')('single string')},\n",
    "\n",
    "IngestText =>  { eval-function => sub ($TypeOfInput, $_) { $TypeOfInput ~~ / URL | FilePath/ ?? data-import($_) !! $_} },\n",
    "\n",
    "Summary => sub ($IngestText) { llm-prompt(\"Summarize\")() ~ \"\\n\\n$IngestText\" },\n",
    "\n",
    "TopicsTable => sub ($IngestText) { llm-prompt(\"ThemeTableJSON\")($IngestText, 'article', 20) },\n",
    "\n",
    "ThinkingHats => sub ($IngestText) { llm-prompt(\"ThinkingHatsFeedback\")($IngestText, 'HTML') },\n",
    "\n",
    "MindMap => sub ($IngestText) { \n",
    "    [\n",
    "        \"Create a concise mermaid-js mind-map for the text:\",\n",
    "        $IngestText,\n",
    "        \"All node messages should be in quotes.\",\n",
    "        llm-prompt(\"NothingElse\")(\"correct mermaid-js\")\n",
    "    ]\n",
    "},\n",
    "\n",
    "Report => { eval-function => \n",
    "    sub ($Summary, $TopicsTable, $MindMap, $ThinkingHats) { \n",
    "        [\n",
    "            '# Report',\n",
    "            '## Summary',\n",
    "            $Summary,\n",
    "            '## Topics',\n",
    "            to-html(\n",
    "                from-json($TopicsTable.subst(/ ^ '```json' | '```' $/):g),\n",
    "                field-names => <theme content>,\n",
    "                align => 'left'),\n",
    "            \"## Mind map\",\n",
    "            $MindMap,\n",
    "            '## Thinking hats',\n",
    "            $ThinkingHats.subst(/ ^ '```html' | '```' $/):g\n",
    "        ].join(\"\\n\\n\")\n",
    "    } \n",
    "}\n",
    ";"
   ]
  },
  {
   "cell_type": "markdown",
   "id": "dea19308",
   "metadata": {},
   "source": [
    "Make the graph:"
   ]
  },
  {
   "cell_type": "code",
   "execution_count": 4,
   "id": "915edfe5",
   "metadata": {},
   "outputs": [
    {
     "data": {
      "text/plain": [
       "LLM::Graph(size => 7, nodes => IngestText, MindMap, Report, Summary, ThinkingHats, TopicsTable, TypeOfInput)"
      ]
     },
     "execution_count": 4,
     "metadata": {},
     "output_type": "execute_result"
    }
   ],
   "source": [
    "my $gCombinedSummary = LLM::Graph.new(%rules)"
   ]
  },
  {
   "cell_type": "markdown",
   "id": "491f8293",
   "metadata": {},
   "source": [
    "----\n",
    "\n",
    "## Full computation"
   ]
  },
  {
   "cell_type": "markdown",
   "id": "3f79931a",
   "metadata": {},
   "source": [
    "URL in text statistics:"
   ]
  },
  {
   "cell_type": "code",
   "execution_count": 5,
   "id": "c29e8b6d",
   "metadata": {},
   "outputs": [
    {
     "data": {
      "text/plain": [
       "(chars => 5861 words => 1158 lines => 156)"
      ]
     },
     "execution_count": 5,
     "metadata": {},
     "output_type": "execute_result"
    }
   ],
   "source": [
    "my $url = 'https://raw.githubusercontent.com/antononcube/RakuForPrediction-blog/refs/heads/main/Data/Graph-neat-examples-in-Raku-Set-3-YouTube.txt';\n",
    "my $txtFocus = data-import($url);\n",
    "\n",
    "text-stats($txtFocus)"
   ]
  },
  {
   "cell_type": "markdown",
   "id": "389c38a4",
   "metadata": {},
   "source": [
    "Computation:"
   ]
  },
  {
   "cell_type": "code",
   "execution_count": 6,
   "id": "bd624999",
   "metadata": {},
   "outputs": [
    {
     "data": {
      "text/plain": [
       "LLM::Graph(size => 7, nodes => IngestText, MindMap, Report, Summary, ThinkingHats, TopicsTable, TypeOfInput)"
      ]
     },
     "execution_count": 6,
     "metadata": {},
     "output_type": "execute_result"
    }
   ],
   "source": [
    "$gCombinedSummary.eval($url)"
   ]
  },
  {
   "cell_type": "markdown",
   "id": "8f650a6c",
   "metadata": {},
   "source": [
    "Show the corresponding graph:"
   ]
  },
  {
   "cell_type": "code",
   "execution_count": 7,
   "id": "fa06fc37",
   "metadata": {},
   "outputs": [
    {
     "data": {
      "text/html": [
       "<?xml version=\"1.0\" encoding=\"UTF-8\" standalone=\"no\"?>\n",
       "<!DOCTYPE svg PUBLIC \"-//W3C//DTD SVG 1.1//EN\"\n",
       " \"http://www.w3.org/Graphics/SVG/1.1/DTD/svg11.dtd\">\n",
       "<!-- Generated by graphviz version 12.2.1 (20241206.2353)\n",
       " -->\n",
       "<!-- Pages: 1 -->\n",
       "<svg width=\"406pt\" height=\"260pt\"\n",
       " viewBox=\"0.00 0.00 406.40 260.00\" xmlns=\"http://www.w3.org/2000/svg\" xmlns:xlink=\"http://www.w3.org/1999/xlink\">\n",
       "<g id=\"graph0\" class=\"graph\" transform=\"scale(1 1) rotate(0) translate(4 256)\">\n",
       "<polygon fill=\"none\" stroke=\"none\" points=\"-4,4 -4,-256 402.4,-256 402.4,4 -4,4\"/>\n",
       "<!-- $_ -->\n",
       "<g id=\"node1\" class=\"node\">\n",
       "<title>$_</title>\n",
       "<ellipse fill=\"SteelBlue\" stroke=\"Black\" cx=\"199.2\" cy=\"-241.2\" rx=\"43.2\" ry=\"10.8\"/>\n",
       "<text text-anchor=\"middle\" x=\"199.2\" y=\"-236.92\" font-family=\"Times,serif\" font-size=\"12.00\" fill=\"White\">$_</text>\n",
       "</g>\n",
       "<!-- IngestText -->\n",
       "<g id=\"node2\" class=\"node\">\n",
       "<title>IngestText</title>\n",
       "<ellipse fill=\"SteelBlue\" stroke=\"Black\" cx=\"199.2\" cy=\"-126\" rx=\"43.2\" ry=\"10.8\"/>\n",
       "<text text-anchor=\"middle\" x=\"199.2\" y=\"-121.72\" font-family=\"Times,serif\" font-size=\"12.00\" fill=\"White\">IngestText</text>\n",
       "</g>\n",
       "<!-- $_&#45;&gt;IngestText -->\n",
       "<g id=\"edge7\" class=\"edge\">\n",
       "<title>$_&#45;&gt;IngestText</title>\n",
       "<path fill=\"none\" stroke=\"SteelBlue\" stroke-width=\"2\" d=\"M194.64,-230.27C190.72,-221.16 185.37,-207.19 183.2,-194.4 181.59,-184.94 181.59,-182.26 183.2,-172.8 184.56,-164.81 187.15,-156.35 189.87,-148.91\"/>\n",
       "<polygon fill=\"SteelBlue\" stroke=\"SteelBlue\" stroke-width=\"2\" points=\"193.07,-150.33 193.52,-139.74 186.57,-147.74 193.07,-150.33\"/>\n",
       "</g>\n",
       "<!-- TypeOfInput -->\n",
       "<g id=\"node8\" class=\"node\">\n",
       "<title>TypeOfInput</title>\n",
       "<ellipse fill=\"SteelBlue\" stroke=\"Black\" cx=\"235.2\" cy=\"-183.6\" rx=\"43.2\" ry=\"10.8\"/>\n",
       "<text text-anchor=\"middle\" x=\"235.2\" y=\"-179.32\" font-family=\"Times,serif\" font-size=\"12.00\" fill=\"White\">TypeOfInput</text>\n",
       "</g>\n",
       "<!-- $_&#45;&gt;TypeOfInput -->\n",
       "<g id=\"edge8\" class=\"edge\">\n",
       "<title>$_&#45;&gt;TypeOfInput</title>\n",
       "<path fill=\"none\" stroke=\"SteelBlue\" stroke-width=\"2\" d=\"M205.64,-230.26C210.14,-223.3 216.32,-213.76 221.87,-205.19\"/>\n",
       "<polygon fill=\"SteelBlue\" stroke=\"SteelBlue\" stroke-width=\"2\" points=\"224.68,-207.29 227.17,-197 218.8,-203.49 224.68,-207.29\"/>\n",
       "</g>\n",
       "<!-- MindMap -->\n",
       "<g id=\"node3\" class=\"node\">\n",
       "<title>MindMap</title>\n",
       "<ellipse fill=\"SteelBlue\" stroke=\"Black\" cx=\"43.2\" cy=\"-68.4\" rx=\"43.2\" ry=\"10.8\"/>\n",
       "<text text-anchor=\"middle\" x=\"43.2\" y=\"-64.12\" font-family=\"Times,serif\" font-size=\"12.00\" fill=\"White\">MindMap</text>\n",
       "</g>\n",
       "<!-- IngestText&#45;&gt;MindMap -->\n",
       "<g id=\"edge4\" class=\"edge\">\n",
       "<title>IngestText&#45;&gt;MindMap</title>\n",
       "<path fill=\"none\" stroke=\"SteelBlue\" stroke-width=\"2\" d=\"M175.51,-116.56C149.78,-107.38 108.39,-92.64 78.76,-82.07\"/>\n",
       "<polygon fill=\"SteelBlue\" stroke=\"SteelBlue\" stroke-width=\"2\" points=\"80.31,-78.91 69.71,-78.85 77.96,-85.5 80.31,-78.91\"/>\n",
       "</g>\n",
       "<!-- Summary -->\n",
       "<g id=\"node5\" class=\"node\">\n",
       "<title>Summary</title>\n",
       "<ellipse fill=\"SteelBlue\" stroke=\"Black\" cx=\"147.2\" cy=\"-68.4\" rx=\"43.2\" ry=\"10.8\"/>\n",
       "<text text-anchor=\"middle\" x=\"147.2\" y=\"-64.12\" font-family=\"Times,serif\" font-size=\"12.00\" fill=\"White\">Summary</text>\n",
       "</g>\n",
       "<!-- IngestText&#45;&gt;Summary -->\n",
       "<g id=\"edge2\" class=\"edge\">\n",
       "<title>IngestText&#45;&gt;Summary</title>\n",
       "<path fill=\"none\" stroke=\"SteelBlue\" stroke-width=\"2\" d=\"M189.9,-115.06C183.03,-107.71 173.45,-97.46 165.1,-88.54\"/>\n",
       "<polygon fill=\"SteelBlue\" stroke=\"SteelBlue\" stroke-width=\"2\" points=\"167.87,-86.38 158.48,-81.46 162.76,-91.16 167.87,-86.38\"/>\n",
       "</g>\n",
       "<!-- ThinkingHats -->\n",
       "<g id=\"node6\" class=\"node\">\n",
       "<title>ThinkingHats</title>\n",
       "<ellipse fill=\"SteelBlue\" stroke=\"Black\" cx=\"251.2\" cy=\"-68.4\" rx=\"43.2\" ry=\"10.8\"/>\n",
       "<text text-anchor=\"middle\" x=\"251.2\" y=\"-64.12\" font-family=\"Times,serif\" font-size=\"12.00\" fill=\"White\">ThinkingHats</text>\n",
       "</g>\n",
       "<!-- IngestText&#45;&gt;ThinkingHats -->\n",
       "<g id=\"edge1\" class=\"edge\">\n",
       "<title>IngestText&#45;&gt;ThinkingHats</title>\n",
       "<path fill=\"none\" stroke=\"SteelBlue\" stroke-width=\"2\" d=\"M208.5,-115.06C215.37,-107.71 224.95,-97.46 233.3,-88.54\"/>\n",
       "<polygon fill=\"SteelBlue\" stroke=\"SteelBlue\" stroke-width=\"2\" points=\"235.64,-91.16 239.92,-81.46 230.53,-86.38 235.64,-91.16\"/>\n",
       "</g>\n",
       "<!-- TopicsTable -->\n",
       "<g id=\"node7\" class=\"node\">\n",
       "<title>TopicsTable</title>\n",
       "<ellipse fill=\"SteelBlue\" stroke=\"Black\" cx=\"355.2\" cy=\"-68.4\" rx=\"43.2\" ry=\"10.8\"/>\n",
       "<text text-anchor=\"middle\" x=\"355.2\" y=\"-64.12\" font-family=\"Times,serif\" font-size=\"12.00\" fill=\"White\">TopicsTable</text>\n",
       "</g>\n",
       "<!-- IngestText&#45;&gt;TopicsTable -->\n",
       "<g id=\"edge3\" class=\"edge\">\n",
       "<title>IngestText&#45;&gt;TopicsTable</title>\n",
       "<path fill=\"none\" stroke=\"SteelBlue\" stroke-width=\"2\" d=\"M222.89,-116.56C248.62,-107.38 290.01,-92.64 319.64,-82.07\"/>\n",
       "<polygon fill=\"SteelBlue\" stroke=\"SteelBlue\" stroke-width=\"2\" points=\"320.44,-85.5 328.69,-78.85 318.09,-78.91 320.44,-85.5\"/>\n",
       "</g>\n",
       "<!-- Report -->\n",
       "<g id=\"node4\" class=\"node\">\n",
       "<title>Report</title>\n",
       "<ellipse fill=\"SteelBlue\" stroke=\"Black\" cx=\"199.2\" cy=\"-10.8\" rx=\"43.2\" ry=\"10.8\"/>\n",
       "<text text-anchor=\"middle\" x=\"199.2\" y=\"-6.52\" font-family=\"Times,serif\" font-size=\"12.00\" fill=\"White\">Report</text>\n",
       "</g>\n",
       "<!-- MindMap&#45;&gt;Report -->\n",
       "<g id=\"edge5\" class=\"edge\">\n",
       "<title>MindMap&#45;&gt;Report</title>\n",
       "<path fill=\"none\" stroke=\"SteelBlue\" stroke-width=\"2\" d=\"M66.89,-58.96C92.62,-49.78 134.01,-35.04 163.64,-24.47\"/>\n",
       "<polygon fill=\"SteelBlue\" stroke=\"SteelBlue\" stroke-width=\"2\" points=\"164.44,-27.9 172.69,-21.25 162.09,-21.31 164.44,-27.9\"/>\n",
       "</g>\n",
       "<!-- Summary&#45;&gt;Report -->\n",
       "<g id=\"edge11\" class=\"edge\">\n",
       "<title>Summary&#45;&gt;Report</title>\n",
       "<path fill=\"none\" stroke=\"SteelBlue\" stroke-width=\"2\" d=\"M156.5,-57.46C163.37,-50.11 172.95,-39.86 181.3,-30.94\"/>\n",
       "<polygon fill=\"SteelBlue\" stroke=\"SteelBlue\" stroke-width=\"2\" points=\"183.64,-33.56 187.92,-23.86 178.53,-28.78 183.64,-33.56\"/>\n",
       "</g>\n",
       "<!-- ThinkingHats&#45;&gt;Report -->\n",
       "<g id=\"edge6\" class=\"edge\">\n",
       "<title>ThinkingHats&#45;&gt;Report</title>\n",
       "<path fill=\"none\" stroke=\"SteelBlue\" stroke-width=\"2\" d=\"M241.9,-57.46C235.03,-50.11 225.45,-39.86 217.1,-30.94\"/>\n",
       "<polygon fill=\"SteelBlue\" stroke=\"SteelBlue\" stroke-width=\"2\" points=\"219.87,-28.78 210.48,-23.86 214.76,-33.56 219.87,-28.78\"/>\n",
       "</g>\n",
       "<!-- TopicsTable&#45;&gt;Report -->\n",
       "<g id=\"edge10\" class=\"edge\">\n",
       "<title>TopicsTable&#45;&gt;Report</title>\n",
       "<path fill=\"none\" stroke=\"SteelBlue\" stroke-width=\"2\" d=\"M331.51,-58.96C305.78,-49.78 264.39,-35.04 234.76,-24.47\"/>\n",
       "<polygon fill=\"SteelBlue\" stroke=\"SteelBlue\" stroke-width=\"2\" points=\"236.31,-21.31 225.71,-21.25 233.96,-27.9 236.31,-21.31\"/>\n",
       "</g>\n",
       "<!-- TypeOfInput&#45;&gt;IngestText -->\n",
       "<g id=\"edge9\" class=\"edge\">\n",
       "<title>TypeOfInput&#45;&gt;IngestText</title>\n",
       "<path fill=\"none\" stroke=\"SteelBlue\" stroke-width=\"2\" d=\"M228.76,-172.66C224.26,-165.7 218.08,-156.16 212.53,-147.59\"/>\n",
       "<polygon fill=\"SteelBlue\" stroke=\"SteelBlue\" stroke-width=\"2\" points=\"215.6,-145.89 207.23,-139.4 209.72,-149.69 215.6,-145.89\"/>\n",
       "</g>\n",
       "</g>\n",
       "</svg>\n"
      ]
     },
     "execution_count": 7,
     "metadata": {},
     "output_type": "execute_result"
    }
   ],
   "source": [
    "#% html\n",
    "$gCombinedSummary.graph.dot(engine => 'dot', node-shape => 'ellipse', node-width => 1.2 ):svg"
   ]
  },
  {
   "cell_type": "markdown",
   "id": "9e3c7ab1",
   "metadata": {},
   "source": [
    "Save the document:"
   ]
  },
  {
   "cell_type": "code",
   "execution_count": 8,
   "id": "667125cb",
   "metadata": {},
   "outputs": [
    {
     "data": {
      "text/plain": [
       "Proc.new(in => IO::Pipe, out => IO::Pipe, err => IO::Pipe, os-error => Str, exitcode => 0, signal => 0, pid => 2887, command => (\"open ./Report.md\",))"
      ]
     },
     "execution_count": 8,
     "metadata": {},
     "output_type": "execute_result"
    }
   ],
   "source": [
    "spurt('./Report.md', $gCombinedSummary.rules<Report><result>);\n",
    "shell \"open ./Report.md\""
   ]
  },
  {
   "cell_type": "markdown",
   "id": "e5d0ed00",
   "metadata": {},
   "source": [
    "Final result:"
   ]
  },
  {
   "cell_type": "code",
   "execution_count": 9,
   "id": "be73ed90",
   "metadata": {},
   "outputs": [
    {
     "data": {
      "text/markdown": [
       "# Report\n",
       "\n",
       "## Summary\n",
       "\n",
       "The presentation titled \"Graph Neat Examples in Raku\" by Anton Antonov demonstrates the functionalities of the Raku package \"graph\" through nested graphs and file system graphs, visualized using JavaScript libraries d3.js and fre GS. Nested graphs involve applying functions repeatedly to generate symbolic representations, while file system graphs visualize directory structures and their files, including examples from Mathematica notebooks and the Raku doc repository. The talk highlights methods for creating, analyzing, and displaying these graphs, such as computing vertex degrees and using various graph embeddings and layouts.\n",
       "\n",
       "## Topics\n",
       "\n",
       "<table border=\"1\"><thead><tr><th>theme</th><th>content</th></tr></thead><tbody><tr><td align=left>Introduction and Presentation Overview</td><td align=left>Introduction of presenter, date, and overview of nested graphs and file system graph examples.</td></tr><tr><td align=left>Definition and Purpose of Neat Examples</td><td align=left>Explanation of neat examples as concise code producing compelling visual textual outputs.</td></tr><tr><td align=left>Graph Package and Visualization Tools</td><td align=left>Description of Raku graph package and visualization using JavaScript libraries d3js and fre GS.</td></tr><tr><td align=left>Nested Graphs Basic Examples</td><td align=left>Demonstrates simple nested graphs with function applications and symbolic representation.</td></tr><tr><td align=left>Nested Graphs with Two Functions</td><td align=left>Shows nested graphs using two functions and visualizing the results with JavaScript and SVG.</td></tr><tr><td align=left>Modulo Graph Example</td><td align=left>Explanation of more complex graph using modulo operations on vertex values producing directed graphs.</td></tr><tr><td align=left>Range Graph Example</td><td align=left>Using range graphs to demonstrate nesting steps and allomorph applications producing larger graphs.</td></tr><tr><td align=left>Graph Properties and Visualization</td><td align=left>Describes computing in-degree and out-degree, directed vs undirected graphs, and visualization challenges.</td></tr><tr><td align=left>File System Graphs Introduction</td><td align=left>Introduction to file system graphs using the Puffs package and Mathematica notebooks directory.</td></tr><tr><td align=left>Constructing File System Graphs</td><td align=left>Details on creating edges between directories and files for visualization.</td></tr><tr><td align=left>File System Graph Visualization</td><td align=left>Use of circular embedding and displaying file names like CSV, zip, and Mathematica notebooks.</td></tr><tr><td align=left>Raku Documentation File System Graph</td><td align=left>Cloning Raku doc repo, plotting its file system graph with fre GS and force display.</td></tr><tr><td align=left>Interactivity and Node Selection in Graphs</td><td align=left>Discussion on node selection difficulties and attempts to improve graph readability.</td></tr><tr><td align=left>Conclusion</td><td align=left>Final remarks and closing of the presentation.</td></tr></tbody></table>\n",
       "\n",
       "## Mind map\n",
       "\n",
       "```mermaid\n",
       "mindmap\n",
       "  root(( \"Graph Neat Presentation\" ))\n",
       "    subgraph \"Introduction\"\n",
       "      A1(\"Title: Graph Neat\")\n",
       "      A2(\"Presenter: Anton Antonov\")\n",
       "      A3(\"Date: November 28, 2024\")\n",
       "      A4(\"Focus: Neat examples in Raku set\")\n",
       "    end\n",
       "    subgraph \"Examples Sets\"\n",
       "      B1(\"Nested Graphs\")\n",
       "      B2(\"File System Graphs\")\n",
       "    end\n",
       "    subgraph \"Neat Examples Definition\"\n",
       "      C1(\"Concise, straightforward code\")\n",
       "      C2(\"Compelling visual & textual outputs\")\n",
       "    end\n",
       "    subgraph \"Tools & Libraries\"\n",
       "      D1(\"Raku package: graph\")\n",
       "      D2(\"Visualization: JavaScript & D3.js\")\n",
       "      D3(\"SVG images via GraphViz framework\")\n",
       "    end\n",
       "    subgraph \"Nested Graphs\"\n",
       "      E1(\"Concept: applying function(s) to initial value\")\n",
       "      E2(\"Class: graph::nested with new signature\")\n",
       "      E3(\"Example 1: one function f applied multiple times\")\n",
       "      E4(\"Example 2: two functions f and g applied\")\n",
       "      E5(\"Display: SVG generated & rendered in Jupyter notebook\")\n",
       "      E6(\"Mod Graph\")\n",
       "      E7(\"Range Graph\")\n",
       "      E8(\"Degree computations (in-degree/out-degree)\")\n",
       "      E9(\"Visualization using fre GS (busy graph)\")\n",
       "    end\n",
       "    subgraph \"Mod Graph Details\"\n",
       "      F1(\"Operation: square, add one, mod 10\")\n",
       "      F2(\"Vertices: integers 0-9\")\n",
       "      F3(\"Result: directed graph\")\n",
       "    end\n",
       "    subgraph \"Range Graph Details\"\n",
       "      G1(\"Start: value '9' as string\")\n",
       "      G2(\"One step nesting & second step nesting\")\n",
       "      G3(\"Directed and undirected graphs\")\n",
       "      G4(\"Complete graph when undirected\")\n",
       "      G5(\"Degree methods with abbreviation P\")\n",
       "    end\n",
       "    subgraph \"File System Graphs\"\n",
       "      H1(\"Package: Puffs\")\n",
       "      H2(\"Data: Mathematica notebooks directory\")\n",
       "      H3(\"Process: split files & directories\")\n",
       "      H4(\"Edges: root to subdirectories to files\")\n",
       "      H5(\"Files count: 186\")\n",
       "      H6(\"Visualization: circular embedding\")\n",
       "      H7(\"Showing filenames: csv, zip, nb files\")\n",
       "    end\n",
       "    subgraph \"Raku Doc Files Graph\"\n",
       "      I1(\"Source: Raku doc GitHub repository\")\n",
       "      I2(\"Visualization: JavaScript & fre GS\")\n",
       "      I3(\"Display: force layout, squashed graph\")\n",
       "      I4(\"Nodes: recognizable Raku components\")\n",
       "      I5(\"Nodes interactable for better legibility\")\n",
       "    end\n",
       "    subgraph \"Conclusion\"\n",
       "      J1(\"Final neat example shown\")\n",
       "      J2(\"Thank you\")\n",
       "    end\n",
       "```\n",
       "\n",
       "## Thinking hats\n",
       "\n",
       "<table>\n",
       "  <tr>\n",
       "    <th>Hat Name</th>\n",
       "    <th>Perspective</th>\n",
       "    <th>Feedback</th>\n",
       "    <th>New Ideas</th>\n",
       "  </tr>\n",
       "  <tr>\n",
       "    <td>White Hat</td>\n",
       "    <td>Information and Facts</td>\n",
       "    <td>The presentation covers the use of the Raku language with the Graph package to generate and visualize nested and file system graphs. It utilizes JavaScript libraries such as D3.js and Freggs for rendering SVG graphs, and references the GraphVis framework for graph specification. Examples include nested function compositions, modular arithmetic graphs, range graphs, and directory structure visualizations. The material is technical and assumes familiarity with graph theory concepts and Raku programming.</td>\n",
       "    <td>Include performance benchmarks of graph generation and rendering, provide a detailed explanation of the graph data structures used in Raku, add comparative analysis with other graph visualization tools.</td>\n",
       "  </tr>\n",
       "  <tr>\n",
       "    <td>Black Hat</td>\n",
       "    <td>Judgement and Caution</td>\n",
       "    <td>The presentation may be too technical and dense for audiences unfamiliar with Raku or graph theory, risking disengagement. Visualization of complex graphs appears cluttered and difficult to interpret, especially with large datasets like filesystem graphs. The dependence on JavaScript libraries in a Jupyter notebook environment could introduce compatibility or rendering issues. The old graph Vis framework might have limitations or lack modern features. Also, the code snippets and explanations sometimes lack clarity and fluidity, reducing accessibility.</td>\n",
       "    <td>Focus on simplifying examples for clarity, improve graph layout algorithms to reduce clutter, consider alternative or updated visualization frameworks, provide clearer step-by-step walk-throughs for code segments.</td>\n",
       "  </tr>\n",
       "  <tr>\n",
       "    <td>Gray Hat</td>\n",
       "    <td>Cynicism and Skepticism</td>\n",
       "    <td>The presentation seems to overemphasize the novelty of using Raku with these graph tools when other languages and frameworks have more mature ecosystems. The choice of an \"old\" graph visualization framework suggests a reluctance or inability to adopt more modern or efficient solutions, which may be due to inertia or lack of resources. The complexity and verbosity might serve more as an intellectual display than practical utility. Also, the \"neat\" label applied to examples feels like marketing jargon to gloss over usability issues.</td>\n",
       "    <td>Question why Raku is chosen over more mainstream languages, explore motivations behind sticking with older frameworks, investigate if the complexity provides real user value or is just academic, consider more pragmatic or streamlined approaches.</td>\n",
       "  </tr>\n",
       "  <tr>\n",
       "    <td>Red Hat</td>\n",
       "    <td>Feelings and Emotion</td>\n",
       "    <td>The presentation evokes curiosity and excitement about visualizing abstract concepts like nested function graphs and file structures. However, there is some frustration due to the cluttered visual output and occasional unclear explanations. The passion behind the work is evident, which can inspire interest among Raku users. The live coding and dynamic rendering in Jupyter notebooks add an engaging and interactive feel, though it might overwhelm some viewers.</td>\n",
       "    <td>Incorporate more user-friendly visuals and interaction to reduce frustration, use storytelling to connect emotionally with audience, add motivational context about why these visualizations matter.</td>\n",
       "  </tr>\n",
       "  <tr>\n",
       "    <td>Yellow Hat</td>\n",
       "    <td>Benefits and Creativity</td>\n",
       "    <td>This approach demonstrates powerful capabilities of combining Raku's functional programming with graph visualization, inspiring new ways to understand data structures and code behavior. The use of nested graphs can help users intuitively grasp function compositions. File system graphs can aid in codebase exploration, documentation, and debugging. Integrating JavaScript visualization libraries opens creative opportunities for interactive and dynamic outputs within notebooks.</td>\n",
       "    <td>Develop interactive graph exploration tools, extend to real-time data visualization from live Raku programs, create educational modules teaching graph theory through these examples.</td>\n",
       "  </tr>\n",
       "  <tr>\n",
       "    <td>Green Hat</td>\n",
       "    <td>Profitability and Potential</td>\n",
       "    <td>There is potential for monetization through developing and selling advanced Raku graph visualization libraries or tools tailored for developers and data scientists. The niche nature of Raku may limit market size, but targeting educational institutions or enterprises needing custom graph analysis tools could be profitable. Offering consulting or workshops on using these graph tools in Raku projects is another avenue. Packaging these visualizations into user-friendly dashboards may increase commercial appeal.</td>\n",
       "    <td>Create a commercial plugin or GUI tool for Raku graph visualization, offer training sessions for companies adopting Raku, build SaaS platforms for graph analytics using this technology.</td>\n",
       "  </tr>\n",
       "  <tr>\n",
       "    <td>Blue Hat</td>\n",
       "    <td>Usefulness and Opportunities</td>\n",
       "    <td>The presentation highlights useful applications such as visualizing nested computations and file system hierarchies which can simplify complex data understanding. Opportunities exist to integrate these visualizations into Raku IDEs or developer tools to improve productivity. Extending support to other graph types or datasets (like social networks or dependency graphs) could expand usefulness. There is room to refine UI/UX for better graph interaction and clarity.</td>\n",
       "    <td>Develop plugins for Raku IDEs to visualize code dependencies, extend graph visualizations to other domains, improve graph interaction (zoom, filter, search).</td>\n",
       "  </tr>\n",
       "  <tr>\n",
       "    <td>Purple Hat</td>\n",
       "    <td>Assessment and Direction</td>\n",
       "    <td>The idea of leveraging Raku's Graph package with JavaScript visualization libraries to demonstrate nested and file system graphs is technically sound and has promising educational and practical value. However, challenges with clarity, visual clutter, and possibly outdated frameworks should be addressed. There is untapped potential in making these tools more accessible, interactive, and commercially viable. Balancing technical depth with user-friendliness will be crucial to broaden impact and adoption.</td>\n",
       "    <td>Focus on simplifying and clarifying visualizations, update or replace legacy visualization frameworks, explore commercial and educational applications, and invest in UI/UX improvements to maximize reach and utility.</td>\n",
       "  </tr>\n",
       "</table>"
      ]
     },
     "execution_count": 9,
     "metadata": {},
     "output_type": "execute_result"
    }
   ],
   "source": [
    "#% markdown\n",
    "$gCombinedSummary.rules<Report><result>.subst(/'```html' | '```' $/):g"
   ]
  },
  {
   "cell_type": "markdown",
   "id": "359ffd5c",
   "metadata": {},
   "source": [
    "----\n",
    "\n",
    "## Partial evaluation"
   ]
  },
  {
   "cell_type": "markdown",
   "id": "9a96fbf6",
   "metadata": {},
   "source": [
    "Clone:"
   ]
  },
  {
   "cell_type": "code",
   "execution_count": 10,
   "id": "b3b2a378",
   "metadata": {},
   "outputs": [
    {
     "data": {
      "text/plain": [
       "()"
      ]
     },
     "execution_count": 10,
     "metadata": {},
     "output_type": "execute_result"
    }
   ],
   "source": [
    "# my $gCombinedSummary2 = $gCombinedSummary.clone;"
   ]
  },
  {
   "cell_type": "code",
   "execution_count": 11,
   "id": "42a8217f",
   "metadata": {},
   "outputs": [
    {
     "data": {
      "text/plain": [
       "()"
      ]
     },
     "execution_count": 11,
     "metadata": {},
     "output_type": "execute_result"
    }
   ],
   "source": [
    "# $gCombinedSummary2.eval(\n",
    "#     $url,\n",
    "#     Summary => $gCombinedSummary.rules<Summary><result>,\n",
    "#     TopicsTable => $gCombinedSummary.rules<TopicsTable><result>\n",
    "# )"
   ]
  },
  {
   "cell_type": "code",
   "execution_count": null,
   "id": "a9a94ab5",
   "metadata": {},
   "outputs": [],
   "source": []
  }
 ],
 "metadata": {
  "kernelspec": {
   "display_name": "RakuChatbook",
   "language": "raku",
   "name": "raku"
  },
  "language_info": {
   "file_extension": ".raku",
   "mimetype": "text/x-raku",
   "name": "raku",
   "version": "6.d"
  }
 },
 "nbformat": 4,
 "nbformat_minor": 5
}
