{
 "cells": [
  {
   "cell_type": "markdown",
   "id": "2ee4231a",
   "metadata": {},
   "source": [
    "# Summarize large text\n",
    "\n",
    "Anton Antonov   \n",
    "August 2025"
   ]
  },
  {
   "cell_type": "markdown",
   "id": "a3db3414",
   "metadata": {},
   "source": [
    "----\n",
    "\n",
    "## Introduction"
   ]
  },
  {
   "cell_type": "markdown",
   "id": "04667c07",
   "metadata": {},
   "source": [
    "This notebook illustrates how to specify a Large Language Model (LLM) graph for deriving comprehensive summaries of large texts. \n",
    "The LLM graph is based on different LLM- and non-LLM functions .\n",
    "The Raku package [\"LLM::Graph\"](https://raku.land/zef:antononcube/LLM::Graph) is used, [AAp1].\n",
    "\n",
    "Using the LLM graph is an alternative to the Literate programming based solutions shown in [AA1, AAn1]."
   ]
  },
  {
   "cell_type": "markdown",
   "id": "0b2920a3",
   "metadata": {},
   "source": [
    "----\n",
    "\n",
    "## Setup"
   ]
  },
  {
   "cell_type": "code",
   "execution_count": 1,
   "id": "3b633650",
   "metadata": {},
   "outputs": [],
   "source": [
    "use LLM::Graph;\n",
    "use Data::Importers;\n",
    "\n",
    "use LLM::Tooling;"
   ]
  },
  {
   "cell_type": "code",
   "execution_count": 15,
   "id": "3e896bcf",
   "metadata": {},
   "outputs": [],
   "source": [
    "sink my $engine = 'neato';"
   ]
  },
  {
   "cell_type": "code",
   "execution_count": 16,
   "id": "9376263c",
   "metadata": {},
   "outputs": [],
   "source": [
    "#sink my $conf = llm-configuration('ChatGPT', model => 'gpt-5-mini')\n",
    "sink my $conf = llm-configuration('ChatGPT', model => 'gpt-4.1-mini', temperature => 0.55, max-tokens => 4096)"
   ]
  },
  {
   "cell_type": "markdown",
   "id": "6a262388",
   "metadata": {},
   "source": [
    "----\n",
    "\n",
    "## LLM graph"
   ]
  },
  {
   "cell_type": "markdown",
   "id": "ce318eca",
   "metadata": {},
   "source": [
    "Specify the LLM graph nodes:"
   ]
  },
  {
   "cell_type": "code",
   "execution_count": 3,
   "id": "a85f40d6",
   "metadata": {},
   "outputs": [],
   "source": [
    "sink my %rules =\n",
    "TypeOfInput => sub ($_) {\n",
    "        \"Determine the input type of\\n\\n$_.\\n\\nThe result should be one of: 'Text', 'URL', 'FilePath', or 'Other'.\"  ~ \n",
    "        llm-prompt('NothingElse')('single string')\n",
    "    },\n",
    "\n",
    "IngestText =>  { eval-function => sub ($TypeOfInput, $_) { $TypeOfInput ~~ / URL | FilePath/ ?? data-import($_) !! $_} },\n",
    "\n",
    "Title => { \n",
    "    eval-function => sub ($IngestText, $with-title = Whatever) { $with-title ~~ Str:D ?? $with-title !! llm-synthesize(llm-prompt(\"TitleSuggest\")($IngestText, 'article')) },\n",
    "},\n",
    "\n",
    "Summary => sub ($IngestText) { llm-prompt(\"Summarize\")() ~ \"\\n\\n$IngestText\" },\n",
    "\n",
    "TopicsTable => sub ($IngestText) { llm-prompt(\"ThemeTableJSON\")($IngestText, 'article', 20) },\n",
    "\n",
    "ThinkingHats => sub ($IngestText) { llm-prompt(\"ThinkingHatsFeedback\")($IngestText, 'HTML') },\n",
    "\n",
    "MindMap => sub ($IngestText) { \n",
    "    [\n",
    "        \"Create a concise mermaid-js mind-map for the text:\",\n",
    "        $IngestText,\n",
    "        \"All node messages should be in quotes.\",\n",
    "        llm-prompt(\"NothingElse\")(\"correct mermaid-js\")\n",
    "    ]\n",
    "},\n",
    "\n",
    "Report => { eval-function => \n",
    "    sub ($Title, $Summary, $TopicsTable, $MindMap, $ThinkingHats) { \n",
    "        [\n",
    "            \"# $Title\",\n",
    "            '### *LLM summary report*',\n",
    "            '## Summary',\n",
    "            $Summary,\n",
    "            '## Topics',\n",
    "            to-html(\n",
    "                from-json($TopicsTable.subst(/ ^ '```json' | '```' $/):g),\n",
    "                field-names => <theme content>,\n",
    "                align => 'left'),\n",
    "            \"## Mind map\",\n",
    "            $MindMap,\n",
    "            '## Thinking hats',\n",
    "            $ThinkingHats.subst(/ ^ '```html' | '```' $/):g\n",
    "        ].join(\"\\n\\n\")\n",
    "    } \n",
    "},\n",
    "\n",
    "ExportAndOpen => {\n",
    "    eval-function => sub ($Report) {\n",
    "       spurt('./Report.md', $Report);\n",
    "       shell \"open ./Report.md\" \n",
    "    },\n",
    "    test-function => -> $export-and-open = True { $export-and-open ~~ Bool:D && $export-and-open || $export-and-open.Str.lc ∈ <true yes open> }\n",
    "}\n",
    ";"
   ]
  },
  {
   "cell_type": "markdown",
   "id": "dea19308",
   "metadata": {},
   "source": [
    "Make the graph:"
   ]
  },
  {
   "cell_type": "code",
   "execution_count": 5,
   "id": "915edfe5",
   "metadata": {},
   "outputs": [
    {
     "data": {
      "text/plain": [
       "LLM::Graph(size => 9, nodes => ExportAndOpen, IngestText, MindMap, Report, Summary, ThinkingHats, Title, TopicsTable, TypeOfInput)"
      ]
     },
     "execution_count": 5,
     "metadata": {},
     "output_type": "execute_result"
    }
   ],
   "source": [
    "my $gCombinedSummary = LLM::Graph.new(%rules, llm-evaluator => $conf)"
   ]
  },
  {
   "cell_type": "markdown",
   "id": "491f8293",
   "metadata": {},
   "source": [
    "----\n",
    "\n",
    "## Full computation"
   ]
  },
  {
   "cell_type": "markdown",
   "id": "3f79931a",
   "metadata": {},
   "source": [
    "URL and text statistics:"
   ]
  },
  {
   "cell_type": "code",
   "execution_count": 1,
   "id": "c29e8b6d",
   "metadata": {},
   "outputs": [
    {
     "data": {
      "text/plain": [
       "(chars => 5861 words => 1158 lines => 156)"
      ]
     },
     "execution_count": 1,
     "metadata": {},
     "output_type": "execute_result"
    }
   ],
   "source": [
    "my $url = 'https://raw.githubusercontent.com/antononcube/RakuForPrediction-blog/refs/heads/main/Data/Graph-neat-examples-in-Raku-Set-3-YouTube.txt';\n",
    "my $txtFocus = data-import($url);\n",
    "\n",
    "text-stats($txtFocus)"
   ]
  },
  {
   "cell_type": "markdown",
   "id": "389c38a4",
   "metadata": {},
   "source": [
    "Computation:"
   ]
  },
  {
   "cell_type": "code",
   "execution_count": 7,
   "id": "64399560",
   "metadata": {},
   "outputs": [
    {
     "data": {
      "text/plain": [
       "LLM::Graph(size => 9, nodes => ExportAndOpen, IngestText, MindMap, Report, Summary, ThinkingHats, Title, TopicsTable, TypeOfInput)"
      ]
     },
     "execution_count": 7,
     "metadata": {},
     "output_type": "execute_result"
    }
   ],
   "source": [
    "$gCombinedSummary.eval($url, with-title => '«Graph» neat examples, set 3')"
   ]
  },
  {
   "cell_type": "markdown",
   "id": "3866e378",
   "metadata": {},
   "source": [
    "**Remark:** Instead of deriving the title using an LLM, the title is specified as an argument."
   ]
  },
  {
   "cell_type": "markdown",
   "id": "8f650a6c",
   "metadata": {},
   "source": [
    "Show the corresponding graph:"
   ]
  },
  {
   "cell_type": "code",
   "execution_count": null,
   "id": "fa06fc37",
   "metadata": {},
   "outputs": [
    {
     "data": {
      "text/html": [
       "<?xml version=\"1.0\" encoding=\"UTF-8\" standalone=\"no\"?>\n",
       "<!DOCTYPE svg PUBLIC \"-//W3C//DTD SVG 1.1//EN\"\n",
       " \"http://www.w3.org/Graphics/SVG/1.1/DTD/svg11.dtd\">\n",
       "<!-- Generated by graphviz version 12.2.1 (20241206.2353)\n",
       " -->\n",
       "<!-- Pages: 1 -->\n",
       "<svg width=\"695pt\" height=\"318pt\"\n",
       " viewBox=\"0.00 0.00 694.72 317.60\" xmlns=\"http://www.w3.org/2000/svg\" xmlns:xlink=\"http://www.w3.org/1999/xlink\">\n",
       "<g id=\"graph0\" class=\"graph\" transform=\"scale(1 1) rotate(0) translate(4 313.6)\">\n",
       "<polygon fill=\"none\" stroke=\"none\" points=\"-4,4 -4,-313.6 690.72,-313.6 690.72,4 -4,4\"/>\n",
       "<g id=\"clust1\" class=\"cluster\">\n",
       "<title>ThinkingHats_Cluster</title>\n",
       "<polygon fill=\"none\" stroke=\"Grey\" stroke-dasharray=\"5,2\" points=\"288,-107.2 288,-144.8 420,-144.8 420,-107.2 288,-107.2\"/>\n",
       "</g>\n",
       "<g id=\"clust2\" class=\"cluster\">\n",
       "<title>Summary_Cluster</title>\n",
       "<polygon fill=\"none\" stroke=\"Grey\" stroke-dasharray=\"5,2\" points=\"148,-107.2 148,-144.8 280,-144.8 280,-107.2 148,-107.2\"/>\n",
       "</g>\n",
       "<g id=\"clust3\" class=\"cluster\">\n",
       "<title>TopicsTable_Cluster</title>\n",
       "<polygon fill=\"none\" stroke=\"Grey\" stroke-dasharray=\"5,2\" points=\"428,-107.2 428,-144.8 560,-144.8 560,-107.2 428,-107.2\"/>\n",
       "</g>\n",
       "<g id=\"clust4\" class=\"cluster\">\n",
       "<title>TypeOfInput_Cluster</title>\n",
       "<polygon fill=\"none\" stroke=\"Grey\" stroke-dasharray=\"5,2\" points=\"331,-222.4 331,-260 463,-260 463,-222.4 331,-222.4\"/>\n",
       "</g>\n",
       "<g id=\"clust5\" class=\"cluster\">\n",
       "<title>MindMap_Cluster</title>\n",
       "<polygon fill=\"none\" stroke=\"Grey\" stroke-dasharray=\"5,2\" points=\"8,-107.2 8,-144.8 140,-144.8 140,-107.2 8,-107.2\"/>\n",
       "</g>\n",
       "<!-- $_ -->\n",
       "<g id=\"node1\" class=\"node\">\n",
       "<title>$_</title>\n",
       "<polygon fill=\"SteelBlue\" stroke=\"Black\" points=\"413.72,-309.6 318.72,-309.6 294.28,-288 389.28,-288 413.72,-309.6\"/>\n",
       "<text text-anchor=\"middle\" x=\"354\" y=\"-294.52\" font-family=\"Times,serif\" font-size=\"12.00\" fill=\"White\">$_</text>\n",
       "</g>\n",
       "<!-- IngestText -->\n",
       "<g id=\"node3\" class=\"node\">\n",
       "<title>IngestText</title>\n",
       "<polygon fill=\"SteelBlue\" stroke=\"Black\" points=\"411.6,-194.4 296.4,-194.4 296.4,-172.8 411.6,-172.8 411.6,-194.4\"/>\n",
       "<text text-anchor=\"middle\" x=\"354\" y=\"-179.32\" font-family=\"Times,serif\" font-size=\"12.00\" fill=\"White\">IngestText</text>\n",
       "</g>\n",
       "<!-- $_&#45;&gt;IngestText -->\n",
       "<g id=\"edge12\" class=\"edge\">\n",
       "<title>$_&#45;&gt;IngestText</title>\n",
       "<path fill=\"none\" stroke=\"SteelBlue\" stroke-width=\"2\" d=\"M343.97,-287.55C337.76,-280.46 330.35,-270.44 327,-260 321.9,-244.09 321.9,-238.31 327,-222.4 328.99,-216.2 332.41,-210.15 336.16,-204.77\"/>\n",
       "<polygon fill=\"SteelBlue\" stroke=\"SteelBlue\" stroke-width=\"2\" points=\"338.66,-207.25 342.1,-197.22 333.16,-202.92 338.66,-207.25\"/>\n",
       "</g>\n",
       "<!-- TypeOfInput -->\n",
       "<g id=\"node10\" class=\"node\">\n",
       "<title>TypeOfInput</title>\n",
       "<ellipse fill=\"SteelBlue\" stroke=\"Black\" cx=\"397\" cy=\"-241.2\" rx=\"57.6\" ry=\"10.8\"/>\n",
       "<text text-anchor=\"middle\" x=\"397\" y=\"-236.92\" font-family=\"Times,serif\" font-size=\"12.00\" fill=\"White\">TypeOfInput</text>\n",
       "</g>\n",
       "<!-- $_&#45;&gt;TypeOfInput -->\n",
       "<g id=\"edge11\" class=\"edge\">\n",
       "<title>$_&#45;&gt;TypeOfInput</title>\n",
       "<path fill=\"none\" stroke=\"SteelBlue\" stroke-width=\"2\" d=\"M361.89,-287.6C367.34,-280.55 374.78,-270.93 381.41,-262.36\"/>\n",
       "<polygon fill=\"SteelBlue\" stroke=\"SteelBlue\" stroke-width=\"2\" points=\"383.96,-264.78 387.31,-254.73 378.42,-260.5 383.96,-264.78\"/>\n",
       "</g>\n",
       "<!-- ExportAndOpen -->\n",
       "<g id=\"node2\" class=\"node\">\n",
       "<title>ExportAndOpen</title>\n",
       "<polygon fill=\"SteelBlue\" stroke=\"Black\" points=\"411.6,-21.6 296.4,-21.6 296.4,0 411.6,0 411.6,-21.6\"/>\n",
       "<text text-anchor=\"middle\" x=\"354\" y=\"-6.52\" font-family=\"Times,serif\" font-size=\"12.00\" fill=\"White\">ExportAndOpen</text>\n",
       "</g>\n",
       "<!-- MindMap -->\n",
       "<g id=\"node4\" class=\"node\">\n",
       "<title>MindMap</title>\n",
       "<ellipse fill=\"SteelBlue\" stroke=\"Black\" cx=\"74\" cy=\"-126\" rx=\"57.6\" ry=\"10.8\"/>\n",
       "<text text-anchor=\"middle\" x=\"74\" y=\"-121.72\" font-family=\"Times,serif\" font-size=\"12.00\" fill=\"White\">MindMap</text>\n",
       "</g>\n",
       "<!-- IngestText&#45;&gt;MindMap -->\n",
       "<g id=\"edge6\" class=\"edge\">\n",
       "<title>IngestText&#45;&gt;MindMap</title>\n",
       "<path fill=\"none\" stroke=\"SteelBlue\" stroke-width=\"2\" d=\"M296.29,-173.35C253.98,-166.29 195.23,-155.91 144,-144.8 135.44,-142.94 126.33,-140.77 117.62,-138.6\"/>\n",
       "<polygon fill=\"SteelBlue\" stroke=\"SteelBlue\" stroke-width=\"2\" points=\"118.74,-135.27 108.18,-136.2 117.01,-142.06 118.74,-135.27\"/>\n",
       "</g>\n",
       "<!-- Summary -->\n",
       "<g id=\"node6\" class=\"node\">\n",
       "<title>Summary</title>\n",
       "<ellipse fill=\"SteelBlue\" stroke=\"Black\" cx=\"214\" cy=\"-126\" rx=\"57.6\" ry=\"10.8\"/>\n",
       "<text text-anchor=\"middle\" x=\"214\" y=\"-121.72\" font-family=\"Times,serif\" font-size=\"12.00\" fill=\"White\">Summary</text>\n",
       "</g>\n",
       "<!-- IngestText&#45;&gt;Summary -->\n",
       "<g id=\"edge4\" class=\"edge\">\n",
       "<title>IngestText&#45;&gt;Summary</title>\n",
       "<path fill=\"none\" stroke=\"SteelBlue\" stroke-width=\"2\" d=\"M328.32,-172.4C306.14,-163.59 273.87,-150.78 249.26,-141.01\"/>\n",
       "<polygon fill=\"SteelBlue\" stroke=\"SteelBlue\" stroke-width=\"2\" points=\"250.59,-137.77 240.01,-137.33 248.01,-144.27 250.59,-137.77\"/>\n",
       "</g>\n",
       "<!-- ThinkingHats -->\n",
       "<g id=\"node7\" class=\"node\">\n",
       "<title>ThinkingHats</title>\n",
       "<ellipse fill=\"SteelBlue\" stroke=\"Black\" cx=\"354\" cy=\"-126\" rx=\"57.6\" ry=\"10.8\"/>\n",
       "<text text-anchor=\"middle\" x=\"354\" y=\"-121.72\" font-family=\"Times,serif\" font-size=\"12.00\" fill=\"White\">ThinkingHats</text>\n",
       "</g>\n",
       "<!-- IngestText&#45;&gt;ThinkingHats -->\n",
       "<g id=\"edge5\" class=\"edge\">\n",
       "<title>IngestText&#45;&gt;ThinkingHats</title>\n",
       "<path fill=\"none\" stroke=\"SteelBlue\" stroke-width=\"2\" d=\"M354,-172.4C354,-166.13 354,-157.83 354,-150.05\"/>\n",
       "<polygon fill=\"SteelBlue\" stroke=\"SteelBlue\" stroke-width=\"2\" points=\"357.5,-150.16 354,-140.16 350.5,-150.16 357.5,-150.16\"/>\n",
       "</g>\n",
       "<!-- Title -->\n",
       "<g id=\"node8\" class=\"node\">\n",
       "<title>Title</title>\n",
       "<polygon fill=\"SteelBlue\" stroke=\"Black\" points=\"684.6,-136.8 569.4,-136.8 569.4,-115.2 684.6,-115.2 684.6,-136.8\"/>\n",
       "<text text-anchor=\"middle\" x=\"627\" y=\"-121.72\" font-family=\"Times,serif\" font-size=\"12.00\" fill=\"White\">Title</text>\n",
       "</g>\n",
       "<!-- IngestText&#45;&gt;Title -->\n",
       "<g id=\"edge3\" class=\"edge\">\n",
       "<title>IngestText&#45;&gt;Title</title>\n",
       "<path fill=\"none\" stroke=\"SteelBlue\" stroke-width=\"2\" d=\"M411.8,-173.75C454.15,-166.89 512.92,-156.58 564,-144.8 569.51,-143.53 575.25,-142.08 580.93,-140.57\"/>\n",
       "<polygon fill=\"SteelBlue\" stroke=\"SteelBlue\" stroke-width=\"2\" points=\"581.52,-144.04 590.23,-138.02 579.66,-137.29 581.52,-144.04\"/>\n",
       "</g>\n",
       "<!-- TopicsTable -->\n",
       "<g id=\"node9\" class=\"node\">\n",
       "<title>TopicsTable</title>\n",
       "<ellipse fill=\"SteelBlue\" stroke=\"Black\" cx=\"494\" cy=\"-126\" rx=\"57.6\" ry=\"10.8\"/>\n",
       "<text text-anchor=\"middle\" x=\"494\" y=\"-121.72\" font-family=\"Times,serif\" font-size=\"12.00\" fill=\"White\">TopicsTable</text>\n",
       "</g>\n",
       "<!-- IngestText&#45;&gt;TopicsTable -->\n",
       "<g id=\"edge7\" class=\"edge\">\n",
       "<title>IngestText&#45;&gt;TopicsTable</title>\n",
       "<path fill=\"none\" stroke=\"SteelBlue\" stroke-width=\"2\" d=\"M379.68,-172.4C401.86,-163.59 434.13,-150.78 458.74,-141.01\"/>\n",
       "<polygon fill=\"SteelBlue\" stroke=\"SteelBlue\" stroke-width=\"2\" points=\"459.99,-144.27 467.99,-137.33 457.41,-137.77 459.99,-144.27\"/>\n",
       "</g>\n",
       "<!-- Report -->\n",
       "<g id=\"node5\" class=\"node\">\n",
       "<title>Report</title>\n",
       "<polygon fill=\"SteelBlue\" stroke=\"Black\" points=\"411.6,-79.2 296.4,-79.2 296.4,-57.6 411.6,-57.6 411.6,-79.2\"/>\n",
       "<text text-anchor=\"middle\" x=\"354\" y=\"-64.12\" font-family=\"Times,serif\" font-size=\"12.00\" fill=\"White\">Report</text>\n",
       "</g>\n",
       "<!-- MindMap&#45;&gt;Report -->\n",
       "<g id=\"edge1\" class=\"edge\">\n",
       "<title>MindMap&#45;&gt;Report</title>\n",
       "<path fill=\"none\" stroke=\"SteelBlue\" stroke-width=\"2\" d=\"M105.25,-116.55C117.31,-113.42 131.26,-109.96 144,-107.2 190.22,-97.18 242.58,-87.75 283.45,-80.82\"/>\n",
       "<polygon fill=\"SteelBlue\" stroke=\"SteelBlue\" stroke-width=\"2\" points=\"284.03,-84.27 293.31,-79.16 282.87,-77.36 284.03,-84.27\"/>\n",
       "</g>\n",
       "<!-- Report&#45;&gt;ExportAndOpen -->\n",
       "<g id=\"edge10\" class=\"edge\">\n",
       "<title>Report&#45;&gt;ExportAndOpen</title>\n",
       "<path fill=\"none\" stroke=\"SteelBlue\" stroke-width=\"2\" d=\"M354,-57.2C354,-50.93 354,-42.63 354,-34.85\"/>\n",
       "<polygon fill=\"SteelBlue\" stroke=\"SteelBlue\" stroke-width=\"2\" points=\"357.5,-34.96 354,-24.96 350.5,-34.96 357.5,-34.96\"/>\n",
       "</g>\n",
       "<!-- Summary&#45;&gt;Report -->\n",
       "<g id=\"edge15\" class=\"edge\">\n",
       "<title>Summary&#45;&gt;Report</title>\n",
       "<path fill=\"none\" stroke=\"SteelBlue\" stroke-width=\"2\" d=\"M237.43,-115.69C258.87,-107.18 290.99,-94.43 316.08,-84.46\"/>\n",
       "<polygon fill=\"SteelBlue\" stroke=\"SteelBlue\" stroke-width=\"2\" points=\"317.3,-87.74 325.3,-80.8 314.71,-81.24 317.3,-87.74\"/>\n",
       "</g>\n",
       "<!-- ThinkingHats&#45;&gt;Report -->\n",
       "<g id=\"edge9\" class=\"edge\">\n",
       "<title>ThinkingHats&#45;&gt;Report</title>\n",
       "<path fill=\"none\" stroke=\"SteelBlue\" stroke-width=\"2\" d=\"M354,-114.8C354,-108.53 354,-100.23 354,-92.45\"/>\n",
       "<polygon fill=\"SteelBlue\" stroke=\"SteelBlue\" stroke-width=\"2\" points=\"357.5,-92.56 354,-82.56 350.5,-92.56 357.5,-92.56\"/>\n",
       "</g>\n",
       "<!-- Title&#45;&gt;Report -->\n",
       "<g id=\"edge13\" class=\"edge\">\n",
       "<title>Title&#45;&gt;Report</title>\n",
       "<path fill=\"none\" stroke=\"SteelBlue\" stroke-width=\"2\" d=\"M593.15,-114.78C583.76,-112.13 573.52,-109.4 564,-107.2 517.81,-96.54 465.33,-87.1 424.39,-80.31\"/>\n",
       "<polygon fill=\"SteelBlue\" stroke=\"SteelBlue\" stroke-width=\"2\" points=\"425.22,-76.9 414.78,-78.74 424.09,-83.81 425.22,-76.9\"/>\n",
       "</g>\n",
       "<!-- TopicsTable&#45;&gt;Report -->\n",
       "<g id=\"edge14\" class=\"edge\">\n",
       "<title>TopicsTable&#45;&gt;Report</title>\n",
       "<path fill=\"none\" stroke=\"SteelBlue\" stroke-width=\"2\" d=\"M470.57,-115.69C449.13,-107.18 417.01,-94.43 391.92,-84.46\"/>\n",
       "<polygon fill=\"SteelBlue\" stroke=\"SteelBlue\" stroke-width=\"2\" points=\"393.29,-81.24 382.7,-80.8 390.7,-87.74 393.29,-81.24\"/>\n",
       "</g>\n",
       "<!-- TypeOfInput&#45;&gt;IngestText -->\n",
       "<g id=\"edge8\" class=\"edge\">\n",
       "<title>TypeOfInput&#45;&gt;IngestText</title>\n",
       "<path fill=\"none\" stroke=\"SteelBlue\" stroke-width=\"2\" d=\"M389.31,-230.26C383.88,-223.23 376.4,-213.56 369.72,-204.93\"/>\n",
       "<polygon fill=\"SteelBlue\" stroke=\"SteelBlue\" stroke-width=\"2\" points=\"372.65,-202.99 363.76,-197.22 367.11,-207.28 372.65,-202.99\"/>\n",
       "</g>\n",
       "<!-- with&#45;title -->\n",
       "<g id=\"node11\" class=\"node\">\n",
       "<title>with&#45;title</title>\n",
       "<polygon fill=\"SteelBlue\" stroke=\"Black\" points=\"686.72,-194.4 591.72,-194.4 567.28,-172.8 662.28,-172.8 686.72,-194.4\"/>\n",
       "<text text-anchor=\"middle\" x=\"627\" y=\"-179.32\" font-family=\"Times,serif\" font-size=\"12.00\" fill=\"White\">with&#45;title</text>\n",
       "</g>\n",
       "<!-- with&#45;title&#45;&gt;Title -->\n",
       "<g id=\"edge2\" class=\"edge\">\n",
       "<title>with&#45;title&#45;&gt;Title</title>\n",
       "<path fill=\"none\" stroke=\"SteelBlue\" stroke-width=\"2\" d=\"M627,-172.4C627,-166.13 627,-157.83 627,-150.05\"/>\n",
       "<polygon fill=\"SteelBlue\" stroke=\"SteelBlue\" stroke-width=\"2\" points=\"630.5,-150.16 627,-140.16 623.5,-150.16 630.5,-150.16\"/>\n",
       "</g>\n",
       "</g>\n",
       "</svg>\n"
      ]
     },
     "execution_count": 8,
     "metadata": {},
     "output_type": "execute_result"
    }
   ],
   "source": [
    "#% html\n",
    "$gCombinedSummary.dot(node-width => 1.6, edge-color => 'DimGrey', edge-width => 0.8):svg"
   ]
  },
  {
   "cell_type": "markdown",
   "id": "e5d0ed00",
   "metadata": {},
   "source": [
    "Final result:"
   ]
  },
  {
   "cell_type": "code",
   "execution_count": null,
   "id": "be73ed90",
   "metadata": {},
   "outputs": [],
   "source": [
    "#% markdown\n",
    "$gCombinedSummary.nodes<Report><result>.subst(/'```html' | '```' $/):g"
   ]
  },
  {
   "cell_type": "markdown",
   "id": "1a0a99c7",
   "metadata": {},
   "source": [
    "---\n",
    "\n",
    "## Partial evaluation"
   ]
  },
  {
   "cell_type": "markdown",
   "id": "3dbd5b4a",
   "metadata": {},
   "source": [
    "Drop the results in `LLM::Graph` computed above:"
   ]
  },
  {
   "cell_type": "code",
   "execution_count": 11,
   "id": "b8a78d72",
   "metadata": {},
   "outputs": [
    {
     "data": {
      "text/plain": [
       "LLM::Graph(size => 9, nodes => ExportAndOpen, IngestText, MindMap, Report, Summary, ThinkingHats, Title, TopicsTable, TypeOfInput)"
      ]
     },
     "execution_count": 11,
     "metadata": {},
     "output_type": "execute_result"
    }
   ],
   "source": [
    "$gCombinedSummary.drop-result"
   ]
  },
  {
   "cell_type": "markdown",
   "id": "175cf587",
   "metadata": {},
   "source": [
    "Here the are normalized nodes without results:"
   ]
  },
  {
   "cell_type": "code",
   "execution_count": 13,
   "id": "b83c399e",
   "metadata": {},
   "outputs": [
    {
     "name": "stdout",
     "output_type": "stream",
     "text": [
      "ThinkingHats => {eval-function => sub { }, input => [IngestText], spec-type => (Routine), test-function-input => [], wrapper => Routine::WrapHandle.new}\n",
      "Summary => {eval-function => sub { }, input => [IngestText], spec-type => (Routine), test-function-input => [], wrapper => Routine::WrapHandle.new}\n",
      "Report => {eval-function => sub { }, input => [Summary MindMap Title ThinkingHats TopicsTable], spec-type => (Callable), test-function-input => []}\n",
      "TopicsTable => {eval-function => sub { }, input => [IngestText], spec-type => (Routine), test-function-input => [], wrapper => Routine::WrapHandle.new}\n",
      "TypeOfInput => {eval-function => sub { }, input => [$_], spec-type => (Routine), test-function-input => [], wrapper => Routine::WrapHandle.new}\n",
      "MindMap => {eval-function => sub { }, input => [IngestText], spec-type => (Routine), test-function-input => [], wrapper => Routine::WrapHandle.new}\n",
      "ExportAndOpen => {eval-function => sub { }, input => [Report], spec-type => (Callable), test-function => -> $export-and-open = Bool::True { #`(Block|2419583895192) ... }, test-function-input => [], test-function-result => True}\n",
      "IngestText => {eval-function => sub { }, input => [$_ TypeOfInput], spec-type => (Callable), test-function-input => []}\n",
      "Title => {eval-function => sub { }, input => [with-title IngestText], spec-type => (Callable), test-function-input => []}\n"
     ]
    }
   ],
   "source": [
    ".say for |$gCombinedSummary.nodes"
   ]
  },
  {
   "cell_type": "markdown",
   "id": "bfc7900d",
   "metadata": {},
   "source": [
    "Here all results are pre-assigned as arguments:"
   ]
  },
  {
   "cell_type": "code",
   "execution_count": 14,
   "id": "bd624999",
   "metadata": {},
   "outputs": [
    {
     "data": {
      "text/plain": [
       "LLM::Graph(size => 9, nodes => ExportAndOpen, IngestText, MindMap, Report, Summary, ThinkingHats, Title, TopicsTable, TypeOfInput)"
      ]
     },
     "execution_count": 14,
     "metadata": {},
     "output_type": "execute_result"
    }
   ],
   "source": [
    "$gCombinedSummary.eval($url, \n",
    "with-title => '«Graph» neat examples, set 3', \n",
    ":export-and-open,\n",
    "Summary => 'In brief',\n",
    "TypeOfInput => 'Other',\n",
    "IngestText => 'Ingest text',\n",
    "ThinkingHats => 'Thinking hats',\n",
    "TopicsTable => '[\"TopicsTable\"]',\n",
    "MindMap => 'Mind-map graph',\n",
    ")"
   ]
  },
  {
   "cell_type": "markdown",
   "id": "825d443f",
   "metadata": {},
   "source": [
    "-----\n",
    "\n",
    "## References"
   ]
  },
  {
   "cell_type": "markdown",
   "id": "836740f7",
   "metadata": {},
   "source": [
    "### Blog posts\n",
    "\n",
    "[AA1] Anton Antonov,\n",
    "[\"Parameterized Literate Programming\"](https://rakuforprediction.wordpress.com/2025/06/21/parameterized-literate-programming/),\n",
    "(2025),\n",
    "[RakuForPrediction at WordPress](https://rakuforprediction.wordpress.com).\n",
    "\n",
    "### Notebooks\n",
    "\n",
    "[AAn1] Anton Antonov,\n",
    "[\"LLM comprehensive summary template for large texts\"](https://community.wolfram.com/groups/-/m/t/3448842),\n",
    "(2025),\n",
    "[Wolfram Community](https://community.wolfram.com).\n",
    "\n",
    "### Packages\n",
    "\n",
    "[AAp1] Anton Antonov, \n",
    "[LLM::Graph, Raku package](https://github.com/antononcube/Raku-LLM-Graph),\n",
    "(2025),\n",
    "[GitHub/antononcube](https://github.com/antononcube)."
   ]
  }
 ],
 "metadata": {
  "kernelspec": {
   "display_name": "RakuChatbook",
   "language": "raku",
   "name": "raku"
  },
  "language_info": {
   "file_extension": ".raku",
   "mimetype": "text/x-raku",
   "name": "raku",
   "version": "6.d"
  }
 },
 "nbformat": 4,
 "nbformat_minor": 5
}
