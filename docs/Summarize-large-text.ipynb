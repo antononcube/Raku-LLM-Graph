{
 "cells": [
  {
   "cell_type": "markdown",
   "id": "2ee4231a",
   "metadata": {},
   "source": [
    "# Summarize large text\n",
    "\n",
    "<p style=\"font-size: 20px; font-weight: bold; font-style: italic;\">...via LLM-graph</p>\n",
    "\n",
    "Anton Antonov   \n",
    "August 2025"
   ]
  },
  {
   "cell_type": "markdown",
   "id": "a3db3414",
   "metadata": {},
   "source": [
    "----\n",
    "\n",
    "## Introduction"
   ]
  },
  {
   "cell_type": "markdown",
   "id": "04667c07",
   "metadata": {},
   "source": [
    "This notebook illustrates how to specify a Large Language Model (LLM) graph for deriving comprehensive summaries of large texts. \n",
    "The LLM graph is based on different LLM- and non-LLM functions .\n",
    "The Raku package [\"LLM::Graph\"](https://raku.land/zef:antononcube/LLM::Graph) is used, [AAp1].\n",
    "\n",
    "Using the LLM graph is an alternative to the Literate programming based solutions shown in [AA1, AAn1]."
   ]
  },
  {
   "cell_type": "markdown",
   "id": "0b2920a3",
   "metadata": {},
   "source": [
    "----\n",
    "\n",
    "## Setup"
   ]
  },
  {
   "cell_type": "code",
   "execution_count": 2,
   "id": "3b633650",
   "metadata": {},
   "outputs": [],
   "source": [
    "use LLM::Graph;\n",
    "use Data::Importers;\n",
    "\n",
    "use LLM::Tooling;"
   ]
  },
  {
   "cell_type": "code",
   "execution_count": null,
   "id": "9376263c",
   "metadata": {},
   "outputs": [],
   "source": [
    "sink my $conf5-mini = llm-configuration('ChatGPT', model => 'gpt-5-mini');\n",
    "sink my $conf41-mini = llm-configuration('ChatGPT', model => 'gpt-4.1-mini', temperature => 0.55, max-tokens => 4096)"
   ]
  },
  {
   "cell_type": "markdown",
   "id": "6a262388",
   "metadata": {},
   "source": [
    "----\n",
    "\n",
    "## LLM graph"
   ]
  },
  {
   "cell_type": "markdown",
   "id": "ce318eca",
   "metadata": {},
   "source": [
    "Specify the LLM graph nodes:"
   ]
  },
  {
   "cell_type": "code",
   "execution_count": 5,
   "id": "a85f40d6",
   "metadata": {},
   "outputs": [],
   "source": [
    "sink my %rules =\n",
    "TypeOfInput => sub ($_) {\n",
    "        \"Determine the input type of\\n\\n$_.\\n\\nThe result should be one of: 'Text', 'URL', 'FilePath', or 'Other'.\"  ~ \n",
    "        llm-prompt('NothingElse')('single string')\n",
    "    },\n",
    "\n",
    "IngestText =>  { eval-function => sub ($TypeOfInput, $_) { $TypeOfInput ~~ / URL | FilePath/ ?? data-import($_) !! $_} },\n",
    "\n",
    "Title => { \n",
    "    eval-function => sub ($IngestText, $with-title = Whatever) { $with-title ~~ Str:D ?? $with-title !! llm-synthesize([llm-prompt(\"TitleSuggest\")($IngestText, 'article'), \"Short title with less that 6 words\"]) },\n",
    "},\n",
    "\n",
    "Summary => sub ($IngestText) { llm-prompt(\"Summarize\")() ~ \"\\n\\n$IngestText\" },\n",
    "\n",
    "TopicsTable => sub ($IngestText) { llm-prompt(\"ThemeTableJSON\")($IngestText, 'article', 20) },\n",
    "\n",
    "ThinkingHats => sub ($IngestText) { llm-prompt(\"ThinkingHatsFeedback\")($IngestText, 'HTML') },\n",
    "\n",
    "MindMap => sub ($IngestText) { \n",
    "    [\n",
    "        \"Create a concise mermaid-js mind-map for the text:\",\n",
    "        $IngestText,\n",
    "        \"All node messages should be in quotes.\",\n",
    "        llm-prompt(\"NothingElse\")(\"correct mermaid-js\")\n",
    "    ]\n",
    "},\n",
    "\n",
    "Report => { eval-function => \n",
    "    sub ($Title, $Summary, $TopicsTable, $MindMap, $ThinkingHats) { \n",
    "        [\n",
    "            \"# $Title\",\n",
    "            '### *LLM summary report*',\n",
    "            '## Summary',\n",
    "            $Summary,\n",
    "            '## Topics',\n",
    "            to-html(\n",
    "                from-json($TopicsTable.subst(/ ^ '```json' | '```' $/):g),\n",
    "                field-names => <theme content>,\n",
    "                align => 'left'),\n",
    "            \"## Mind map\",\n",
    "            $MindMap,\n",
    "            '## Thinking hats',\n",
    "            $ThinkingHats.subst(/ ^ '```html' | '```' $/):g\n",
    "        ].join(\"\\n\\n\")\n",
    "    } \n",
    "},\n",
    "\n",
    "ExportAndOpen => {\n",
    "    eval-function => sub ($Report) {\n",
    "       spurt('./Report.md', $Report);\n",
    "       shell \"open ./Report.md\" \n",
    "    },\n",
    "    test-function => -> $export-and-open = True { $export-and-open ~~ Bool:D && $export-and-open || $export-and-open.Str.lc ∈ <true yes open> }\n",
    "}\n",
    ";"
   ]
  },
  {
   "cell_type": "markdown",
   "id": "dea19308",
   "metadata": {},
   "source": [
    "Make the graph:"
   ]
  },
  {
   "cell_type": "code",
   "execution_count": null,
   "id": "915edfe5",
   "metadata": {},
   "outputs": [
    {
     "data": {
      "text/plain": [
       "LLM::Graph(size => 9, nodes => ExportAndOpen, IngestText, MindMap, Report, Summary, ThinkingHats, Title, TopicsTable, TypeOfInput)"
      ]
     },
     "execution_count": 6,
     "metadata": {},
     "output_type": "execute_result"
    }
   ],
   "source": [
    "my $gCombinedSummary = LLM::Graph.new(%rules, llm-evaluator => $conf5-mini, :async)"
   ]
  },
  {
   "cell_type": "markdown",
   "id": "491f8293",
   "metadata": {},
   "source": [
    "----\n",
    "\n",
    "## Full computation"
   ]
  },
  {
   "cell_type": "markdown",
   "id": "3f79931a",
   "metadata": {},
   "source": [
    "URL and text statistics:"
   ]
  },
  {
   "cell_type": "code",
   "execution_count": 7,
   "id": "c29e8b6d",
   "metadata": {},
   "outputs": [
    {
     "data": {
      "text/plain": [
       "(chars => 5957 words => 1132 lines => 157)"
      ]
     },
     "execution_count": 7,
     "metadata": {},
     "output_type": "execute_result"
    }
   ],
   "source": [
    "my $url = 'https://raw.githubusercontent.com/antononcube/RakuForPrediction-blog/refs/heads/main/Data/Graph-neat-examples-in-Raku-Set-2-YouTube.txt';\n",
    "my $txtFocus = data-import($url);\n",
    "\n",
    "text-stats($txtFocus)"
   ]
  },
  {
   "cell_type": "markdown",
   "id": "389c38a4",
   "metadata": {},
   "source": [
    "Computation:"
   ]
  },
  {
   "cell_type": "code",
   "execution_count": 8,
   "id": "64399560",
   "metadata": {},
   "outputs": [
    {
     "data": {
      "text/plain": [
       "LLM::Graph(size => 9, nodes => ExportAndOpen, IngestText, MindMap, Report, Summary, ThinkingHats, Title, TopicsTable, TypeOfInput)"
      ]
     },
     "execution_count": 8,
     "metadata": {},
     "output_type": "execute_result"
    }
   ],
   "source": [
    "$gCombinedSummary.eval($url, with-title => '«Graph» neat examples, set 3')"
   ]
  },
  {
   "cell_type": "markdown",
   "id": "3866e378",
   "metadata": {},
   "source": [
    "**Remark:** Instead of deriving the title using an LLM, the title is specified as an argument."
   ]
  },
  {
   "cell_type": "markdown",
   "id": "8f650a6c",
   "metadata": {},
   "source": [
    "Show the corresponding graph:"
   ]
  },
  {
   "cell_type": "code",
   "execution_count": 17,
   "id": "fa06fc37",
   "metadata": {},
   "outputs": [
    {
     "data": {
      "text/html": [
       "<?xml version=\"1.0\" encoding=\"UTF-8\" standalone=\"no\"?>\n",
       "<!DOCTYPE svg PUBLIC \"-//W3C//DTD SVG 1.1//EN\"\n",
       " \"http://www.w3.org/Graphics/SVG/1.1/DTD/svg11.dtd\">\n",
       "<!-- Generated by graphviz version 12.2.1 (20241206.2353)\n",
       " -->\n",
       "<!-- Pages: 1 -->\n",
       "<svg width=\"510pt\" height=\"318pt\"\n",
       " viewBox=\"0.00 0.00 510.40 317.60\" xmlns=\"http://www.w3.org/2000/svg\" xmlns:xlink=\"http://www.w3.org/1999/xlink\">\n",
       "<g id=\"graph0\" class=\"graph\" transform=\"scale(1 1) rotate(0) translate(4 313.6)\">\n",
       "<polygon fill=\"none\" stroke=\"none\" points=\"-4,4 -4,-313.6 506.4,-313.6 506.4,4 -4,4\"/>\n",
       "<!-- $_ -->\n",
       "<g id=\"node1\" class=\"node\">\n",
       "<title>$_</title>\n",
       "<polygon fill=\"SteelBlue\" stroke=\"Grey\" points=\"295.99,-309.6 224.74,-309.6 206.41,-288 277.66,-288 295.99,-309.6\"/>\n",
       "<text text-anchor=\"middle\" x=\"251.2\" y=\"-294.52\" font-family=\"Times,serif\" font-size=\"12.00\" fill=\"White\">$_</text>\n",
       "</g>\n",
       "<!-- IngestText -->\n",
       "<g id=\"node3\" class=\"node\">\n",
       "<title>IngestText</title>\n",
       "<polygon fill=\"SteelBlue\" stroke=\"Grey\" points=\"294.4,-194.4 208,-194.4 208,-172.8 294.4,-172.8 294.4,-194.4\"/>\n",
       "<text text-anchor=\"middle\" x=\"251.2\" y=\"-179.32\" font-family=\"Times,serif\" font-size=\"12.00\" fill=\"White\">IngestText</text>\n",
       "</g>\n",
       "<!-- $_&#45;&gt;IngestText -->\n",
       "<g id=\"edge9\" class=\"edge\">\n",
       "<title>$_&#45;&gt;IngestText</title>\n",
       "<path fill=\"none\" stroke=\"DimGrey\" stroke-width=\"0.8\" d=\"M226,-287.75C226,-287.75 226,-205.99 226,-205.99\"/>\n",
       "<polygon fill=\"DimGrey\" stroke=\"DimGrey\" stroke-width=\"0.8\" points=\"229.5,-205.99 226,-195.99 222.5,-205.99 229.5,-205.99\"/>\n",
       "</g>\n",
       "<!-- TypeOfInput -->\n",
       "<g id=\"node10\" class=\"node\">\n",
       "<title>TypeOfInput</title>\n",
       "<polygon fill=\"SteelBlue\" stroke=\"Grey\" points=\"330.4,-252 244,-252 244,-230.4 330.4,-230.4 330.4,-252\"/>\n",
       "<text text-anchor=\"middle\" x=\"287.2\" y=\"-236.92\" font-family=\"Times,serif\" font-size=\"12.00\" fill=\"White\">TypeOfInput</text>\n",
       "</g>\n",
       "<!-- $_&#45;&gt;TypeOfInput -->\n",
       "<g id=\"edge8\" class=\"edge\">\n",
       "<title>$_&#45;&gt;TypeOfInput</title>\n",
       "<path fill=\"none\" stroke=\"DimGrey\" stroke-width=\"0.8\" d=\"M269.99,-287.69C269.99,-287.69 269.99,-263.48 269.99,-263.48\"/>\n",
       "<polygon fill=\"DimGrey\" stroke=\"DimGrey\" stroke-width=\"0.8\" points=\"273.49,-263.48 269.99,-253.48 266.49,-263.48 273.49,-263.48\"/>\n",
       "</g>\n",
       "<!-- ExportAndOpen -->\n",
       "<g id=\"node2\" class=\"node\">\n",
       "<title>ExportAndOpen</title>\n",
       "<polygon fill=\"SteelBlue\" stroke=\"Grey\" points=\"294.4,-21.6 208,-21.6 208,0 294.4,0 294.4,-21.6\"/>\n",
       "<text text-anchor=\"middle\" x=\"251.2\" y=\"-6.52\" font-family=\"Times,serif\" font-size=\"12.00\" fill=\"White\">ExportAndOpen</text>\n",
       "</g>\n",
       "<!-- MindMap -->\n",
       "<g id=\"node4\" class=\"node\">\n",
       "<title>MindMap</title>\n",
       "<polygon fill=\"SteelBlue\" stroke=\"Grey\" points=\"86.4,-136.8 0,-136.8 0,-115.2 86.4,-115.2 86.4,-136.8\"/>\n",
       "<text text-anchor=\"middle\" x=\"43.2\" y=\"-121.72\" font-family=\"Times,serif\" font-size=\"12.00\" fill=\"White\">MindMap</text>\n",
       "</g>\n",
       "<!-- IngestText&#45;&gt;MindMap -->\n",
       "<g id=\"edge4\" class=\"edge\">\n",
       "<title>IngestText&#45;&gt;MindMap</title>\n",
       "<path fill=\"none\" stroke=\"DimGrey\" stroke-width=\"0.8\" d=\"M207.6,-187C146.6,-187 43.2,-187 43.2,-187 43.2,-187 43.2,-148.4 43.2,-148.4\"/>\n",
       "<polygon fill=\"DimGrey\" stroke=\"DimGrey\" stroke-width=\"0.8\" points=\"46.7,-148.4 43.2,-138.4 39.7,-148.4 46.7,-148.4\"/>\n",
       "</g>\n",
       "<!-- Summary -->\n",
       "<g id=\"node6\" class=\"node\">\n",
       "<title>Summary</title>\n",
       "<polygon fill=\"SteelBlue\" stroke=\"Grey\" points=\"190.4,-136.8 104,-136.8 104,-115.2 190.4,-115.2 190.4,-136.8\"/>\n",
       "<text text-anchor=\"middle\" x=\"147.2\" y=\"-121.72\" font-family=\"Times,serif\" font-size=\"12.00\" fill=\"White\">Summary</text>\n",
       "</g>\n",
       "<!-- IngestText&#45;&gt;Summary -->\n",
       "<g id=\"edge3\" class=\"edge\">\n",
       "<title>IngestText&#45;&gt;Summary</title>\n",
       "<path fill=\"none\" stroke=\"DimGrey\" stroke-width=\"0.8\" d=\"M207.7,-180C179.2,-180 147.2,-180 147.2,-180 147.2,-180 147.2,-148.4 147.2,-148.4\"/>\n",
       "<polygon fill=\"DimGrey\" stroke=\"DimGrey\" stroke-width=\"0.8\" points=\"150.7,-148.4 147.2,-138.4 143.7,-148.4 150.7,-148.4\"/>\n",
       "</g>\n",
       "<!-- ThinkingHats -->\n",
       "<g id=\"node7\" class=\"node\">\n",
       "<title>ThinkingHats</title>\n",
       "<polygon fill=\"SteelBlue\" stroke=\"Grey\" points=\"294.4,-136.8 208,-136.8 208,-115.2 294.4,-115.2 294.4,-136.8\"/>\n",
       "<text text-anchor=\"middle\" x=\"251.2\" y=\"-121.72\" font-family=\"Times,serif\" font-size=\"12.00\" fill=\"White\">ThinkingHats</text>\n",
       "</g>\n",
       "<!-- IngestText&#45;&gt;ThinkingHats -->\n",
       "<g id=\"edge7\" class=\"edge\">\n",
       "<title>IngestText&#45;&gt;ThinkingHats</title>\n",
       "<path fill=\"none\" stroke=\"DimGrey\" stroke-width=\"0.8\" d=\"M251.2,-172.49C251.2,-172.49 251.2,-148.28 251.2,-148.28\"/>\n",
       "<polygon fill=\"DimGrey\" stroke=\"DimGrey\" stroke-width=\"0.8\" points=\"254.7,-148.28 251.2,-138.28 247.7,-148.28 254.7,-148.28\"/>\n",
       "</g>\n",
       "<!-- Title -->\n",
       "<g id=\"node8\" class=\"node\">\n",
       "<title>Title</title>\n",
       "<polygon fill=\"SteelBlue\" stroke=\"Grey\" points=\"398.4,-136.8 312,-136.8 312,-115.2 398.4,-115.2 398.4,-136.8\"/>\n",
       "<text text-anchor=\"middle\" x=\"355.2\" y=\"-121.72\" font-family=\"Times,serif\" font-size=\"12.00\" fill=\"White\">Title</text>\n",
       "</g>\n",
       "<!-- IngestText&#45;&gt;Title -->\n",
       "<g id=\"edge6\" class=\"edge\">\n",
       "<title>IngestText&#45;&gt;Title</title>\n",
       "<path fill=\"none\" stroke=\"DimGrey\" stroke-width=\"0.8\" d=\"M294.74,-180C308.97,-180 321.2,-180 321.2,-180 321.2,-180 321.2,-148.4 321.2,-148.4\"/>\n",
       "<polygon fill=\"DimGrey\" stroke=\"DimGrey\" stroke-width=\"0.8\" points=\"324.7,-148.4 321.2,-138.4 317.7,-148.4 324.7,-148.4\"/>\n",
       "</g>\n",
       "<!-- TopicsTable -->\n",
       "<g id=\"node9\" class=\"node\">\n",
       "<title>TopicsTable</title>\n",
       "<polygon fill=\"SteelBlue\" stroke=\"Grey\" points=\"502.4,-136.8 416,-136.8 416,-115.2 502.4,-115.2 502.4,-136.8\"/>\n",
       "<text text-anchor=\"middle\" x=\"459.2\" y=\"-121.72\" font-family=\"Times,serif\" font-size=\"12.00\" fill=\"White\">TopicsTable</text>\n",
       "</g>\n",
       "<!-- IngestText&#45;&gt;TopicsTable -->\n",
       "<g id=\"edge5\" class=\"edge\">\n",
       "<title>IngestText&#45;&gt;TopicsTable</title>\n",
       "<path fill=\"none\" stroke=\"DimGrey\" stroke-width=\"0.8\" d=\"M294.8,-187C355.8,-187 459.2,-187 459.2,-187 459.2,-187 459.2,-148.4 459.2,-148.4\"/>\n",
       "<polygon fill=\"DimGrey\" stroke=\"DimGrey\" stroke-width=\"0.8\" points=\"462.7,-148.4 459.2,-138.4 455.7,-148.4 462.7,-148.4\"/>\n",
       "</g>\n",
       "<!-- Report -->\n",
       "<g id=\"node5\" class=\"node\">\n",
       "<title>Report</title>\n",
       "<polygon fill=\"SteelBlue\" stroke=\"Grey\" points=\"294.4,-79.2 208,-79.2 208,-57.6 294.4,-57.6 294.4,-79.2\"/>\n",
       "<text text-anchor=\"middle\" x=\"251.2\" y=\"-64.12\" font-family=\"Times,serif\" font-size=\"12.00\" fill=\"White\">Report</text>\n",
       "</g>\n",
       "<!-- MindMap&#45;&gt;Report -->\n",
       "<g id=\"edge2\" class=\"edge\">\n",
       "<title>MindMap&#45;&gt;Report</title>\n",
       "<path fill=\"none\" stroke=\"DimGrey\" stroke-width=\"0.8\" d=\"M43.2,-114.81C43.2,-97.2 43.2,-65 43.2,-65 43.2,-65 196.39,-65 196.39,-65\"/>\n",
       "<polygon fill=\"DimGrey\" stroke=\"DimGrey\" stroke-width=\"0.8\" points=\"196.39,-68.5 206.39,-65 196.39,-61.5 196.39,-68.5\"/>\n",
       "</g>\n",
       "<!-- Report&#45;&gt;ExportAndOpen -->\n",
       "<g id=\"edge11\" class=\"edge\">\n",
       "<title>Report&#45;&gt;ExportAndOpen</title>\n",
       "<path fill=\"none\" stroke=\"DimGrey\" stroke-width=\"0.8\" d=\"M251.2,-57.29C251.2,-57.29 251.2,-33.08 251.2,-33.08\"/>\n",
       "<polygon fill=\"DimGrey\" stroke=\"DimGrey\" stroke-width=\"0.8\" points=\"254.7,-33.08 251.2,-23.08 247.7,-33.08 254.7,-33.08\"/>\n",
       "</g>\n",
       "<!-- Summary&#45;&gt;Report -->\n",
       "<g id=\"edge14\" class=\"edge\">\n",
       "<title>Summary&#45;&gt;Report</title>\n",
       "<path fill=\"none\" stroke=\"DimGrey\" stroke-width=\"0.8\" d=\"M147.2,-114.81C147.2,-98.99 147.2,-72 147.2,-72 147.2,-72 196.49,-72 196.49,-72\"/>\n",
       "<polygon fill=\"DimGrey\" stroke=\"DimGrey\" stroke-width=\"0.8\" points=\"196.49,-75.5 206.49,-72 196.49,-68.5 196.49,-75.5\"/>\n",
       "</g>\n",
       "<!-- ThinkingHats&#45;&gt;Report -->\n",
       "<g id=\"edge10\" class=\"edge\">\n",
       "<title>ThinkingHats&#45;&gt;Report</title>\n",
       "<path fill=\"none\" stroke=\"DimGrey\" stroke-width=\"0.8\" d=\"M251.2,-114.89C251.2,-114.89 251.2,-90.68 251.2,-90.68\"/>\n",
       "<polygon fill=\"DimGrey\" stroke=\"DimGrey\" stroke-width=\"0.8\" points=\"254.7,-90.68 251.2,-80.68 247.7,-90.68 254.7,-90.68\"/>\n",
       "</g>\n",
       "<!-- Title&#45;&gt;Report -->\n",
       "<g id=\"edge12\" class=\"edge\">\n",
       "<title>Title&#45;&gt;Report</title>\n",
       "<path fill=\"none\" stroke=\"DimGrey\" stroke-width=\"0.8\" d=\"M355.2,-114.81C355.2,-98.99 355.2,-72 355.2,-72 355.2,-72 305.91,-72 305.91,-72\"/>\n",
       "<polygon fill=\"DimGrey\" stroke=\"DimGrey\" stroke-width=\"0.8\" points=\"305.91,-68.5 295.91,-72 305.91,-75.5 305.91,-68.5\"/>\n",
       "</g>\n",
       "<!-- TopicsTable&#45;&gt;Report -->\n",
       "<g id=\"edge13\" class=\"edge\">\n",
       "<title>TopicsTable&#45;&gt;Report</title>\n",
       "<path fill=\"none\" stroke=\"DimGrey\" stroke-width=\"0.8\" d=\"M459.2,-114.81C459.2,-97.2 459.2,-65 459.2,-65 459.2,-65 306.01,-65 306.01,-65\"/>\n",
       "<polygon fill=\"DimGrey\" stroke=\"DimGrey\" stroke-width=\"0.8\" points=\"306.01,-61.5 296.01,-65 306.01,-68.5 306.01,-61.5\"/>\n",
       "</g>\n",
       "<!-- TypeOfInput&#45;&gt;IngestText -->\n",
       "<g id=\"edge1\" class=\"edge\">\n",
       "<title>TypeOfInput&#45;&gt;IngestText</title>\n",
       "<path fill=\"none\" stroke=\"DimGrey\" stroke-width=\"0.8\" d=\"M269.2,-230.09C269.2,-230.09 269.2,-205.88 269.2,-205.88\"/>\n",
       "<polygon fill=\"DimGrey\" stroke=\"DimGrey\" stroke-width=\"0.8\" points=\"272.7,-205.88 269.2,-195.88 265.7,-205.88 272.7,-205.88\"/>\n",
       "</g>\n",
       "</g>\n",
       "</svg>\n"
      ]
     },
     "execution_count": 17,
     "metadata": {},
     "output_type": "execute_result"
    }
   ],
   "source": [
    "#% html\n",
    "$gCombinedSummary.dot(node-width => 1.2, theme => 'ortho'):svg"
   ]
  },
  {
   "cell_type": "markdown",
   "id": "e5d0ed00",
   "metadata": {},
   "source": [
    "Final result:"
   ]
  },
  {
   "cell_type": "code",
   "execution_count": 10,
   "id": "be73ed90",
   "metadata": {},
   "outputs": [
    {
     "data": {
      "text/markdown": [
       "# Visualizing Graphs with Raku\n",
       "\n",
       "### *LLM summary report*\n",
       "\n",
       "## Summary\n",
       "\n",
       "The presentation titled \"Graph Neat Examples in Raku\" by Anton Antonov demonstrates various graph visualizations using the Raku programming language and its graph package, including undirected triangular grid graphs, bipartite grid graphs, directed graphs with connected components, and collages of star graphs. Visualization methods include JavaScript D3-based rendering and SVG generation via the DOT language from Graphviz, which allows flexible styling and layout options. The examples highlight concise Raku code that showcases graph properties, computational possibilities, and integration with web-based tools like Jupyter notebooks.\n",
       "\n",
       "## Topics\n",
       "\n",
       "<table border=\"1\"><thead><tr><th>theme</th><th>content</th></tr></thead><tbody><tr><td align=left>Introduction and Overview</td><td align=left>Presentation title, date, presenter name, and introduction to undirected triangular grid graph example.</td></tr><tr><td align=left>Graph Matrices Explanation</td><td align=left>Explanation of adjacency and incidence matrices for undirected graphs with vertex-edge relationships.</td></tr><tr><td align=left>NE Examples Definition</td><td align=left>Definition and purpose of NE examples showcasing Raku programming and computational possibilities.</td></tr><tr><td align=left>Graph Visualization Tools</td><td align=left>Using Raku graph package, JavaScript D3, and GraphViz dot language for graph visualization.</td></tr><tr><td align=left>Bipartite Grid Graph Example</td><td align=left>Demonstration of bipartite property in grid graphs with vertex coloring and bipartite verification.</td></tr><tr><td align=left>Code Walkthrough for Bipartite Graph</td><td align=left>Explanation of code generating grid graph, verifying bipartiteness, and applying vertex highlights.</td></tr><tr><td align=left>Directed Grid Graph and Connected Components</td><td align=left>Randomly directed grid graph example illustrating connected components and reachability.</td></tr><tr><td align=left>Visualization Methods in Jupyter</td><td align=left>Rendering JavaScript and SVG graph visualizations in Jupyter notebooks using different methods.</td></tr><tr><td align=left>Dot Language Usage and Node Shapes</td><td align=left>Using dot language for graph styling with random node shapes and terminology preferences.</td></tr><tr><td align=left>Star Graphs Collage Example</td><td align=left>Creating and visualizing multiple star graphs with varied rays and colors.</td></tr><tr><td align=left>Dot Language Advantages</td><td align=left>Benefits of using dot DSL for styling and specifying graph elements efficiently.</td></tr><tr><td align=left>Conclusion</td><td align=left>Closing remarks and thanks.</td></tr></tbody></table>\n",
       "\n",
       "## Mind map\n",
       "\n",
       "```mermaid\n",
       "mindmap\n",
       "  root(( \"Graph Neat Presentation\" ))\n",
       "    title(\"Title: Graph Neat\")\n",
       "    author(\"Anton Antonov\")\n",
       "    date(\"November 13th, 20124\")\n",
       "    examples\n",
       "      example1(\"Undirected Triangular Grid Graph\")\n",
       "        vertices(\"Vertices colored by degree\")\n",
       "        matrices\n",
       "          adjacency(\"Adjacency Matrix (symmetric)\")\n",
       "          incidence(\"Incidence Matrix (vertex-edge)\")\n",
       "      example2(\"Grid Graph Bipartite\")\n",
       "        bipartite(\"Two sets of vertices\")\n",
       "        code(\"Raku code generates and verifies bipartite\")\n",
       "        coloring(\"Parted coloring and highlight lists\")\n",
       "        vertex_coords(\"Uses known vertex coordinates\")\n",
       "      example3(\"Directed Grid Graph\")\n",
       "        random_direction(\"Randomly directed from undirected\")\n",
       "        connected_components(\"Connected components colored\")\n",
       "        explanation(\"Reachability defines components\")\n",
       "        visualization\n",
       "          javascript(\"JS D3 visualization in Jupyter\")\n",
       "          dot(\"DOT language SVG visualization\")\n",
       "          shapes(\"Random vertex/node shapes\")\n",
       "      example4(\"Collage of Star Graphs\")\n",
       "        description(\"40 star graphs with 8-16 rays\")\n",
       "        coloring(\"Subset colored\")\n",
       "        code_origin(\"Code generated by large language models\")\n",
       "        visualization\n",
       "          dot(\"More regular layout with DOT\")\n",
       "          dot_language(\"DOT language DSL for styling and plots\")\n",
       "    tools\n",
       "      raku(\"Raku programming language\")\n",
       "      graph_package(\"Graph package in Raku\")\n",
       "      visualization\n",
       "        d3(\"JavaScript D3 library\")\n",
       "        dot(\"Graphviz DOT language and tool\")\n",
       "      environment\n",
       "        jupyter(\"Jupyter notebook and Raku chatbook\")\n",
       "```\n",
       "\n",
       "## Thinking hats\n",
       "\n",
       "<table border=\"1\" cellpadding=\"5\" cellspacing=\"0\">\n",
       "  <tr>\n",
       "    <th>Hat</th>\n",
       "    <th>Perspective</th>\n",
       "    <th>Feedback</th>\n",
       "    <th>New Ideas</th>\n",
       "  </tr>\n",
       "  <tr>\n",
       "    <td>White Hat</td>\n",
       "    <td>Information and Facts</td>\n",
       "    <td>The presentation covers fundamental graph theory concepts such as undirected graphs, bipartite graphs, adjacency and incidence matrices, connected components in directed graphs, and visualization techniques using Raku and JavaScript libraries like D3 and Graphviz’s dot language. The examples demonstrate the use of Raku's graph package and integration with web technologies for rendering. The explanation of graph properties (degree, bipartite nature) is accurate and well linked to visual representations. The use of random direction assignment and connected component analysis aligns with standard computational graph analysis approaches.</td>\n",
       "    <td>Include performance metrics or complexity analysis for graph operations, Provide comparative data on visualization libraries (D3 vs dot), Add more detailed documentation on Raku graph package methods</td>\n",
       "  </tr>\n",
       "  <tr>\n",
       "    <td>Black Hat</td>\n",
       "    <td>Judgement and Caution</td>\n",
       "    <td>The presentation is somewhat verbose and occasionally unclear, with some disorganized narration (\"I don’t want to do that\", \"um\", \"so\") that may reduce professionalism and audience engagement. The reliance on random direction assignment for directed graphs may lead to non-reproducible results. The approach to visualization using multiple technologies (JavaScript, SVG, dot) could confuse users unfamiliar with these tools. The integration with Jupyter notebooks and chatbooks might limit accessibility if users lack setup knowledge. Also, the use of large language models for code generation without validation could introduce errors.</td>\n",
       "    <td>Streamline and script the presentation for clarity, Provide reproducible examples with fixed seeds for randomness, Offer setup guides for required environments</td>\n",
       "  </tr>\n",
       "  <tr>\n",
       "    <td>Gray Hat</td>\n",
       "    <td>Cynicism and Skepticism</td>\n",
       "    <td>This presentation feels like a showcase of \"look how many buzzwords and tools I can throw together\" rather than a focused tutorial. The casual language and filler words suggest it might be more of a personal demo than a polished resource. The claim that the code was generated by LLMs but not shown hints at an attempt to impress without transparency. The preference for \"vertex\" over \"node\" is a minor ego stroke disguised as a technical choice. Also, the reliance on dot language’s \"ease\" is subjective and may be overstated.</td>\n",
       "    <td>Disclose LLM code generation explicitly with examples, Adopt a consistent terminology glossary, Provide a more structured and formal walkthrough</td>\n",
       "  </tr>\n",
       "  <tr>\n",
       "    <td>Red Hat</td>\n",
       "    <td>Feelings and Emotion</td>\n",
       "    <td>The presentation feels enthusiastic and passionate about graph theory and Raku programming. The speaker’s excitement about the \"neatest example\" and the visual appeal of colorful graphs is contagious. However, some hesitation and filler words might make the delivery feel less confident. The use of live coding and interactive visualizations likely makes the session engaging and fun, sparking curiosity and interest in the audience. The personal touch (mentioning the date, name) adds warmth but might distract from content focus.</td>\n",
       "    <td>Practice delivery to boost confidence, Incorporate audience interaction or Q&A, Use storytelling to connect concepts emotionally</td>\n",
       "  </tr>\n",
       "  <tr>\n",
       "    <td>Yellow Hat</td>\n",
       "    <td>Benefits and Creativity</td>\n",
       "    <td>This presentation effectively demonstrates the power of combining Raku’s graph processing with modern visualization tools, opening creative ways to explore complex graph properties interactively. The modular approach (using dot language, JavaScript, SVG) offers flexibility for different user preferences. Showcasing bipartite graphs and connected components visually aids understanding and could inspire educational tools. The collage of star graphs is a creative way to visualize multiple graph instances simultaneously, which could be extended to other graph families.</td>\n",
       "    <td>Create interactive tutorials for teaching graph theory, Develop a gallery of graph visualizations for educational use, Extend examples to dynamic or weighted graphs</td>\n",
       "  </tr>\n",
       "  <tr>\n",
       "    <td>Green Hat</td>\n",
       "    <td>Profitability and Potential</td>\n",
       "    <td>This idea has commercial potential in educational technology, providing interactive graph visualization tools for programming and discrete math courses. The integration with Jupyter notebooks and web technologies suggests easy scalability as an online platform or plugin. The use of Raku, though niche, could attract a dedicated developer community. Additionally, automated code generation via LLMs to produce graph examples could be monetized as a productivity tool for educators and researchers.</td>\n",
       "    <td>Develop a SaaS platform for interactive graph visualization and teaching, Package the visualization tools as plugins for popular IDEs or notebooks, Offer consulting or workshops on Raku graph programming</td>\n",
       "  </tr>\n",
       "  <tr>\n",
       "    <td>Blue Hat</td>\n",
       "    <td>Usefulness and Opportunities</td>\n",
       "    <td>The approach is highly useful for learners and developers exploring graph algorithms and visualization. Opportunities exist to expand this by integrating real-world datasets (social networks, transport maps) to demonstrate practical applications. The combination of Raku and JavaScript visualization in Jupyter notebooks is a compelling environment for experimentation. Further, creating seamless workflows between graph creation, analysis, and visualization would enhance productivity and adoption.</td>\n",
       "    <td>Integrate real-world graph datasets for demonstration, Build workflow automation between graph generation and visualization, Add support for interactive graph editing and manipulation</td>\n",
       "  </tr>\n",
       "  <tr>\n",
       "    <td>Purple Hat</td>\n",
       "    <td>Assessment and Direction</td>\n",
       "    <td>Summarizing, the presentation offers solid technical content (White) but needs refinement in delivery and clarity (Black). It risks coming off as unfocused or self-promotional (Gray), though it conveys genuine enthusiasm (Red). The creative use of visualization is promising (Yellow), with clear commercial and practical potential (Green and Blue). The best path forward is to polish the narrative, ensure reproducibility, and expand interactive capabilities while building a structured educational or commercial product around the tools demonstrated.</td>\n",
       "    <td>Refine presentation script and polish delivery, Develop reproducible and documented example sets, Explore productization or educational platform development</td>\n",
       "  </tr>\n",
       "</table>"
      ]
     },
     "execution_count": 10,
     "metadata": {},
     "output_type": "execute_result"
    }
   ],
   "source": [
    "#% markdown\n",
    "$gCombinedSummary.nodes<Report><result>.subst(/'```html' | '```' $/):g"
   ]
  },
  {
   "cell_type": "markdown",
   "id": "1a0a99c7",
   "metadata": {},
   "source": [
    "---\n",
    "\n",
    "## Partial evaluation"
   ]
  },
  {
   "cell_type": "markdown",
   "id": "3dbd5b4a",
   "metadata": {},
   "source": [
    "Drop the results in `LLM::Graph` computed above:"
   ]
  },
  {
   "cell_type": "code",
   "execution_count": 11,
   "id": "b8a78d72",
   "metadata": {},
   "outputs": [
    {
     "data": {
      "text/plain": [
       "LLM::Graph(size => 9, nodes => ExportAndOpen, IngestText, MindMap, Report, Summary, ThinkingHats, Title, TopicsTable, TypeOfInput)"
      ]
     },
     "execution_count": 11,
     "metadata": {},
     "output_type": "execute_result"
    }
   ],
   "source": [
    "$gCombinedSummary.clear"
   ]
  },
  {
   "cell_type": "markdown",
   "id": "175cf587",
   "metadata": {},
   "source": [
    "Here the are normalized nodes without results:"
   ]
  },
  {
   "cell_type": "code",
   "execution_count": 12,
   "id": "b83c399e",
   "metadata": {},
   "outputs": [
    {
     "name": "stdout",
     "output_type": "stream",
     "text": [
      "Title => {eval-function => sub { }, spec-type => (Callable)}\n",
      "Summary => {eval-function => sub { }, spec-type => (Routine), wrapper => Routine::WrapHandle.new}\n",
      "IngestText => {eval-function => sub { }, spec-type => (Callable)}\n",
      "ThinkingHats => {eval-function => sub { }, spec-type => (Routine), wrapper => Routine::WrapHandle.new}\n",
      "TopicsTable => {eval-function => sub { }, spec-type => (Routine), wrapper => Routine::WrapHandle.new}\n",
      "ExportAndOpen => {eval-function => sub { }, spec-type => (Callable), test-function => -> $export-and-open = Bool::True { #`(Block|5522590062304) ... }}\n",
      "TypeOfInput => {eval-function => sub { }, spec-type => (Routine), wrapper => Routine::WrapHandle.new}\n",
      "MindMap => {eval-function => sub { }, spec-type => (Routine), wrapper => Routine::WrapHandle.new}\n",
      "Report => {eval-function => sub { }, spec-type => (Callable)}\n"
     ]
    }
   ],
   "source": [
    ".say for |$gCombinedSummary.nodes"
   ]
  },
  {
   "cell_type": "markdown",
   "id": "bfc7900d",
   "metadata": {},
   "source": [
    "Here all results are pre-assigned as arguments:"
   ]
  },
  {
   "cell_type": "code",
   "execution_count": 13,
   "id": "bd624999",
   "metadata": {},
   "outputs": [
    {
     "data": {
      "text/plain": [
       "LLM::Graph(size => 9, nodes => ExportAndOpen, IngestText, MindMap, Report, Summary, ThinkingHats, Title, TopicsTable, TypeOfInput)"
      ]
     },
     "execution_count": 13,
     "metadata": {},
     "output_type": "execute_result"
    }
   ],
   "source": [
    "$gCombinedSummary.eval($url, \n",
    "with-title => '«Graph» neat examples, set 3', \n",
    ":export-and-open,\n",
    "Summary => 'In brief',\n",
    "TypeOfInput => 'Other',\n",
    "IngestText => 'Ingest text',\n",
    "ThinkingHats => 'Thinking hats',\n",
    "TopicsTable => '[\"TopicsTable\"]',\n",
    "MindMap => 'Mind-map graph',\n",
    ")"
   ]
  },
  {
   "cell_type": "markdown",
   "id": "825d443f",
   "metadata": {},
   "source": [
    "-----\n",
    "\n",
    "## References"
   ]
  },
  {
   "cell_type": "markdown",
   "id": "836740f7",
   "metadata": {},
   "source": [
    "### Blog posts\n",
    "\n",
    "[AA1] Anton Antonov,\n",
    "[\"Parameterized Literate Programming\"](https://rakuforprediction.wordpress.com/2025/06/21/parameterized-literate-programming/),\n",
    "(2025),\n",
    "[RakuForPrediction at WordPress](https://rakuforprediction.wordpress.com).\n",
    "\n",
    "### Notebooks\n",
    "\n",
    "[AAn1] Anton Antonov,\n",
    "[\"LLM comprehensive summary template for large texts\"](https://community.wolfram.com/groups/-/m/t/3448842),\n",
    "(2025),\n",
    "[Wolfram Community](https://community.wolfram.com).\n",
    "\n",
    "### Packages\n",
    "\n",
    "[AAp1] Anton Antonov, \n",
    "[LLM::Graph, Raku package](https://github.com/antononcube/Raku-LLM-Graph),\n",
    "(2025),\n",
    "[GitHub/antononcube](https://github.com/antononcube)."
   ]
  }
 ],
 "metadata": {
  "kernelspec": {
   "display_name": "RakuChatbook",
   "language": "raku",
   "name": "raku"
  },
  "language_info": {
   "file_extension": ".raku",
   "mimetype": "text/x-raku",
   "name": "raku",
   "version": "6.d"
  }
 },
 "nbformat": 4,
 "nbformat_minor": 5
}
