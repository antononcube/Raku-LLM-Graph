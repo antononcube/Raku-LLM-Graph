{
 "cells": [
  {
   "cell_type": "markdown",
   "id": "2ee4231a",
   "metadata": {},
   "source": [
    "# Summarize large text\n",
    "\n",
    "Anton Antonov   \n",
    "August 2025"
   ]
  },
  {
   "cell_type": "markdown",
   "id": "a3db3414",
   "metadata": {},
   "source": [
    "----\n",
    "\n",
    "## Introduction"
   ]
  },
  {
   "cell_type": "markdown",
   "id": "04667c07",
   "metadata": {},
   "source": [
    "This notebook illustrates how to specify a Large Language Model (LLM) graph for deriving comprehensive summaries of large texts. \n",
    "The LLM graph is based on different LLM- and non-LLM functions .\n",
    "The Raku package [\"LLM::Graph\"](https://raku.land/zef:antononcube/LLM::Graph) is used, [AAp1].\n",
    "\n",
    "Using the LLM graph is an alternative to the Literate programming based solutions shown in [AA1, AAn1]."
   ]
  },
  {
   "cell_type": "markdown",
   "id": "0b2920a3",
   "metadata": {},
   "source": [
    "----\n",
    "\n",
    "## Setup"
   ]
  },
  {
   "cell_type": "code",
   "execution_count": 1,
   "id": "3b633650",
   "metadata": {},
   "outputs": [],
   "source": [
    "use LLM::Graph;\n",
    "use Data::Importers;\n",
    "\n",
    "use LLM::Tooling;"
   ]
  },
  {
   "cell_type": "code",
   "execution_count": 2,
   "id": "3e896bcf",
   "metadata": {},
   "outputs": [],
   "source": [
    "sink my $engine = 'neato';"
   ]
  },
  {
   "cell_type": "code",
   "execution_count": 3,
   "id": "9376263c",
   "metadata": {},
   "outputs": [],
   "source": [
    "#sink my $conf = llm-configuration('ChatGPT', model => 'gpt-5-mini')\n",
    "sink my $conf = llm-configuration('ChatGPT', model => 'gpt-4.1-mini', temperature => 0.55, max-tokens => 4096)"
   ]
  },
  {
   "cell_type": "markdown",
   "id": "6a262388",
   "metadata": {},
   "source": [
    "----\n",
    "\n",
    "## LLM graph"
   ]
  },
  {
   "cell_type": "markdown",
   "id": "ce318eca",
   "metadata": {},
   "source": [
    "Specify the LLM graph nodes:"
   ]
  },
  {
   "cell_type": "code",
   "execution_count": 4,
   "id": "a85f40d6",
   "metadata": {},
   "outputs": [],
   "source": [
    "sink my %rules =\n",
    "TypeOfInput => sub ($_) {\n",
    "        \"Determine the input type of\\n\\n$_.\\n\\nThe result should be one of: 'Text', 'URL', 'FilePath', or 'Other'.\"  ~ \n",
    "        llm-prompt('NothingElse')('single string')\n",
    "    },\n",
    "\n",
    "IngestText =>  { eval-function => sub ($TypeOfInput, $_) { $TypeOfInput ~~ / URL | FilePath/ ?? data-import($_) !! $_} },\n",
    "\n",
    "Title => { \n",
    "    eval-function => sub ($IngestText, $with-title = Whatever) { $with-title ~~ Str:D ?? $with-title !! llm-synthesize(llm-prompt(\"TitleSuggest\")($IngestText, 'article')) },\n",
    "},\n",
    "\n",
    "Summary => sub ($IngestText) { llm-prompt(\"Summarize\")() ~ \"\\n\\n$IngestText\" },\n",
    "\n",
    "TopicsTable => sub ($IngestText) { llm-prompt(\"ThemeTableJSON\")($IngestText, 'article', 20) },\n",
    "\n",
    "ThinkingHats => sub ($IngestText) { llm-prompt(\"ThinkingHatsFeedback\")($IngestText, 'HTML') },\n",
    "\n",
    "MindMap => sub ($IngestText) { \n",
    "    [\n",
    "        \"Create a concise mermaid-js mind-map for the text:\",\n",
    "        $IngestText,\n",
    "        \"All node messages should be in quotes.\",\n",
    "        llm-prompt(\"NothingElse\")(\"correct mermaid-js\")\n",
    "    ]\n",
    "},\n",
    "\n",
    "Report => { eval-function => \n",
    "    sub ($Title, $Summary, $TopicsTable, $MindMap, $ThinkingHats) { \n",
    "        [\n",
    "            \"# $Title\",\n",
    "            '### *LLM summary report*',\n",
    "            '## Summary',\n",
    "            $Summary,\n",
    "            '## Topics',\n",
    "            to-html(\n",
    "                from-json($TopicsTable.subst(/ ^ '```json' | '```' $/):g),\n",
    "                field-names => <theme content>,\n",
    "                align => 'left'),\n",
    "            \"## Mind map\",\n",
    "            $MindMap,\n",
    "            '## Thinking hats',\n",
    "            $ThinkingHats.subst(/ ^ '```html' | '```' $/):g\n",
    "        ].join(\"\\n\\n\")\n",
    "    } \n",
    "},\n",
    "\n",
    "ExportAndOpen => {\n",
    "    eval-function => sub ($Report) {\n",
    "       spurt('./Report.md', $Report);\n",
    "       shell \"open ./Report.md\" \n",
    "    },\n",
    "    test-function => -> $export-and-open = True { $export-and-open ~~ Bool:D && $export-and-open || $export-and-open.Str.lc ∈ <true yes open> }\n",
    "}\n",
    ";"
   ]
  },
  {
   "cell_type": "markdown",
   "id": "dea19308",
   "metadata": {},
   "source": [
    "Make the graph:"
   ]
  },
  {
   "cell_type": "code",
   "execution_count": 5,
   "id": "915edfe5",
   "metadata": {},
   "outputs": [
    {
     "data": {
      "text/plain": [
       "LLM::Graph(size => 9, nodes => ExportAndOpen, IngestText, MindMap, Report, Summary, ThinkingHats, Title, TopicsTable, TypeOfInput)"
      ]
     },
     "execution_count": 5,
     "metadata": {},
     "output_type": "execute_result"
    }
   ],
   "source": [
    "my $gCombinedSummary = LLM::Graph.new(%rules, llm-evaluator => $conf, :async)"
   ]
  },
  {
   "cell_type": "markdown",
   "id": "491f8293",
   "metadata": {},
   "source": [
    "----\n",
    "\n",
    "## Full computation"
   ]
  },
  {
   "cell_type": "markdown",
   "id": "3f79931a",
   "metadata": {},
   "source": [
    "URL and text statistics:"
   ]
  },
  {
   "cell_type": "code",
   "execution_count": 6,
   "id": "c29e8b6d",
   "metadata": {},
   "outputs": [
    {
     "data": {
      "text/plain": [
       "(chars => 5861 words => 1158 lines => 156)"
      ]
     },
     "execution_count": 6,
     "metadata": {},
     "output_type": "execute_result"
    }
   ],
   "source": [
    "my $url = 'https://raw.githubusercontent.com/antononcube/RakuForPrediction-blog/refs/heads/main/Data/Graph-neat-examples-in-Raku-Set-3-YouTube.txt';\n",
    "my $txtFocus = data-import($url);\n",
    "\n",
    "text-stats($txtFocus)"
   ]
  },
  {
   "cell_type": "markdown",
   "id": "389c38a4",
   "metadata": {},
   "source": [
    "Computation:"
   ]
  },
  {
   "cell_type": "code",
   "execution_count": 7,
   "id": "64399560",
   "metadata": {},
   "outputs": [
    {
     "data": {
      "text/plain": [
       "LLM::Graph(size => 9, nodes => ExportAndOpen, IngestText, MindMap, Report, Summary, ThinkingHats, Title, TopicsTable, TypeOfInput)"
      ]
     },
     "execution_count": 7,
     "metadata": {},
     "output_type": "execute_result"
    }
   ],
   "source": [
    "$gCombinedSummary.eval($url, with-title => '«Graph» neat examples, set 3')"
   ]
  },
  {
   "cell_type": "markdown",
   "id": "3866e378",
   "metadata": {},
   "source": [
    "**Remark:** Instead of deriving the title using an LLM, the title is specified as an argument."
   ]
  },
  {
   "cell_type": "markdown",
   "id": "8f650a6c",
   "metadata": {},
   "source": [
    "Show the corresponding graph:"
   ]
  },
  {
   "cell_type": "code",
   "execution_count": 8,
   "id": "fa06fc37",
   "metadata": {},
   "outputs": [
    {
     "data": {
      "text/html": [
       "<?xml version=\"1.0\" encoding=\"UTF-8\" standalone=\"no\"?>\n",
       "<!DOCTYPE svg PUBLIC \"-//W3C//DTD SVG 1.1//EN\"\n",
       " \"http://www.w3.org/Graphics/SVG/1.1/DTD/svg11.dtd\">\n",
       "<!-- Generated by graphviz version 12.2.1 (20241206.2353)\n",
       " -->\n",
       "<!-- Pages: 1 -->\n",
       "<svg width=\"702pt\" height=\"318pt\"\n",
       " viewBox=\"0.00 0.00 702.00 317.60\" xmlns=\"http://www.w3.org/2000/svg\" xmlns:xlink=\"http://www.w3.org/1999/xlink\">\n",
       "<g id=\"graph0\" class=\"graph\" transform=\"scale(1 1) rotate(0) translate(4 313.6)\">\n",
       "<polygon fill=\"none\" stroke=\"none\" points=\"-4,4 -4,-313.6 698,-313.6 698,4 -4,4\"/>\n",
       "<g id=\"clust1\" class=\"cluster\">\n",
       "<title>ThinkingHats_Cluster</title>\n",
       "<polygon fill=\"none\" stroke=\"Grey\" stroke-dasharray=\"5,2\" points=\"288,-107.2 288,-144.8 420,-144.8 420,-107.2 288,-107.2\"/>\n",
       "</g>\n",
       "<g id=\"clust2\" class=\"cluster\">\n",
       "<title>TypeOfInput_Cluster</title>\n",
       "<polygon fill=\"none\" stroke=\"Grey\" stroke-dasharray=\"5,2\" points=\"331,-222.4 331,-260 463,-260 463,-222.4 331,-222.4\"/>\n",
       "</g>\n",
       "<g id=\"clust3\" class=\"cluster\">\n",
       "<title>TopicsTable_Cluster</title>\n",
       "<polygon fill=\"none\" stroke=\"Grey\" stroke-dasharray=\"5,2\" points=\"554,-107.2 554,-144.8 686,-144.8 686,-107.2 554,-107.2\"/>\n",
       "</g>\n",
       "<g id=\"clust4\" class=\"cluster\">\n",
       "<title>MindMap_Cluster</title>\n",
       "<polygon fill=\"none\" stroke=\"Grey\" stroke-dasharray=\"5,2\" points=\"8,-107.2 8,-144.8 140,-144.8 140,-107.2 8,-107.2\"/>\n",
       "</g>\n",
       "<g id=\"clust5\" class=\"cluster\">\n",
       "<title>Summary_Cluster</title>\n",
       "<polygon fill=\"none\" stroke=\"Grey\" stroke-dasharray=\"5,2\" points=\"148,-107.2 148,-144.8 280,-144.8 280,-107.2 148,-107.2\"/>\n",
       "</g>\n",
       "<!-- $_ -->\n",
       "<g id=\"node1\" class=\"node\">\n",
       "<title>$_</title>\n",
       "<polygon fill=\"SteelBlue\" stroke=\"Black\" points=\"413.72,-309.6 318.72,-309.6 294.28,-288 389.28,-288 413.72,-309.6\"/>\n",
       "<text text-anchor=\"middle\" x=\"354\" y=\"-294.52\" font-family=\"Times,serif\" font-size=\"12.00\" fill=\"White\">$_</text>\n",
       "</g>\n",
       "<!-- IngestText -->\n",
       "<g id=\"node3\" class=\"node\">\n",
       "<title>IngestText</title>\n",
       "<polygon fill=\"SteelBlue\" stroke=\"Black\" points=\"411.6,-194.4 296.4,-194.4 296.4,-172.8 411.6,-172.8 411.6,-194.4\"/>\n",
       "<text text-anchor=\"middle\" x=\"354\" y=\"-179.32\" font-family=\"Times,serif\" font-size=\"12.00\" fill=\"White\">IngestText</text>\n",
       "</g>\n",
       "<!-- $_&#45;&gt;IngestText -->\n",
       "<g id=\"edge4\" class=\"edge\">\n",
       "<title>$_&#45;&gt;IngestText</title>\n",
       "<path fill=\"none\" stroke=\"DimGrey\" stroke-width=\"0.8\" d=\"M343.97,-287.55C337.76,-280.46 330.35,-270.44 327,-260 321.9,-244.09 321.9,-238.31 327,-222.4 329.14,-215.71 332.96,-209.19 337.05,-203.51\"/>\n",
       "<polygon fill=\"DimGrey\" stroke=\"DimGrey\" stroke-width=\"0.8\" points=\"339.71,-205.79 343.21,-195.79 334.24,-201.42 339.71,-205.79\"/>\n",
       "</g>\n",
       "<!-- TypeOfInput -->\n",
       "<g id=\"node10\" class=\"node\">\n",
       "<title>TypeOfInput</title>\n",
       "<ellipse fill=\"SteelBlue\" stroke=\"Black\" cx=\"397\" cy=\"-241.2\" rx=\"57.6\" ry=\"10.8\"/>\n",
       "<text text-anchor=\"middle\" x=\"397\" y=\"-236.92\" font-family=\"Times,serif\" font-size=\"12.00\" fill=\"White\">TypeOfInput</text>\n",
       "</g>\n",
       "<!-- $_&#45;&gt;TypeOfInput -->\n",
       "<g id=\"edge3\" class=\"edge\">\n",
       "<title>$_&#45;&gt;TypeOfInput</title>\n",
       "<path fill=\"none\" stroke=\"DimGrey\" stroke-width=\"0.8\" d=\"M361.89,-287.6C367.65,-280.16 375.62,-269.85 382.51,-260.94\"/>\n",
       "<polygon fill=\"DimGrey\" stroke=\"DimGrey\" stroke-width=\"0.8\" points=\"385.07,-263.34 388.42,-253.29 379.54,-259.06 385.07,-263.34\"/>\n",
       "</g>\n",
       "<!-- ExportAndOpen -->\n",
       "<g id=\"node2\" class=\"node\">\n",
       "<title>ExportAndOpen</title>\n",
       "<polygon fill=\"SteelBlue\" stroke=\"Black\" points=\"411.6,-21.6 296.4,-21.6 296.4,0 411.6,0 411.6,-21.6\"/>\n",
       "<text text-anchor=\"middle\" x=\"354\" y=\"-6.52\" font-family=\"Times,serif\" font-size=\"12.00\" fill=\"White\">ExportAndOpen</text>\n",
       "</g>\n",
       "<!-- MindMap -->\n",
       "<g id=\"node4\" class=\"node\">\n",
       "<title>MindMap</title>\n",
       "<ellipse fill=\"SteelBlue\" stroke=\"Black\" cx=\"74\" cy=\"-126\" rx=\"57.6\" ry=\"10.8\"/>\n",
       "<text text-anchor=\"middle\" x=\"74\" y=\"-121.72\" font-family=\"Times,serif\" font-size=\"12.00\" fill=\"White\">MindMap</text>\n",
       "</g>\n",
       "<!-- IngestText&#45;&gt;MindMap -->\n",
       "<g id=\"edge9\" class=\"edge\">\n",
       "<title>IngestText&#45;&gt;MindMap</title>\n",
       "<path fill=\"none\" stroke=\"DimGrey\" stroke-width=\"0.8\" d=\"M296.29,-173.35C253.98,-166.29 195.23,-155.91 144,-144.8 134.94,-142.84 125.27,-140.52 116.11,-138.22\"/>\n",
       "<polygon fill=\"DimGrey\" stroke=\"DimGrey\" stroke-width=\"0.8\" points=\"116.98,-134.83 106.42,-135.75 115.25,-141.61 116.98,-134.83\"/>\n",
       "</g>\n",
       "<!-- Summary -->\n",
       "<g id=\"node6\" class=\"node\">\n",
       "<title>Summary</title>\n",
       "<ellipse fill=\"SteelBlue\" stroke=\"Black\" cx=\"214\" cy=\"-126\" rx=\"57.6\" ry=\"10.8\"/>\n",
       "<text text-anchor=\"middle\" x=\"214\" y=\"-121.72\" font-family=\"Times,serif\" font-size=\"12.00\" fill=\"White\">Summary</text>\n",
       "</g>\n",
       "<!-- IngestText&#45;&gt;Summary -->\n",
       "<g id=\"edge10\" class=\"edge\">\n",
       "<title>IngestText&#45;&gt;Summary</title>\n",
       "<path fill=\"none\" stroke=\"DimGrey\" stroke-width=\"0.8\" d=\"M328.32,-172.4C305.63,-163.39 272.38,-150.19 247.58,-140.34\"/>\n",
       "<polygon fill=\"DimGrey\" stroke=\"DimGrey\" stroke-width=\"0.8\" points=\"248.9,-137.1 238.32,-136.66 246.32,-143.6 248.9,-137.1\"/>\n",
       "</g>\n",
       "<!-- ThinkingHats -->\n",
       "<g id=\"node7\" class=\"node\">\n",
       "<title>ThinkingHats</title>\n",
       "<ellipse fill=\"SteelBlue\" stroke=\"Black\" cx=\"354\" cy=\"-126\" rx=\"57.6\" ry=\"10.8\"/>\n",
       "<text text-anchor=\"middle\" x=\"354\" y=\"-121.72\" font-family=\"Times,serif\" font-size=\"12.00\" fill=\"White\">ThinkingHats</text>\n",
       "</g>\n",
       "<!-- IngestText&#45;&gt;ThinkingHats -->\n",
       "<g id=\"edge7\" class=\"edge\">\n",
       "<title>IngestText&#45;&gt;ThinkingHats</title>\n",
       "<path fill=\"none\" stroke=\"DimGrey\" stroke-width=\"0.8\" d=\"M354,-172.4C354,-165.66 354,-156.58 354,-148.3\"/>\n",
       "<polygon fill=\"DimGrey\" stroke=\"DimGrey\" stroke-width=\"0.8\" points=\"357.5,-148.34 354,-138.34 350.5,-148.34 357.5,-148.34\"/>\n",
       "</g>\n",
       "<!-- Title -->\n",
       "<g id=\"node8\" class=\"node\">\n",
       "<title>Title</title>\n",
       "<polygon fill=\"SteelBlue\" stroke=\"Black\" points=\"544.6,-136.8 429.4,-136.8 429.4,-115.2 544.6,-115.2 544.6,-136.8\"/>\n",
       "<text text-anchor=\"middle\" x=\"487\" y=\"-121.72\" font-family=\"Times,serif\" font-size=\"12.00\" fill=\"White\">Title</text>\n",
       "</g>\n",
       "<!-- IngestText&#45;&gt;Title -->\n",
       "<g id=\"edge11\" class=\"edge\">\n",
       "<title>IngestText&#45;&gt;Title</title>\n",
       "<path fill=\"none\" stroke=\"DimGrey\" stroke-width=\"0.8\" d=\"M378.39,-172.4C399.2,-163.7 429.36,-151.1 452.62,-141.37\"/>\n",
       "<polygon fill=\"DimGrey\" stroke=\"DimGrey\" stroke-width=\"0.8\" points=\"453.77,-144.69 461.64,-137.6 451.07,-138.23 453.77,-144.69\"/>\n",
       "</g>\n",
       "<!-- TopicsTable -->\n",
       "<g id=\"node9\" class=\"node\">\n",
       "<title>TopicsTable</title>\n",
       "<ellipse fill=\"SteelBlue\" stroke=\"Black\" cx=\"620\" cy=\"-126\" rx=\"57.6\" ry=\"10.8\"/>\n",
       "<text text-anchor=\"middle\" x=\"620\" y=\"-121.72\" font-family=\"Times,serif\" font-size=\"12.00\" fill=\"White\">TopicsTable</text>\n",
       "</g>\n",
       "<!-- IngestText&#45;&gt;TopicsTable -->\n",
       "<g id=\"edge8\" class=\"edge\">\n",
       "<title>IngestText&#45;&gt;TopicsTable</title>\n",
       "<path fill=\"none\" stroke=\"DimGrey\" stroke-width=\"0.8\" d=\"M412.01,-172.85C452.06,-165.82 506.47,-155.69 554,-144.8 562.2,-142.92 570.93,-140.72 579.25,-138.51\"/>\n",
       "<polygon fill=\"DimGrey\" stroke=\"DimGrey\" stroke-width=\"0.8\" points=\"579.98,-141.94 588.72,-135.96 578.16,-135.18 579.98,-141.94\"/>\n",
       "</g>\n",
       "<!-- Report -->\n",
       "<g id=\"node5\" class=\"node\">\n",
       "<title>Report</title>\n",
       "<polygon fill=\"SteelBlue\" stroke=\"Black\" points=\"411.6,-79.2 296.4,-79.2 296.4,-57.6 411.6,-57.6 411.6,-79.2\"/>\n",
       "<text text-anchor=\"middle\" x=\"354\" y=\"-64.12\" font-family=\"Times,serif\" font-size=\"12.00\" fill=\"White\">Report</text>\n",
       "</g>\n",
       "<!-- MindMap&#45;&gt;Report -->\n",
       "<g id=\"edge2\" class=\"edge\">\n",
       "<title>MindMap&#45;&gt;Report</title>\n",
       "<path fill=\"none\" stroke=\"DimGrey\" stroke-width=\"0.8\" d=\"M105.25,-116.55C117.31,-113.42 131.26,-109.96 144,-107.2 190.92,-97.02 244.17,-87.46 285.3,-80.5\"/>\n",
       "<polygon fill=\"DimGrey\" stroke=\"DimGrey\" stroke-width=\"0.8\" points=\"285.82,-83.96 295.1,-78.85 284.66,-77.06 285.82,-83.96\"/>\n",
       "</g>\n",
       "<!-- Report&#45;&gt;ExportAndOpen -->\n",
       "<g id=\"edge6\" class=\"edge\">\n",
       "<title>Report&#45;&gt;ExportAndOpen</title>\n",
       "<path fill=\"none\" stroke=\"DimGrey\" stroke-width=\"0.8\" d=\"M354,-57.2C354,-50.46 354,-41.38 354,-33.1\"/>\n",
       "<polygon fill=\"DimGrey\" stroke=\"DimGrey\" stroke-width=\"0.8\" points=\"357.5,-33.14 354,-23.14 350.5,-33.14 357.5,-33.14\"/>\n",
       "</g>\n",
       "<!-- Summary&#45;&gt;Report -->\n",
       "<g id=\"edge5\" class=\"edge\">\n",
       "<title>Summary&#45;&gt;Report</title>\n",
       "<path fill=\"none\" stroke=\"DimGrey\" stroke-width=\"0.8\" d=\"M237.43,-115.69C259.36,-106.98 292.46,-93.84 317.79,-83.78\"/>\n",
       "<polygon fill=\"DimGrey\" stroke=\"DimGrey\" stroke-width=\"0.8\" points=\"318.98,-87.07 326.99,-80.13 316.4,-80.57 318.98,-87.07\"/>\n",
       "</g>\n",
       "<!-- ThinkingHats&#45;&gt;Report -->\n",
       "<g id=\"edge1\" class=\"edge\">\n",
       "<title>ThinkingHats&#45;&gt;Report</title>\n",
       "<path fill=\"none\" stroke=\"DimGrey\" stroke-width=\"0.8\" d=\"M354,-114.8C354,-108.06 354,-98.98 354,-90.7\"/>\n",
       "<polygon fill=\"DimGrey\" stroke=\"DimGrey\" stroke-width=\"0.8\" points=\"357.5,-90.74 354,-80.74 350.5,-90.74 357.5,-90.74\"/>\n",
       "</g>\n",
       "<!-- Title&#45;&gt;Report -->\n",
       "<g id=\"edge13\" class=\"edge\">\n",
       "<title>Title&#45;&gt;Report</title>\n",
       "<path fill=\"none\" stroke=\"DimGrey\" stroke-width=\"0.8\" d=\"M462.61,-114.8C441.8,-106.1 411.64,-93.5 388.38,-83.77\"/>\n",
       "<polygon fill=\"DimGrey\" stroke=\"DimGrey\" stroke-width=\"0.8\" points=\"389.93,-80.63 379.36,-80 387.23,-87.09 389.93,-80.63\"/>\n",
       "</g>\n",
       "<!-- TopicsTable&#45;&gt;Report -->\n",
       "<g id=\"edge12\" class=\"edge\">\n",
       "<title>TopicsTable&#45;&gt;Report</title>\n",
       "<path fill=\"none\" stroke=\"DimGrey\" stroke-width=\"0.8\" d=\"M589.89,-116.36C578.67,-113.28 565.8,-109.9 554,-107.2 510.55,-97.25 461.36,-87.93 422.64,-81.03\"/>\n",
       "<polygon fill=\"DimGrey\" stroke=\"DimGrey\" stroke-width=\"0.8\" points=\"423.66,-77.66 413.2,-79.36 422.44,-84.55 423.66,-77.66\"/>\n",
       "</g>\n",
       "<!-- TypeOfInput&#45;&gt;IngestText -->\n",
       "<g id=\"edge14\" class=\"edge\">\n",
       "<title>TypeOfInput&#45;&gt;IngestText</title>\n",
       "<path fill=\"none\" stroke=\"DimGrey\" stroke-width=\"0.8\" d=\"M389.31,-230.26C383.58,-222.84 375.56,-212.48 368.62,-203.5\"/>\n",
       "<polygon fill=\"DimGrey\" stroke=\"DimGrey\" stroke-width=\"0.8\" points=\"371.54,-201.56 362.65,-195.79 366,-205.84 371.54,-201.56\"/>\n",
       "</g>\n",
       "</g>\n",
       "</svg>\n"
      ]
     },
     "execution_count": 8,
     "metadata": {},
     "output_type": "execute_result"
    }
   ],
   "source": [
    "#% html\n",
    "$gCombinedSummary.dot(node-width => 1.6, edge-color => 'DimGrey', edge-width => 0.8):svg"
   ]
  },
  {
   "cell_type": "markdown",
   "id": "e5d0ed00",
   "metadata": {},
   "source": [
    "Final result:"
   ]
  },
  {
   "cell_type": "code",
   "execution_count": 9,
   "id": "be73ed90",
   "metadata": {},
   "outputs": [
    {
     "data": {
      "text/markdown": [
       "# Visualizing Nested and File System Graphs in Raku: Practical Examples Using the Graph and Puffs Packages with JavaScript Rendering\n",
       "\n",
       "### *LLM summary report*\n",
       "\n",
       "## Summary\n",
       "\n",
       "The presentation titled \"Graph Neat Examples in Raku\" by Anton Antonov demonstrates the use of the Raku package \"Graph\" to create nested and file system graphs with visualizations via JavaScript libraries like D3.js and FreeGS. Nested graphs are generated by applying functions repeatedly to values, producing symbolic representations and directed or undirected graphs, while file system graphs visualize directory structures using data from packages like Puffs. The examples include practical applications such as visualizing Mathematica notebooks and Raku documentation files, showcasing graph plotting and manipulation techniques.\n",
       "\n",
       "## Topics\n",
       "\n",
       "<table border=\"1\"><thead><tr><th>theme</th><th>content</th></tr></thead><tbody><tr><td align=left>Introduction and Overview</td><td align=left>Presentation title, date, speaker introduction, and overview of neat examples in Raku with graph visualizations.</td></tr><tr><td align=left>Graph Package and Visualization Tools</td><td align=left>Description of Raku graph package and visualization using JavaScript libraries d3js and GraphVis framework.</td></tr><tr><td align=left>Nested Graphs Basic Examples</td><td align=left>Explanation of nested graphs using function application, graph nested class, and symbolic representation.</td></tr><tr><td align=left>Nested Graphs with Two Functions</td><td align=left>Applying two functions to initial value and visualizing nested graph with JavaScript and SVG.</td></tr><tr><td align=left>Mod Graph Example</td><td align=left>Mod graph creation by squaring, adding one, taking mod, producing directed graph with vertices 0 to 9.</td></tr><tr><td align=left>Range Graph Example</td><td align=left>Range graph demonstrating nesting steps, directed vs undirected graph, and vertex in/out degree calculations.</td></tr><tr><td align=left>Visualization Challenges</td><td align=left>Discussion on complexity and visualization challenges of busy graphs using JavaScript rendering.</td></tr><tr><td align=left>File System Graphs with Puffs Package</td><td align=left>Using Puffs to graph Mathematica notebooks directory structure with circular embedding and file types.</td></tr><tr><td align=left>File System Graphs of Raku Documentation</td><td align=left>Graphing Raku doc files from GitHub repo, force display layout, and node interaction challenges.</td></tr><tr><td align=left>Conclusion</td><td align=left>Final remarks and demonstration of returning to original plot, closing the presentation.</td></tr></tbody></table>\n",
       "\n",
       "## Mind map\n",
       "\n",
       "```mermaid\n",
       "mindmap\n",
       "  root(( \"Graph Neat Presentation\" ))\n",
       "    subgraph \"Introduction\"\n",
       "      title(\"Title: Graph Neat\")\n",
       "      presenter(\"Presenter: Anton Antonov\")\n",
       "      date(\"Date: November 28th, 2024\")\n",
       "      description(\"Neat examples: concise code with compelling visual/textual output\")\n",
       "      package(\"Using ru package graph\")\n",
       "      visualization(\"Visualization: JavaScript libraries d3js, freGS, graphVis (SVG)\")\n",
       "    end\n",
       "    subgraph \"Nested Graphs Examples\"\n",
       "      basic(\"Basic nested graphs\")\n",
       "      basic --> nestedClass(\"Use graph nested class\")\n",
       "      nestedClass --> args(\"Args: function, initial value, number of applications\")\n",
       "      example1(\"Example: square function applied multiple times\")\n",
       "      example2(\"Example: two functions f and g applied\")\n",
       "      svgDisplay(\"SVG display using JavaScript and freGS\")\n",
       "      modGraph(\"Mod graph: vertex value transformed by (x² + 1) mod 10\")\n",
       "      rangeGraph(\"Range graph: demonstrate one-step and two-step nesting\")\n",
       "      rangeGraph --> properties(\"Directed/undirected graph, vertex in-degree/out-degree\")\n",
       "      visualizationBusy(\"Busy graph visualization with freGS\")\n",
       "    end\n",
       "    subgraph \"File System Graphs\"\n",
       "      packagePuffs(\"Using package Puffs\")\n",
       "      source1(\"Mathematica notebooks directory\")\n",
       "      process1(\"Split directories and files, create edges from root down\")\n",
       "      stats1(\"186 files and edges\")\n",
       "      circularEmbedding(\"Circular embedding visualization\")\n",
       "      showFilenames(\"Show file names (CSV, ZIP, NB)\")\n",
       "      source2(\"Raku doc files from GitHub clone\")\n",
       "      graph2(\"Graph with force display, squashed layout\")\n",
       "      nodeNames(\"Show node names (comp unit, hash Raku doc, etc.)\")\n",
       "      interaction(\"Nodes can be moved for better visibility\")\n",
       "    end\n",
       "    subgraph \"Conclusion\"\n",
       "      lastExample(\"Last neat example\")\n",
       "      thanks(\"Thank you\")\n",
       "    end\n",
       "```\n",
       "\n",
       "## Thinking hats\n",
       "\n",
       "<table border=\"1\" cellpadding=\"5\" cellspacing=\"0\">\n",
       "<tr>\n",
       "<th>Hat Name</th>\n",
       "<th>Perspective</th>\n",
       "<th>Feedback</th>\n",
       "<th>New Ideas</th>\n",
       "</tr>\n",
       "<tr>\n",
       "<td>White Hat</td>\n",
       "<td>Information and Facts</td>\n",
       "<td>The presentation clearly explains the use of the Raku package `Graph` and its visualization via JavaScript libraries such as D3.js and `freGS`. It covers nested graphs, mod graphs, range graphs, and file system graphs with concrete examples and code snippets. The explanation includes graph properties like vertex in-degree and out-degree, and the use of different embedding and rendering techniques. The factual content is accurate and well-structured, providing both conceptual and practical insights into graph construction and visualization in Raku.</td>\n",
       "<td>Include performance metrics or benchmarks of graph rendering for large datasets, Add comparisons with alternative graph visualization tools in Raku or other languages, Provide links to official documentation or tutorials for the packages used.</td>\n",
       "</tr>\n",
       "<tr>\n",
       "<td>Black Hat</td>\n",
       "<td>Judgement and Caution</td>\n",
       "<td>The presentation assumes familiarity with Raku and JavaScript, which may alienate beginners. The examples, especially the nested and mod graphs, may be too abstract or complex without more detailed explanations. The visualizations are described as \"busy\" and \"not very nice,\" indicating potential usability issues. There is also a risk that relying on older frameworks like GraphViz might limit modern capabilities or performance. Handling large graphs (e.g., 186 files) could lead to cluttered visuals and slow rendering.</td>\n",
       "<td>Provide more beginner-friendly explanations or tutorials, Simplify or break down complex examples into smaller parts, Explore modern or alternative graph visualization frameworks for better performance and clarity.</td>\n",
       "</tr>\n",
       "<tr>\n",
       "<td>Gray Hat</td>\n",
       "<td>Cynicism and Skepticism</td>\n",
       "<td>This presentation risks being another \"tech demo\" that impresses with complexity but lacks practical impact. The use of multiple layers of abstraction (Raku, JavaScript, SVG, GraphViz) might be a convoluted way to solve problems that simpler tools could address. The heavy reliance on niche packages and old frameworks may reflect an agenda to promote Raku-specific tools rather than universally useful solutions. Also, the emphasis on \"neat\" code could mask the difficulty in maintaining or extending these graphs in real projects.</td>\n",
       "<td>Question the necessity of the multi-layered tech stack, Investigate if the visualization approach is more about showcasing Raku than solving real-world problems, Consider streamlining the toolchain to focus on usability and maintainability.</td>\n",
       "</tr>\n",
       "<tr>\n",
       "<td>Red Hat</td>\n",
       "<td>Feelings and Emotion</td>\n",
       "<td>The presentation feels enthusiastic and passionate about Raku and graph visualization, which is engaging. However, the complexity and technical jargon might overwhelm some listeners. The visual outputs, while \"compelling,\" could cause frustration if they are cluttered or hard to interpret. The speaker’s tone is somewhat informal and hesitant at times (\"probably,\" \"should have\"), which may reduce confidence in the material. Overall, the emotional tone conveys excitement but could benefit from more clarity and assurance.</td>\n",
       "<td>Use more confident and clear language to build trust, Include more visuals or live demos to engage the audience emotionally, Add anecdotes or real-world use cases to connect emotionally with users.</td>\n",
       "</tr>\n",
       "<tr>\n",
       "<td>Yellow Hat</td>\n",
       "<td>Benefits and Creativity</td>\n",
       "<td>This presentation offers a creative way to visualize complex graph structures using Raku, bridging coding and graphical representation effectively. The use of nested functions and modular graph construction is innovative and showcases Raku's expressive power. Visualizing file systems as graphs is a compelling idea that can aid in understanding directory structures and dependencies. The integration with JavaScript libraries opens opportunities for interactive and dynamic graph exploration.</td>\n",
       "<td>Expand interactivity in visualizations (e.g., zoom, filter, highlight), Develop educational tools to teach graph theory using these examples, Create templates for common graph types to speed up usage.</td>\n",
       "</tr>\n",
       "<tr>\n",
       "<td>Green Hat</td>\n",
       "<td>Profitability and Potential</td>\n",
       "<td>The idea has potential in niche markets such as software visualization, educational tools, and data analysis within Raku communities. There is room to monetize by offering enhanced visualization packages, consulting on graph-based data representation, or creating commercial plugins for popular IDEs. Given the growing interest in graph databases and network analysis, a polished and user-friendly Raku graph visualization toolkit could attract paying users or sponsors.</td>\n",
       "<td>Package the tools as a commercial Raku visualization suite, Offer training workshops or webinars on graph visualization in Raku, Develop integrations with enterprise graph databases for added value.</td>\n",
       "</tr>\n",
       "<tr>\n",
       "<td>Blue Hat</td>\n",
       "<td>Usefulness and Opportunities</td>\n",
       "<td>The presentation’s approach is useful for developers and researchers needing to visualize functional transformations, file systems, or complex relationships programmatically. Opportunities exist to extend the toolkit for real-time data visualization, debugging code flows, or mapping dependencies in large projects. The file system graph visualization could be expanded to monitor file changes or permissions, providing practical benefits beyond static images.</td>\n",
       "<td>Add real-time or dynamic graph update capabilities, Integrate with version control systems to visualize commit histories, Develop plugins for IDEs to visualize code dependencies on the fly.</td>\n",
       "</tr>\n",
       "<tr>\n",
       "<td>Purple Hat</td>\n",
       "<td>Assessment and Direction</td>\n",
       "<td>Summarizing the perspectives, the idea is technically solid and creatively promising but needs refinement for usability and clarity. The skepticism and caution highlight the need for simplification and modern tooling. Emotional feedback suggests enhancing confidence and engagement. The potential for profitability and usefulness is clear, especially if the toolkit is expanded with interactive and real-time features. Directionally, focusing on user experience improvements, clearer documentation, and exploring commercial applications would strengthen the project.</td>\n",
       "<td>Focus on improving visualization clarity and interactivity, Develop beginner-friendly tutorials and documentation, Explore commercial and educational applications to broaden impact.</td>\n",
       "</tr>\n",
       "</table>"
      ]
     },
     "execution_count": 9,
     "metadata": {},
     "output_type": "execute_result"
    }
   ],
   "source": [
    "#% markdown\n",
    "$gCombinedSummary.nodes<Report><result>.subst(/'```html' | '```' $/):g"
   ]
  },
  {
   "cell_type": "markdown",
   "id": "1a0a99c7",
   "metadata": {},
   "source": [
    "---\n",
    "\n",
    "## Partial evaluation"
   ]
  },
  {
   "cell_type": "markdown",
   "id": "3dbd5b4a",
   "metadata": {},
   "source": [
    "Drop the results in `LLM::Graph` computed above:"
   ]
  },
  {
   "cell_type": "code",
   "execution_count": 10,
   "id": "b8a78d72",
   "metadata": {},
   "outputs": [
    {
     "data": {
      "text/plain": [
       "LLM::Graph(size => 9, nodes => ExportAndOpen, IngestText, MindMap, Report, Summary, ThinkingHats, Title, TopicsTable, TypeOfInput)"
      ]
     },
     "execution_count": 10,
     "metadata": {},
     "output_type": "execute_result"
    }
   ],
   "source": [
    "$gCombinedSummary.drop-result"
   ]
  },
  {
   "cell_type": "markdown",
   "id": "175cf587",
   "metadata": {},
   "source": [
    "Here the are normalized nodes without results:"
   ]
  },
  {
   "cell_type": "code",
   "execution_count": 11,
   "id": "b83c399e",
   "metadata": {},
   "outputs": [
    {
     "name": "stdout",
     "output_type": "stream",
     "text": [
      "ThinkingHats => {eval-function => sub { }, input => [IngestText], spec-type => (Routine), test-function-input => [], wrapper => Routine::WrapHandle.new}\n",
      "Title => {eval-function => sub { }, input => [IngestText], spec-type => (Callable), test-function-input => []}\n",
      "TypeOfInput => {eval-function => sub { }, input => [$_], spec-type => (Routine), test-function-input => [], wrapper => Routine::WrapHandle.new}\n",
      "Report => {eval-function => sub { }, input => [Title MindMap Summary TopicsTable ThinkingHats], spec-type => (Callable), test-function-input => []}\n",
      "TopicsTable => {eval-function => sub { }, input => [IngestText], spec-type => (Routine), test-function-input => [], wrapper => Routine::WrapHandle.new}\n",
      "MindMap => {eval-function => sub { }, input => [IngestText], spec-type => (Routine), test-function-input => [], wrapper => Routine::WrapHandle.new}\n",
      "IngestText => {eval-function => sub { }, input => [TypeOfInput $_], spec-type => (Callable), test-function-input => []}\n",
      "ExportAndOpen => {eval-function => sub { }, input => [Report], spec-type => (Callable), test-function => -> $export-and-open = Bool::True { #`(Block|2726259317880) ... }, test-function-input => [], test-function-result => True}\n",
      "Summary => {eval-function => sub { }, input => [IngestText], spec-type => (Routine), test-function-input => [], wrapper => Routine::WrapHandle.new}\n"
     ]
    }
   ],
   "source": [
    ".say for |$gCombinedSummary.nodes"
   ]
  },
  {
   "cell_type": "markdown",
   "id": "bfc7900d",
   "metadata": {},
   "source": [
    "Here all results are pre-assigned as arguments:"
   ]
  },
  {
   "cell_type": "code",
   "execution_count": 12,
   "id": "bd624999",
   "metadata": {},
   "outputs": [
    {
     "data": {
      "text/plain": [
       "LLM::Graph(size => 9, nodes => ExportAndOpen, IngestText, MindMap, Report, Summary, ThinkingHats, Title, TopicsTable, TypeOfInput)"
      ]
     },
     "execution_count": 12,
     "metadata": {},
     "output_type": "execute_result"
    }
   ],
   "source": [
    "$gCombinedSummary.eval($url, \n",
    "with-title => '«Graph» neat examples, set 3', \n",
    ":export-and-open,\n",
    "Summary => 'In brief',\n",
    "TypeOfInput => 'Other',\n",
    "IngestText => 'Ingest text',\n",
    "ThinkingHats => 'Thinking hats',\n",
    "TopicsTable => '[\"TopicsTable\"]',\n",
    "MindMap => 'Mind-map graph',\n",
    ")"
   ]
  },
  {
   "cell_type": "markdown",
   "id": "825d443f",
   "metadata": {},
   "source": [
    "-----\n",
    "\n",
    "## References"
   ]
  },
  {
   "cell_type": "markdown",
   "id": "836740f7",
   "metadata": {},
   "source": [
    "### Blog posts\n",
    "\n",
    "[AA1] Anton Antonov,\n",
    "[\"Parameterized Literate Programming\"](https://rakuforprediction.wordpress.com/2025/06/21/parameterized-literate-programming/),\n",
    "(2025),\n",
    "[RakuForPrediction at WordPress](https://rakuforprediction.wordpress.com).\n",
    "\n",
    "### Notebooks\n",
    "\n",
    "[AAn1] Anton Antonov,\n",
    "[\"LLM comprehensive summary template for large texts\"](https://community.wolfram.com/groups/-/m/t/3448842),\n",
    "(2025),\n",
    "[Wolfram Community](https://community.wolfram.com).\n",
    "\n",
    "### Packages\n",
    "\n",
    "[AAp1] Anton Antonov, \n",
    "[LLM::Graph, Raku package](https://github.com/antononcube/Raku-LLM-Graph),\n",
    "(2025),\n",
    "[GitHub/antononcube](https://github.com/antononcube)."
   ]
  }
 ],
 "metadata": {
  "kernelspec": {
   "display_name": "RakuChatbook",
   "language": "raku",
   "name": "raku"
  },
  "language_info": {
   "file_extension": ".raku",
   "mimetype": "text/x-raku",
   "name": "raku",
   "version": "6.d"
  }
 },
 "nbformat": 4,
 "nbformat_minor": 5
}
